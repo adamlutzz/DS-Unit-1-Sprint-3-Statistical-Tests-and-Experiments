{
  "nbformat": 4,
  "nbformat_minor": 0,
  "metadata": {
    "kernelspec": {
      "display_name": "Python 3",
      "language": "python",
      "name": "python3"
    },
    "language_info": {
      "codemirror_mode": {
        "name": "ipython",
        "version": 3
      },
      "file_extension": ".py",
      "mimetype": "text/x-python",
      "name": "python",
      "nbconvert_exporter": "python",
      "pygments_lexer": "ipython3",
      "version": "3.7.3"
    },
    "colab": {
      "name": "LS_DS_131_Statistics_Probability_Assignment.ipynb",
      "version": "0.3.2",
      "provenance": [],
      "include_colab_link": true
    }
  },
  "cells": [
    {
      "cell_type": "markdown",
      "metadata": {
        "id": "view-in-github",
        "colab_type": "text"
      },
      "source": [
        "<a href=\"https://colab.research.google.com/github/adamlutzz/DS-Unit-1-Sprint-3-Statistical-Tests-and-Experiments/blob/master/module1-statistics-probability-and-inference/LS_DS_131_Statistics_Probability_Assignment.ipynb\" target=\"_parent\"><img src=\"https://colab.research.google.com/assets/colab-badge.svg\" alt=\"Open In Colab\"/></a>"
      ]
    },
    {
      "cell_type": "markdown",
      "metadata": {
        "id": "dy-4DYxhoruF",
        "colab_type": "text"
      },
      "source": [
        "<img align=\"left\" src=\"https://lever-client-logos.s3.amazonaws.com/864372b1-534c-480e-acd5-9711f850815c-1524247202159.png\" width=200>\n",
        "<br></br>\n",
        "<br></br>\n",
        "\n",
        "## *Data Science Unit 1 Sprint 3 Assignment 1*\n",
        "\n",
        "# Apply the t-test to real data\n",
        "\n",
        "Your assignment is to determine which issues have \"statistically significant\" differences between political parties in this [1980s congressional voting data](https://archive.ics.uci.edu/ml/datasets/Congressional+Voting+Records). The data consists of 435 instances (one for each congressperson), a class (democrat or republican), and 16 binary attributes (yes or no for voting for or against certain issues). Be aware - there are missing values!\n",
        "\n",
        "Your goals:\n",
        "\n",
        "1. Load and clean the data (or determine the best method to drop observations when running tests)\n",
        "2. Using hypothesis testing, find an issue that democrats support more than republicans with p < 0.01\n",
        "3. Using hypothesis testing, find an issue that republicans support more than democrats with p < 0.01\n",
        "4. Using hypothesis testing, find an issue where the difference between republicans and democrats has p > 0.1 (i.e. there may not be much of a difference)\n",
        "\n",
        "Note that this data will involve *2 sample* t-tests, because you're comparing averages across two groups (republicans and democrats) rather than a single group against a null hypothesis.\n",
        "\n",
        "Stretch goals:\n",
        "\n",
        "1. Refactor your code into functions so it's easy to rerun with arbitrary variables\n",
        "2. Apply hypothesis testing to your personal project data (for the purposes of this notebook you can type a summary of the hypothesis you formed and tested)"
      ]
    },
    {
      "cell_type": "markdown",
      "metadata": {
        "id": "G_e5A2RJ4Y45",
        "colab_type": "text"
      },
      "source": [
        "## Load DataSet"
      ]
    },
    {
      "cell_type": "code",
      "metadata": {
        "id": "0pxWroxForuH",
        "colab_type": "code",
        "colab": {}
      },
      "source": [
        "import pandas as pd\n",
        "import numpy as np\n",
        "import matplotlib.pyplot as plt"
      ],
      "execution_count": 0,
      "outputs": []
    },
    {
      "cell_type": "code",
      "metadata": {
        "id": "eY07t6laqBLV",
        "colab_type": "code",
        "outputId": "7b7cb11b-c619-48f1-a33b-a728f0c5eddc",
        "colab": {
          "base_uri": "https://localhost:8080/",
          "height": 1000
        }
      },
      "source": [
        "!curl https://archive.ics.uci.edu/ml/machine-learning-databases/voting-records/house-votes-84.names"
      ],
      "execution_count": 3,
      "outputs": [
        {
          "output_type": "stream",
          "text": [
            "1. Title: 1984 United States Congressional Voting Records Database\n",
            "\n",
            "2. Source Information:\n",
            "    (a) Source:  Congressional Quarterly Almanac, 98th Congress, \n",
            "                 2nd session 1984, Volume XL: Congressional Quarterly Inc. \n",
            "                 Washington, D.C., 1985.\n",
            "    (b) Donor: Jeff Schlimmer (Jeffrey.Schlimmer@a.gp.cs.cmu.edu)\n",
            "    (c) Date: 27 April 1987 \n",
            "\n",
            "3. Past Usage\n",
            "   - Publications\n",
            "     1. Schlimmer, J. C. (1987).  Concept acquisition through \n",
            "        representational adjustment.  Doctoral dissertation, Department of \n",
            "        Information and Computer Science, University of California, Irvine, CA.\n",
            "        -- Results: about 90%-95% accuracy appears to be STAGGER's asymptote\n",
            "     - Predicted attribute: party affiliation (2 classes)\n",
            "\n",
            "4. Relevant Information:\n",
            "      This data set includes votes for each of the U.S. House of\n",
            "      Representatives Congressmen on the 16 key votes identified by the\n",
            "      CQA.  The CQA lists nine different types of votes: voted for, paired\n",
            "      for, and announced for (these three simplified to yea), voted\n",
            "      against, paired against, and announced against (these three\n",
            "      simplified to nay), voted present, voted present to avoid conflict\n",
            "      of interest, and did not vote or otherwise make a position known\n",
            "      (these three simplified to an unknown disposition).\n",
            "\n",
            "5. Number of Instances: 435 (267 democrats, 168 republicans)\n",
            "\n",
            "6. Number of Attributes: 16 + class name = 17 (all Boolean valued)\n",
            "\n",
            "7. Attribute Information:\n",
            "   1. Class Name: 2 (democrat, republican)\n",
            "   2. handicapped-infants: 2 (y,n)\n",
            "   3. water-project-cost-sharing: 2 (y,n)\n",
            "   4. adoption-of-the-budget-resolution: 2 (y,n)\n",
            "   5. physician-fee-freeze: 2 (y,n)\n",
            "   6. el-salvador-aid: 2 (y,n)\n",
            "   7. religious-groups-in-schools: 2 (y,n)\n",
            "   8. anti-satellite-test-ban: 2 (y,n)\n",
            "   9. aid-to-nicaraguan-contras: 2 (y,n)\n",
            "  10. mx-missile: 2 (y,n)\n",
            "  11. immigration: 2 (y,n)\n",
            "  12. synfuels-corporation-cutback: 2 (y,n)\n",
            "  13. education-spending: 2 (y,n)\n",
            "  14. superfund-right-to-sue: 2 (y,n)\n",
            "  15. crime: 2 (y,n)\n",
            "  16. duty-free-exports: 2 (y,n)\n",
            "  17. export-administration-act-south-africa: 2 (y,n)\n",
            "\n",
            "8. Missing Attribute Values: Denoted by \"?\"\n",
            "\n",
            "   NOTE: It is important to recognize that \"?\" in this database does \n",
            "         not mean that the value of the attribute is unknown.  It \n",
            "         means simply, that the value is not \"yea\" or \"nay\" (see \n",
            "         \"Relevant Information\" section above).\n",
            "\n",
            "   Attribute:  #Missing Values:\n",
            "           1:  0\n",
            "           2:  0\n",
            "           3:  12\n",
            "           4:  48\n",
            "           5:  11\n",
            "           6:  11\n",
            "           7:  15\n",
            "           8:  11\n",
            "           9:  14\n",
            "          10:  15\n",
            "          11:  22\n",
            "          12:  7\n",
            "          13:  21\n",
            "          14:  31\n",
            "          15:  25\n",
            "          16:  17\n",
            "          17:  28\n",
            "\n",
            "9. Class Distribution: (2 classes)\n",
            "   1. 45.2 percent are democrat\n",
            "   2. 54.8 percent are republican\n",
            "\n",
            "Class predictiveness and predictability: Pr(C|A=V) and Pr(A=V|C)\n",
            " Attribute 1: (A = handicapped-infants)\n",
            "  0.91;  1.21  (C=democrat; V=y)\n",
            "  0.09;  0.10  (C=republican; V=y)\n",
            "  0.43;  0.38  (C=democrat; V=n)\n",
            "  0.57;  0.41  (C=republican; V=n)\n",
            "  0.75;  0.03  (C=democrat; V=?)\n",
            "  0.25;  0.01  (C=republican; V=?)\n",
            " Attribute 2: (A = water-project-cost-sharing)\n",
            "  0.62;  0.45  (C=democrat; V=y)\n",
            "  0.38;  0.23  (C=republican; V=y)\n",
            "  0.62;  0.45  (C=democrat; V=n)\n",
            "  0.38;  0.23  (C=republican; V=n)\n",
            "  0.58;  0.10  (C=democrat; V=?)\n",
            "  0.42;  0.06  (C=republican; V=?)\n",
            " Attribute 3: (A = adoption-of-the-budget-resolution)\n",
            "  0.91;  0.87  (C=democrat; V=y)\n",
            "  0.09;  0.07  (C=republican; V=y)\n",
            "  0.17;  0.11  (C=democrat; V=n)\n",
            "  0.83;  0.44  (C=republican; V=n)\n",
            "  0.64;  0.03  (C=democrat; V=?)\n",
            "  0.36;  0.01  (C=republican; V=?)\n",
            " Attribute 4: (A = physician-fee-freeze)\n",
            "  0.08;  0.05  (C=democrat; V=y)\n",
            "  0.92;  0.50  (C=republican; V=y)\n",
            "  0.99;  0.92  (C=democrat; V=n)\n",
            "  0.01;  0.01  (C=republican; V=n)\n",
            "  0.73;  0.03  (C=democrat; V=?)\n",
            "  0.27;  0.01  (C=republican; V=?)\n",
            " Attribute 5: (A = el-salvador-aid)\n",
            "  0.26;  0.21  (C=democrat; V=y)\n",
            "  0.74;  0.48  (C=republican; V=y)\n",
            "  0.96;  0.75  (C=democrat; V=n)\n",
            "  0.04;  0.02  (C=republican; V=n)\n",
            "  0.80;  0.04  (C=democrat; V=?)\n",
            "  0.20;  0.01  (C=republican; V=?)\n",
            " Attribute 6: (A = religious-groups-in-schools)\n",
            "  0.45;  0.46  (C=democrat; V=y)\n",
            "  0.55;  0.46  (C=republican; V=y)\n",
            "  0.89;  0.51  (C=democrat; V=n)\n",
            "  0.11;  0.05  (C=republican; V=n)\n",
            "  0.82;  0.03  (C=democrat; V=?)\n",
            "  0.18;  0.01  (C=republican; V=?)\n",
            " Attribute 7: (A = anti-satellite-test-ban)\n",
            "  0.84;  0.75  (C=democrat; V=y)\n",
            "  0.16;  0.12  (C=republican; V=y)\n",
            "  0.32;  0.22  (C=democrat; V=n)\n",
            "  0.68;  0.38  (C=republican; V=n)\n",
            "  0.57;  0.03  (C=democrat; V=?)\n",
            "  0.43;  0.02  (C=republican; V=?)\n",
            " Attribute 8: (A = aid-to-nicaraguan-contras)\n",
            "  0.90;  0.82  (C=democrat; V=y)\n",
            "  0.10;  0.07  (C=republican; V=y)\n",
            "  0.25;  0.17  (C=democrat; V=n)\n",
            "  0.75;  0.41  (C=republican; V=n)\n",
            "  0.27;  0.01  (C=democrat; V=?)\n",
            "  0.73;  0.03  (C=republican; V=?)\n",
            " Attribute 9: (A = mx-missile)\n",
            "  0.91;  0.70  (C=democrat; V=y)\n",
            "  0.09;  0.06  (C=republican; V=y)\n",
            "  0.29;  0.22  (C=democrat; V=n)\n",
            "  0.71;  0.45  (C=republican; V=n)\n",
            "  0.86;  0.07  (C=democrat; V=?)\n",
            "  0.14;  0.01  (C=republican; V=?)\n",
            " Attribute 10: (A = immigration)\n",
            "  0.57;  0.46  (C=democrat; V=y)\n",
            "  0.43;  0.28  (C=republican; V=y)\n",
            "  0.66;  0.52  (C=democrat; V=n)\n",
            "  0.34;  0.23  (C=republican; V=n)\n",
            "  0.57;  0.01  (C=democrat; V=?)\n",
            "  0.43;  0.01  (C=republican; V=?)\n",
            " Attribute 11: (A = synfuels-corporation-cutback)\n",
            "  0.86;  0.48  (C=democrat; V=y)\n",
            "  0.14;  0.06  (C=republican; V=y)\n",
            "  0.48;  0.47  (C=democrat; V=n)\n",
            "  0.52;  0.43  (C=republican; V=n)\n",
            "  0.57;  0.04  (C=democrat; V=?)\n",
            "  0.43;  0.03  (C=republican; V=?)\n",
            " Attribute 12: (A = education-spending)\n",
            "  0.21;  0.13  (C=democrat; V=y)\n",
            "  0.79;  0.42  (C=republican; V=y)\n",
            "  0.91;  0.80  (C=democrat; V=n)\n",
            "  0.09;  0.06  (C=republican; V=n)\n",
            "  0.58;  0.07  (C=democrat; V=?)\n",
            "  0.42;  0.04  (C=republican; V=?)\n",
            " Attribute 13: (A = superfund-right-to-sue)\n",
            "  0.35;  0.27  (C=democrat; V=y)\n",
            "  0.65;  0.42  (C=republican; V=y)\n",
            "  0.89;  0.67  (C=democrat; V=n)\n",
            "  0.11;  0.07  (C=republican; V=n)\n",
            "  0.60;  0.06  (C=democrat; V=?)\n",
            "  0.40;  0.03  (C=republican; V=?)\n",
            " Attribute 14: (A = crime)\n",
            "  0.36;  0.34  (C=democrat; V=y)\n",
            "  0.64;  0.49  (C=republican; V=y)\n",
            "  0.98;  0.63  (C=democrat; V=n)\n",
            "  0.02;  0.01  (C=republican; V=n)\n",
            "  0.59;  0.04  (C=democrat; V=?)\n",
            "  0.41;  0.02  (C=republican; V=?)\n",
            " Attribute 15: (A = duty-free-exports)\n",
            "  0.92;  0.60  (C=democrat; V=y)\n",
            "  0.08;  0.04  (C=republican; V=y)\n",
            "  0.39;  0.34  (C=democrat; V=n)\n",
            "  0.61;  0.44  (C=republican; V=n)\n",
            "  0.57;  0.06  (C=democrat; V=?)\n",
            "  0.43;  0.04  (C=republican; V=?)\n",
            " Attribute 16: (A = export-administration-act-south-africa)\n",
            "  0.64;  0.65  (C=democrat; V=y)\n",
            "  0.36;  0.30  (C=republican; V=y)\n",
            "  0.19;  0.04  (C=democrat; V=n)\n",
            "  0.81;  0.15  (C=republican; V=n)\n",
            "  0.79;  0.31  (C=democrat; V=?)\n",
            "  0.21;  0.07  (C=republican; V=?)\n"
          ],
          "name": "stdout"
        }
      ]
    },
    {
      "cell_type": "markdown",
      "metadata": {
        "id": "UmBUDQ9u4gtk",
        "colab_type": "text"
      },
      "source": [
        "## Organize Data"
      ]
    },
    {
      "cell_type": "code",
      "metadata": {
        "id": "dSptzDBUpChP",
        "colab_type": "code",
        "outputId": "7c7b69d8-7523-4398-bda3-5b6b71ea6806",
        "colab": {
          "base_uri": "https://localhost:8080/",
          "height": 221
        }
      },
      "source": [
        "data = pd.read_csv('https://archive.ics.uci.edu/ml/machine-learning-databases/voting-records/house-votes-84.data', header=None, na_values='?')\n",
        "print(data.shape)\n",
        "data.head()"
      ],
      "execution_count": 4,
      "outputs": [
        {
          "output_type": "stream",
          "text": [
            "(435, 17)\n"
          ],
          "name": "stdout"
        },
        {
          "output_type": "execute_result",
          "data": {
            "text/html": [
              "<div>\n",
              "<style scoped>\n",
              "    .dataframe tbody tr th:only-of-type {\n",
              "        vertical-align: middle;\n",
              "    }\n",
              "\n",
              "    .dataframe tbody tr th {\n",
              "        vertical-align: top;\n",
              "    }\n",
              "\n",
              "    .dataframe thead th {\n",
              "        text-align: right;\n",
              "    }\n",
              "</style>\n",
              "<table border=\"1\" class=\"dataframe\">\n",
              "  <thead>\n",
              "    <tr style=\"text-align: right;\">\n",
              "      <th></th>\n",
              "      <th>0</th>\n",
              "      <th>1</th>\n",
              "      <th>2</th>\n",
              "      <th>3</th>\n",
              "      <th>4</th>\n",
              "      <th>5</th>\n",
              "      <th>6</th>\n",
              "      <th>7</th>\n",
              "      <th>8</th>\n",
              "      <th>9</th>\n",
              "      <th>10</th>\n",
              "      <th>11</th>\n",
              "      <th>12</th>\n",
              "      <th>13</th>\n",
              "      <th>14</th>\n",
              "      <th>15</th>\n",
              "      <th>16</th>\n",
              "    </tr>\n",
              "  </thead>\n",
              "  <tbody>\n",
              "    <tr>\n",
              "      <th>0</th>\n",
              "      <td>republican</td>\n",
              "      <td>n</td>\n",
              "      <td>y</td>\n",
              "      <td>n</td>\n",
              "      <td>y</td>\n",
              "      <td>y</td>\n",
              "      <td>y</td>\n",
              "      <td>n</td>\n",
              "      <td>n</td>\n",
              "      <td>n</td>\n",
              "      <td>y</td>\n",
              "      <td>NaN</td>\n",
              "      <td>y</td>\n",
              "      <td>y</td>\n",
              "      <td>y</td>\n",
              "      <td>n</td>\n",
              "      <td>y</td>\n",
              "    </tr>\n",
              "    <tr>\n",
              "      <th>1</th>\n",
              "      <td>republican</td>\n",
              "      <td>n</td>\n",
              "      <td>y</td>\n",
              "      <td>n</td>\n",
              "      <td>y</td>\n",
              "      <td>y</td>\n",
              "      <td>y</td>\n",
              "      <td>n</td>\n",
              "      <td>n</td>\n",
              "      <td>n</td>\n",
              "      <td>n</td>\n",
              "      <td>n</td>\n",
              "      <td>y</td>\n",
              "      <td>y</td>\n",
              "      <td>y</td>\n",
              "      <td>n</td>\n",
              "      <td>NaN</td>\n",
              "    </tr>\n",
              "    <tr>\n",
              "      <th>2</th>\n",
              "      <td>democrat</td>\n",
              "      <td>NaN</td>\n",
              "      <td>y</td>\n",
              "      <td>y</td>\n",
              "      <td>NaN</td>\n",
              "      <td>y</td>\n",
              "      <td>y</td>\n",
              "      <td>n</td>\n",
              "      <td>n</td>\n",
              "      <td>n</td>\n",
              "      <td>n</td>\n",
              "      <td>y</td>\n",
              "      <td>n</td>\n",
              "      <td>y</td>\n",
              "      <td>y</td>\n",
              "      <td>n</td>\n",
              "      <td>n</td>\n",
              "    </tr>\n",
              "    <tr>\n",
              "      <th>3</th>\n",
              "      <td>democrat</td>\n",
              "      <td>n</td>\n",
              "      <td>y</td>\n",
              "      <td>y</td>\n",
              "      <td>n</td>\n",
              "      <td>NaN</td>\n",
              "      <td>y</td>\n",
              "      <td>n</td>\n",
              "      <td>n</td>\n",
              "      <td>n</td>\n",
              "      <td>n</td>\n",
              "      <td>y</td>\n",
              "      <td>n</td>\n",
              "      <td>y</td>\n",
              "      <td>n</td>\n",
              "      <td>n</td>\n",
              "      <td>y</td>\n",
              "    </tr>\n",
              "    <tr>\n",
              "      <th>4</th>\n",
              "      <td>democrat</td>\n",
              "      <td>y</td>\n",
              "      <td>y</td>\n",
              "      <td>y</td>\n",
              "      <td>n</td>\n",
              "      <td>y</td>\n",
              "      <td>y</td>\n",
              "      <td>n</td>\n",
              "      <td>n</td>\n",
              "      <td>n</td>\n",
              "      <td>n</td>\n",
              "      <td>y</td>\n",
              "      <td>NaN</td>\n",
              "      <td>y</td>\n",
              "      <td>y</td>\n",
              "      <td>y</td>\n",
              "      <td>y</td>\n",
              "    </tr>\n",
              "  </tbody>\n",
              "</table>\n",
              "</div>"
            ],
            "text/plain": [
              "           0    1  2  3    4    5  6  7  8  9  10   11   12 13 14 15   16\n",
              "0  republican    n  y  n    y    y  y  n  n  n  y  NaN    y  y  y  n    y\n",
              "1  republican    n  y  n    y    y  y  n  n  n  n    n    y  y  y  n  NaN\n",
              "2    democrat  NaN  y  y  NaN    y  y  n  n  n  n    y    n  y  y  n    n\n",
              "3    democrat    n  y  y    n  NaN  y  n  n  n  n    y    n  y  n  n    y\n",
              "4    democrat    y  y  y    n    y  y  n  n  n  n    y  NaN  y  y  y    y"
            ]
          },
          "metadata": {
            "tags": []
          },
          "execution_count": 4
        }
      ]
    },
    {
      "cell_type": "code",
      "metadata": {
        "id": "CEjmNj4NpSCv",
        "colab_type": "code",
        "outputId": "a03a7553-d4c9-4928-c4be-d47dc1f9c579",
        "colab": {
          "base_uri": "https://localhost:8080/",
          "height": 323
        }
      },
      "source": [
        "data.isna().sum()"
      ],
      "execution_count": 5,
      "outputs": [
        {
          "output_type": "execute_result",
          "data": {
            "text/plain": [
              "0       0\n",
              "1      12\n",
              "2      48\n",
              "3      11\n",
              "4      11\n",
              "5      15\n",
              "6      11\n",
              "7      14\n",
              "8      15\n",
              "9      22\n",
              "10      7\n",
              "11     21\n",
              "12     31\n",
              "13     25\n",
              "14     17\n",
              "15     28\n",
              "16    104\n",
              "dtype: int64"
            ]
          },
          "metadata": {
            "tags": []
          },
          "execution_count": 5
        }
      ]
    },
    {
      "cell_type": "code",
      "metadata": {
        "id": "dQQhV8QTBi6v",
        "colab_type": "code",
        "colab": {}
      },
      "source": [
        "data = data.fillna(.5)"
      ],
      "execution_count": 0,
      "outputs": []
    },
    {
      "cell_type": "code",
      "metadata": {
        "id": "JOhR2Lzo0Fo8",
        "colab_type": "code",
        "colab": {}
      },
      "source": [
        "columns = {0:'class_name',\n",
        "           1:'handicapped_infants',\n",
        "           2:'water_project_cost_sharing',\n",
        "           3:'adoption_of_the_budget_resolution',\n",
        "           4:'physician_fee_freeze',\n",
        "           5:'el_salvador_aid',\n",
        "           6:'religious_groups_in_schools',\n",
        "           7:'anti_satellite_test_ban',\n",
        "           8:'aid_to_nicaraguan_contras',\n",
        "           9:'mx_missile',\n",
        "           10:'immigration',\n",
        "           11:'synfuels_corporation_cutback',\n",
        "           12:'education_spending',\n",
        "           13:'superfund_right_to_sue',\n",
        "           14:'crime',\n",
        "           15:'duty_free_exports',\n",
        "           16:'export_administration_act_south_africa'}"
      ],
      "execution_count": 0,
      "outputs": []
    },
    {
      "cell_type": "code",
      "metadata": {
        "id": "pFK5AyJtx45o",
        "colab_type": "code",
        "outputId": "6e8d9ec8-d2c7-4047-f263-512b4071b673",
        "colab": {
          "base_uri": "https://localhost:8080/",
          "height": 241
        }
      },
      "source": [
        "data = data.rename(columns=columns)\n",
        "print(data.shape)\n",
        "data.head()"
      ],
      "execution_count": 8,
      "outputs": [
        {
          "output_type": "stream",
          "text": [
            "(435, 17)\n"
          ],
          "name": "stdout"
        },
        {
          "output_type": "execute_result",
          "data": {
            "text/html": [
              "<div>\n",
              "<style scoped>\n",
              "    .dataframe tbody tr th:only-of-type {\n",
              "        vertical-align: middle;\n",
              "    }\n",
              "\n",
              "    .dataframe tbody tr th {\n",
              "        vertical-align: top;\n",
              "    }\n",
              "\n",
              "    .dataframe thead th {\n",
              "        text-align: right;\n",
              "    }\n",
              "</style>\n",
              "<table border=\"1\" class=\"dataframe\">\n",
              "  <thead>\n",
              "    <tr style=\"text-align: right;\">\n",
              "      <th></th>\n",
              "      <th>class_name</th>\n",
              "      <th>handicapped_infants</th>\n",
              "      <th>water_project_cost_sharing</th>\n",
              "      <th>adoption_of_the_budget_resolution</th>\n",
              "      <th>physician_fee_freeze</th>\n",
              "      <th>el_salvador_aid</th>\n",
              "      <th>religious_groups_in_schools</th>\n",
              "      <th>anti_satellite_test_ban</th>\n",
              "      <th>aid_to_nicaraguan_contras</th>\n",
              "      <th>mx_missile</th>\n",
              "      <th>immigration</th>\n",
              "      <th>synfuels_corporation_cutback</th>\n",
              "      <th>education_spending</th>\n",
              "      <th>superfund_right_to_sue</th>\n",
              "      <th>crime</th>\n",
              "      <th>duty_free_exports</th>\n",
              "      <th>export_administration_act_south_africa</th>\n",
              "    </tr>\n",
              "  </thead>\n",
              "  <tbody>\n",
              "    <tr>\n",
              "      <th>0</th>\n",
              "      <td>republican</td>\n",
              "      <td>n</td>\n",
              "      <td>y</td>\n",
              "      <td>n</td>\n",
              "      <td>y</td>\n",
              "      <td>y</td>\n",
              "      <td>y</td>\n",
              "      <td>n</td>\n",
              "      <td>n</td>\n",
              "      <td>n</td>\n",
              "      <td>y</td>\n",
              "      <td>0.5</td>\n",
              "      <td>y</td>\n",
              "      <td>y</td>\n",
              "      <td>y</td>\n",
              "      <td>n</td>\n",
              "      <td>y</td>\n",
              "    </tr>\n",
              "    <tr>\n",
              "      <th>1</th>\n",
              "      <td>republican</td>\n",
              "      <td>n</td>\n",
              "      <td>y</td>\n",
              "      <td>n</td>\n",
              "      <td>y</td>\n",
              "      <td>y</td>\n",
              "      <td>y</td>\n",
              "      <td>n</td>\n",
              "      <td>n</td>\n",
              "      <td>n</td>\n",
              "      <td>n</td>\n",
              "      <td>n</td>\n",
              "      <td>y</td>\n",
              "      <td>y</td>\n",
              "      <td>y</td>\n",
              "      <td>n</td>\n",
              "      <td>0.5</td>\n",
              "    </tr>\n",
              "    <tr>\n",
              "      <th>2</th>\n",
              "      <td>democrat</td>\n",
              "      <td>0.5</td>\n",
              "      <td>y</td>\n",
              "      <td>y</td>\n",
              "      <td>0.5</td>\n",
              "      <td>y</td>\n",
              "      <td>y</td>\n",
              "      <td>n</td>\n",
              "      <td>n</td>\n",
              "      <td>n</td>\n",
              "      <td>n</td>\n",
              "      <td>y</td>\n",
              "      <td>n</td>\n",
              "      <td>y</td>\n",
              "      <td>y</td>\n",
              "      <td>n</td>\n",
              "      <td>n</td>\n",
              "    </tr>\n",
              "    <tr>\n",
              "      <th>3</th>\n",
              "      <td>democrat</td>\n",
              "      <td>n</td>\n",
              "      <td>y</td>\n",
              "      <td>y</td>\n",
              "      <td>n</td>\n",
              "      <td>0.5</td>\n",
              "      <td>y</td>\n",
              "      <td>n</td>\n",
              "      <td>n</td>\n",
              "      <td>n</td>\n",
              "      <td>n</td>\n",
              "      <td>y</td>\n",
              "      <td>n</td>\n",
              "      <td>y</td>\n",
              "      <td>n</td>\n",
              "      <td>n</td>\n",
              "      <td>y</td>\n",
              "    </tr>\n",
              "    <tr>\n",
              "      <th>4</th>\n",
              "      <td>democrat</td>\n",
              "      <td>y</td>\n",
              "      <td>y</td>\n",
              "      <td>y</td>\n",
              "      <td>n</td>\n",
              "      <td>y</td>\n",
              "      <td>y</td>\n",
              "      <td>n</td>\n",
              "      <td>n</td>\n",
              "      <td>n</td>\n",
              "      <td>n</td>\n",
              "      <td>y</td>\n",
              "      <td>0.5</td>\n",
              "      <td>y</td>\n",
              "      <td>y</td>\n",
              "      <td>y</td>\n",
              "      <td>y</td>\n",
              "    </tr>\n",
              "  </tbody>\n",
              "</table>\n",
              "</div>"
            ],
            "text/plain": [
              "   class_name  ... export_administration_act_south_africa\n",
              "0  republican  ...                                      y\n",
              "1  republican  ...                                    0.5\n",
              "2    democrat  ...                                      n\n",
              "3    democrat  ...                                      y\n",
              "4    democrat  ...                                      y\n",
              "\n",
              "[5 rows x 17 columns]"
            ]
          },
          "metadata": {
            "tags": []
          },
          "execution_count": 8
        }
      ]
    },
    {
      "cell_type": "code",
      "metadata": {
        "id": "kQ3NtLyQ7sVq",
        "colab_type": "code",
        "colab": {}
      },
      "source": [
        "new_vals = {'n': 0, 'y': 1}"
      ],
      "execution_count": 0,
      "outputs": []
    },
    {
      "cell_type": "code",
      "metadata": {
        "id": "P8TwKLmE7WIK",
        "colab_type": "code",
        "outputId": "726b8c2d-1710-4bc4-e103-8deec5fe376f",
        "colab": {
          "base_uri": "https://localhost:8080/",
          "height": 224
        }
      },
      "source": [
        "# Replace 'n' and 'y' with 1 and 0\n",
        "df = data.replace(new_vals)\n",
        "df.head()"
      ],
      "execution_count": 10,
      "outputs": [
        {
          "output_type": "execute_result",
          "data": {
            "text/html": [
              "<div>\n",
              "<style scoped>\n",
              "    .dataframe tbody tr th:only-of-type {\n",
              "        vertical-align: middle;\n",
              "    }\n",
              "\n",
              "    .dataframe tbody tr th {\n",
              "        vertical-align: top;\n",
              "    }\n",
              "\n",
              "    .dataframe thead th {\n",
              "        text-align: right;\n",
              "    }\n",
              "</style>\n",
              "<table border=\"1\" class=\"dataframe\">\n",
              "  <thead>\n",
              "    <tr style=\"text-align: right;\">\n",
              "      <th></th>\n",
              "      <th>class_name</th>\n",
              "      <th>handicapped_infants</th>\n",
              "      <th>water_project_cost_sharing</th>\n",
              "      <th>adoption_of_the_budget_resolution</th>\n",
              "      <th>physician_fee_freeze</th>\n",
              "      <th>el_salvador_aid</th>\n",
              "      <th>religious_groups_in_schools</th>\n",
              "      <th>anti_satellite_test_ban</th>\n",
              "      <th>aid_to_nicaraguan_contras</th>\n",
              "      <th>mx_missile</th>\n",
              "      <th>immigration</th>\n",
              "      <th>synfuels_corporation_cutback</th>\n",
              "      <th>education_spending</th>\n",
              "      <th>superfund_right_to_sue</th>\n",
              "      <th>crime</th>\n",
              "      <th>duty_free_exports</th>\n",
              "      <th>export_administration_act_south_africa</th>\n",
              "    </tr>\n",
              "  </thead>\n",
              "  <tbody>\n",
              "    <tr>\n",
              "      <th>0</th>\n",
              "      <td>republican</td>\n",
              "      <td>0.0</td>\n",
              "      <td>1.0</td>\n",
              "      <td>0.0</td>\n",
              "      <td>1.0</td>\n",
              "      <td>1.0</td>\n",
              "      <td>1.0</td>\n",
              "      <td>0.0</td>\n",
              "      <td>0.0</td>\n",
              "      <td>0.0</td>\n",
              "      <td>1.0</td>\n",
              "      <td>0.5</td>\n",
              "      <td>1.0</td>\n",
              "      <td>1.0</td>\n",
              "      <td>1.0</td>\n",
              "      <td>0.0</td>\n",
              "      <td>1.0</td>\n",
              "    </tr>\n",
              "    <tr>\n",
              "      <th>1</th>\n",
              "      <td>republican</td>\n",
              "      <td>0.0</td>\n",
              "      <td>1.0</td>\n",
              "      <td>0.0</td>\n",
              "      <td>1.0</td>\n",
              "      <td>1.0</td>\n",
              "      <td>1.0</td>\n",
              "      <td>0.0</td>\n",
              "      <td>0.0</td>\n",
              "      <td>0.0</td>\n",
              "      <td>0.0</td>\n",
              "      <td>0.0</td>\n",
              "      <td>1.0</td>\n",
              "      <td>1.0</td>\n",
              "      <td>1.0</td>\n",
              "      <td>0.0</td>\n",
              "      <td>0.5</td>\n",
              "    </tr>\n",
              "    <tr>\n",
              "      <th>2</th>\n",
              "      <td>democrat</td>\n",
              "      <td>0.5</td>\n",
              "      <td>1.0</td>\n",
              "      <td>1.0</td>\n",
              "      <td>0.5</td>\n",
              "      <td>1.0</td>\n",
              "      <td>1.0</td>\n",
              "      <td>0.0</td>\n",
              "      <td>0.0</td>\n",
              "      <td>0.0</td>\n",
              "      <td>0.0</td>\n",
              "      <td>1.0</td>\n",
              "      <td>0.0</td>\n",
              "      <td>1.0</td>\n",
              "      <td>1.0</td>\n",
              "      <td>0.0</td>\n",
              "      <td>0.0</td>\n",
              "    </tr>\n",
              "    <tr>\n",
              "      <th>3</th>\n",
              "      <td>democrat</td>\n",
              "      <td>0.0</td>\n",
              "      <td>1.0</td>\n",
              "      <td>1.0</td>\n",
              "      <td>0.0</td>\n",
              "      <td>0.5</td>\n",
              "      <td>1.0</td>\n",
              "      <td>0.0</td>\n",
              "      <td>0.0</td>\n",
              "      <td>0.0</td>\n",
              "      <td>0.0</td>\n",
              "      <td>1.0</td>\n",
              "      <td>0.0</td>\n",
              "      <td>1.0</td>\n",
              "      <td>0.0</td>\n",
              "      <td>0.0</td>\n",
              "      <td>1.0</td>\n",
              "    </tr>\n",
              "    <tr>\n",
              "      <th>4</th>\n",
              "      <td>democrat</td>\n",
              "      <td>1.0</td>\n",
              "      <td>1.0</td>\n",
              "      <td>1.0</td>\n",
              "      <td>0.0</td>\n",
              "      <td>1.0</td>\n",
              "      <td>1.0</td>\n",
              "      <td>0.0</td>\n",
              "      <td>0.0</td>\n",
              "      <td>0.0</td>\n",
              "      <td>0.0</td>\n",
              "      <td>1.0</td>\n",
              "      <td>0.5</td>\n",
              "      <td>1.0</td>\n",
              "      <td>1.0</td>\n",
              "      <td>1.0</td>\n",
              "      <td>1.0</td>\n",
              "    </tr>\n",
              "  </tbody>\n",
              "</table>\n",
              "</div>"
            ],
            "text/plain": [
              "   class_name  ...  export_administration_act_south_africa\n",
              "0  republican  ...                                     1.0\n",
              "1  republican  ...                                     0.5\n",
              "2    democrat  ...                                     0.0\n",
              "3    democrat  ...                                     1.0\n",
              "4    democrat  ...                                     1.0\n",
              "\n",
              "[5 rows x 17 columns]"
            ]
          },
          "metadata": {
            "tags": []
          },
          "execution_count": 10
        }
      ]
    },
    {
      "cell_type": "code",
      "metadata": {
        "id": "DAbtZqwt4C6m",
        "colab_type": "code",
        "colab": {}
      },
      "source": [
        "democrats = df.loc[df['class_name'] == 'democrat']\n",
        "republicans = df.loc[df['class_name'] == 'republican']"
      ],
      "execution_count": 0,
      "outputs": []
    },
    {
      "cell_type": "code",
      "metadata": {
        "id": "dkZ9s4rd9nTG",
        "colab_type": "code",
        "outputId": "06937988-5d3c-4433-dfe2-401280d5e6f0",
        "colab": {
          "base_uri": "https://localhost:8080/",
          "height": 224
        }
      },
      "source": [
        "democrats.head()"
      ],
      "execution_count": 12,
      "outputs": [
        {
          "output_type": "execute_result",
          "data": {
            "text/html": [
              "<div>\n",
              "<style scoped>\n",
              "    .dataframe tbody tr th:only-of-type {\n",
              "        vertical-align: middle;\n",
              "    }\n",
              "\n",
              "    .dataframe tbody tr th {\n",
              "        vertical-align: top;\n",
              "    }\n",
              "\n",
              "    .dataframe thead th {\n",
              "        text-align: right;\n",
              "    }\n",
              "</style>\n",
              "<table border=\"1\" class=\"dataframe\">\n",
              "  <thead>\n",
              "    <tr style=\"text-align: right;\">\n",
              "      <th></th>\n",
              "      <th>class_name</th>\n",
              "      <th>handicapped_infants</th>\n",
              "      <th>water_project_cost_sharing</th>\n",
              "      <th>adoption_of_the_budget_resolution</th>\n",
              "      <th>physician_fee_freeze</th>\n",
              "      <th>el_salvador_aid</th>\n",
              "      <th>religious_groups_in_schools</th>\n",
              "      <th>anti_satellite_test_ban</th>\n",
              "      <th>aid_to_nicaraguan_contras</th>\n",
              "      <th>mx_missile</th>\n",
              "      <th>immigration</th>\n",
              "      <th>synfuels_corporation_cutback</th>\n",
              "      <th>education_spending</th>\n",
              "      <th>superfund_right_to_sue</th>\n",
              "      <th>crime</th>\n",
              "      <th>duty_free_exports</th>\n",
              "      <th>export_administration_act_south_africa</th>\n",
              "    </tr>\n",
              "  </thead>\n",
              "  <tbody>\n",
              "    <tr>\n",
              "      <th>2</th>\n",
              "      <td>democrat</td>\n",
              "      <td>0.5</td>\n",
              "      <td>1.0</td>\n",
              "      <td>1.0</td>\n",
              "      <td>0.5</td>\n",
              "      <td>1.0</td>\n",
              "      <td>1.0</td>\n",
              "      <td>0.0</td>\n",
              "      <td>0.0</td>\n",
              "      <td>0.0</td>\n",
              "      <td>0.0</td>\n",
              "      <td>1.0</td>\n",
              "      <td>0.0</td>\n",
              "      <td>1.0</td>\n",
              "      <td>1.0</td>\n",
              "      <td>0.0</td>\n",
              "      <td>0.0</td>\n",
              "    </tr>\n",
              "    <tr>\n",
              "      <th>3</th>\n",
              "      <td>democrat</td>\n",
              "      <td>0.0</td>\n",
              "      <td>1.0</td>\n",
              "      <td>1.0</td>\n",
              "      <td>0.0</td>\n",
              "      <td>0.5</td>\n",
              "      <td>1.0</td>\n",
              "      <td>0.0</td>\n",
              "      <td>0.0</td>\n",
              "      <td>0.0</td>\n",
              "      <td>0.0</td>\n",
              "      <td>1.0</td>\n",
              "      <td>0.0</td>\n",
              "      <td>1.0</td>\n",
              "      <td>0.0</td>\n",
              "      <td>0.0</td>\n",
              "      <td>1.0</td>\n",
              "    </tr>\n",
              "    <tr>\n",
              "      <th>4</th>\n",
              "      <td>democrat</td>\n",
              "      <td>1.0</td>\n",
              "      <td>1.0</td>\n",
              "      <td>1.0</td>\n",
              "      <td>0.0</td>\n",
              "      <td>1.0</td>\n",
              "      <td>1.0</td>\n",
              "      <td>0.0</td>\n",
              "      <td>0.0</td>\n",
              "      <td>0.0</td>\n",
              "      <td>0.0</td>\n",
              "      <td>1.0</td>\n",
              "      <td>0.5</td>\n",
              "      <td>1.0</td>\n",
              "      <td>1.0</td>\n",
              "      <td>1.0</td>\n",
              "      <td>1.0</td>\n",
              "    </tr>\n",
              "    <tr>\n",
              "      <th>5</th>\n",
              "      <td>democrat</td>\n",
              "      <td>0.0</td>\n",
              "      <td>1.0</td>\n",
              "      <td>1.0</td>\n",
              "      <td>0.0</td>\n",
              "      <td>1.0</td>\n",
              "      <td>1.0</td>\n",
              "      <td>0.0</td>\n",
              "      <td>0.0</td>\n",
              "      <td>0.0</td>\n",
              "      <td>0.0</td>\n",
              "      <td>0.0</td>\n",
              "      <td>0.0</td>\n",
              "      <td>1.0</td>\n",
              "      <td>1.0</td>\n",
              "      <td>1.0</td>\n",
              "      <td>1.0</td>\n",
              "    </tr>\n",
              "    <tr>\n",
              "      <th>6</th>\n",
              "      <td>democrat</td>\n",
              "      <td>0.0</td>\n",
              "      <td>1.0</td>\n",
              "      <td>0.0</td>\n",
              "      <td>1.0</td>\n",
              "      <td>1.0</td>\n",
              "      <td>1.0</td>\n",
              "      <td>0.0</td>\n",
              "      <td>0.0</td>\n",
              "      <td>0.0</td>\n",
              "      <td>0.0</td>\n",
              "      <td>0.0</td>\n",
              "      <td>0.0</td>\n",
              "      <td>0.5</td>\n",
              "      <td>1.0</td>\n",
              "      <td>1.0</td>\n",
              "      <td>1.0</td>\n",
              "    </tr>\n",
              "  </tbody>\n",
              "</table>\n",
              "</div>"
            ],
            "text/plain": [
              "  class_name  ...  export_administration_act_south_africa\n",
              "2   democrat  ...                                     0.0\n",
              "3   democrat  ...                                     1.0\n",
              "4   democrat  ...                                     1.0\n",
              "5   democrat  ...                                     1.0\n",
              "6   democrat  ...                                     1.0\n",
              "\n",
              "[5 rows x 17 columns]"
            ]
          },
          "metadata": {
            "tags": []
          },
          "execution_count": 12
        }
      ]
    },
    {
      "cell_type": "code",
      "metadata": {
        "id": "60u3bpcD68Rq",
        "colab_type": "code",
        "outputId": "d5302b13-0583-46ac-d6fb-4a85cd1985c9",
        "colab": {
          "base_uri": "https://localhost:8080/",
          "height": 545
        }
      },
      "source": [
        "mean_votes = pd.DataFrame({'democrats_mean': democrats.mean(),\n",
        "                           'democrats_std': democrats.std(),\n",
        "                           'republicans_mean': republicans.mean(),\n",
        "                           'republicans_std': republicans.std()})\n",
        "\n",
        "mean_votes"
      ],
      "execution_count": 13,
      "outputs": [
        {
          "output_type": "execute_result",
          "data": {
            "text/html": [
              "<div>\n",
              "<style scoped>\n",
              "    .dataframe tbody tr th:only-of-type {\n",
              "        vertical-align: middle;\n",
              "    }\n",
              "\n",
              "    .dataframe tbody tr th {\n",
              "        vertical-align: top;\n",
              "    }\n",
              "\n",
              "    .dataframe thead th {\n",
              "        text-align: right;\n",
              "    }\n",
              "</style>\n",
              "<table border=\"1\" class=\"dataframe\">\n",
              "  <thead>\n",
              "    <tr style=\"text-align: right;\">\n",
              "      <th></th>\n",
              "      <th>democrats_mean</th>\n",
              "      <th>democrats_std</th>\n",
              "      <th>republicans_mean</th>\n",
              "      <th>republicans_std</th>\n",
              "    </tr>\n",
              "  </thead>\n",
              "  <tbody>\n",
              "    <tr>\n",
              "      <th>handicapped_infants</th>\n",
              "      <td>0.601124</td>\n",
              "      <td>0.481889</td>\n",
              "      <td>0.193452</td>\n",
              "      <td>0.390476</td>\n",
              "    </tr>\n",
              "    <tr>\n",
              "      <th>water_project_cost_sharing</th>\n",
              "      <td>0.501873</td>\n",
              "      <td>0.473941</td>\n",
              "      <td>0.505952</td>\n",
              "      <td>0.470660</td>\n",
              "    </tr>\n",
              "    <tr>\n",
              "      <th>adoption_of_the_budget_resolution</th>\n",
              "      <td>0.878277</td>\n",
              "      <td>0.317379</td>\n",
              "      <td>0.142857</td>\n",
              "      <td>0.342336</td>\n",
              "    </tr>\n",
              "    <tr>\n",
              "      <th>physician_fee_freeze</th>\n",
              "      <td>0.067416</td>\n",
              "      <td>0.235772</td>\n",
              "      <td>0.979167</td>\n",
              "      <td>0.126611</td>\n",
              "    </tr>\n",
              "    <tr>\n",
              "      <th>el_salvador_aid</th>\n",
              "      <td>0.228464</td>\n",
              "      <td>0.407005</td>\n",
              "      <td>0.943452</td>\n",
              "      <td>0.221762</td>\n",
              "    </tr>\n",
              "    <tr>\n",
              "      <th>religious_groups_in_schools</th>\n",
              "      <td>0.477528</td>\n",
              "      <td>0.491909</td>\n",
              "      <td>0.892857</td>\n",
              "      <td>0.305356</td>\n",
              "    </tr>\n",
              "    <tr>\n",
              "      <th>anti_satellite_test_ban</th>\n",
              "      <td>0.764045</td>\n",
              "      <td>0.416460</td>\n",
              "      <td>0.250000</td>\n",
              "      <td>0.423840</td>\n",
              "    </tr>\n",
              "    <tr>\n",
              "      <th>aid_to_nicaraguan_contras</th>\n",
              "      <td>0.823970</td>\n",
              "      <td>0.376602</td>\n",
              "      <td>0.175595</td>\n",
              "      <td>0.359390</td>\n",
              "    </tr>\n",
              "    <tr>\n",
              "      <th>mx_missile</th>\n",
              "      <td>0.739700</td>\n",
              "      <td>0.418820</td>\n",
              "      <td>0.122024</td>\n",
              "      <td>0.321379</td>\n",
              "    </tr>\n",
              "    <tr>\n",
              "      <th>immigration</th>\n",
              "      <td>0.471910</td>\n",
              "      <td>0.496375</td>\n",
              "      <td>0.556548</td>\n",
              "      <td>0.493750</td>\n",
              "    </tr>\n",
              "    <tr>\n",
              "      <th>synfuels_corporation_cutback</th>\n",
              "      <td>0.505618</td>\n",
              "      <td>0.489520</td>\n",
              "      <td>0.151786</td>\n",
              "      <td>0.340653</td>\n",
              "    </tr>\n",
              "    <tr>\n",
              "      <th>education_spending</th>\n",
              "      <td>0.168539</td>\n",
              "      <td>0.351772</td>\n",
              "      <td>0.842262</td>\n",
              "      <td>0.337922</td>\n",
              "    </tr>\n",
              "    <tr>\n",
              "      <th>superfund_right_to_sue</th>\n",
              "      <td>0.301498</td>\n",
              "      <td>0.444174</td>\n",
              "      <td>0.839286</td>\n",
              "      <td>0.347452</td>\n",
              "    </tr>\n",
              "    <tr>\n",
              "      <th>crime</th>\n",
              "      <td>0.355805</td>\n",
              "      <td>0.469756</td>\n",
              "      <td>0.961310</td>\n",
              "      <td>0.164126</td>\n",
              "    </tr>\n",
              "    <tr>\n",
              "      <th>duty_free_exports</th>\n",
              "      <td>0.629213</td>\n",
              "      <td>0.468128</td>\n",
              "      <td>0.119048</td>\n",
              "      <td>0.295870</td>\n",
              "    </tr>\n",
              "    <tr>\n",
              "      <th>export_administration_act_south_africa</th>\n",
              "      <td>0.801498</td>\n",
              "      <td>0.287453</td>\n",
              "      <td>0.636905</td>\n",
              "      <td>0.446887</td>\n",
              "    </tr>\n",
              "  </tbody>\n",
              "</table>\n",
              "</div>"
            ],
            "text/plain": [
              "                                        democrats_mean  ...  republicans_std\n",
              "handicapped_infants                           0.601124  ...         0.390476\n",
              "water_project_cost_sharing                    0.501873  ...         0.470660\n",
              "adoption_of_the_budget_resolution             0.878277  ...         0.342336\n",
              "physician_fee_freeze                          0.067416  ...         0.126611\n",
              "el_salvador_aid                               0.228464  ...         0.221762\n",
              "religious_groups_in_schools                   0.477528  ...         0.305356\n",
              "anti_satellite_test_ban                       0.764045  ...         0.423840\n",
              "aid_to_nicaraguan_contras                     0.823970  ...         0.359390\n",
              "mx_missile                                    0.739700  ...         0.321379\n",
              "immigration                                   0.471910  ...         0.493750\n",
              "synfuels_corporation_cutback                  0.505618  ...         0.340653\n",
              "education_spending                            0.168539  ...         0.337922\n",
              "superfund_right_to_sue                        0.301498  ...         0.347452\n",
              "crime                                         0.355805  ...         0.164126\n",
              "duty_free_exports                             0.629213  ...         0.295870\n",
              "export_administration_act_south_africa        0.801498  ...         0.446887\n",
              "\n",
              "[16 rows x 4 columns]"
            ]
          },
          "metadata": {
            "tags": []
          },
          "execution_count": 13
        }
      ]
    },
    {
      "cell_type": "markdown",
      "metadata": {
        "id": "3B9mUMIGCjDR",
        "colab_type": "text"
      },
      "source": [
        "## Tests"
      ]
    },
    {
      "cell_type": "code",
      "metadata": {
        "id": "OLDU0o7X8-zi",
        "colab_type": "code",
        "colab": {}
      },
      "source": [
        "from scipy.stats import ttest_ind, ttest_ind_from_stats, ttest_rel\n",
        "import seaborn as sns"
      ],
      "execution_count": 0,
      "outputs": []
    },
    {
      "cell_type": "code",
      "metadata": {
        "id": "j8-DljYaCh0O",
        "colab_type": "code",
        "outputId": "d6e4b1e2-e6d5-43bb-a8b0-edb6c7df6100",
        "colab": {
          "base_uri": "https://localhost:8080/",
          "height": 545
        }
      },
      "source": [
        "mean_votes"
      ],
      "execution_count": 15,
      "outputs": [
        {
          "output_type": "execute_result",
          "data": {
            "text/html": [
              "<div>\n",
              "<style scoped>\n",
              "    .dataframe tbody tr th:only-of-type {\n",
              "        vertical-align: middle;\n",
              "    }\n",
              "\n",
              "    .dataframe tbody tr th {\n",
              "        vertical-align: top;\n",
              "    }\n",
              "\n",
              "    .dataframe thead th {\n",
              "        text-align: right;\n",
              "    }\n",
              "</style>\n",
              "<table border=\"1\" class=\"dataframe\">\n",
              "  <thead>\n",
              "    <tr style=\"text-align: right;\">\n",
              "      <th></th>\n",
              "      <th>democrats_mean</th>\n",
              "      <th>democrats_std</th>\n",
              "      <th>republicans_mean</th>\n",
              "      <th>republicans_std</th>\n",
              "    </tr>\n",
              "  </thead>\n",
              "  <tbody>\n",
              "    <tr>\n",
              "      <th>handicapped_infants</th>\n",
              "      <td>0.601124</td>\n",
              "      <td>0.481889</td>\n",
              "      <td>0.193452</td>\n",
              "      <td>0.390476</td>\n",
              "    </tr>\n",
              "    <tr>\n",
              "      <th>water_project_cost_sharing</th>\n",
              "      <td>0.501873</td>\n",
              "      <td>0.473941</td>\n",
              "      <td>0.505952</td>\n",
              "      <td>0.470660</td>\n",
              "    </tr>\n",
              "    <tr>\n",
              "      <th>adoption_of_the_budget_resolution</th>\n",
              "      <td>0.878277</td>\n",
              "      <td>0.317379</td>\n",
              "      <td>0.142857</td>\n",
              "      <td>0.342336</td>\n",
              "    </tr>\n",
              "    <tr>\n",
              "      <th>physician_fee_freeze</th>\n",
              "      <td>0.067416</td>\n",
              "      <td>0.235772</td>\n",
              "      <td>0.979167</td>\n",
              "      <td>0.126611</td>\n",
              "    </tr>\n",
              "    <tr>\n",
              "      <th>el_salvador_aid</th>\n",
              "      <td>0.228464</td>\n",
              "      <td>0.407005</td>\n",
              "      <td>0.943452</td>\n",
              "      <td>0.221762</td>\n",
              "    </tr>\n",
              "    <tr>\n",
              "      <th>religious_groups_in_schools</th>\n",
              "      <td>0.477528</td>\n",
              "      <td>0.491909</td>\n",
              "      <td>0.892857</td>\n",
              "      <td>0.305356</td>\n",
              "    </tr>\n",
              "    <tr>\n",
              "      <th>anti_satellite_test_ban</th>\n",
              "      <td>0.764045</td>\n",
              "      <td>0.416460</td>\n",
              "      <td>0.250000</td>\n",
              "      <td>0.423840</td>\n",
              "    </tr>\n",
              "    <tr>\n",
              "      <th>aid_to_nicaraguan_contras</th>\n",
              "      <td>0.823970</td>\n",
              "      <td>0.376602</td>\n",
              "      <td>0.175595</td>\n",
              "      <td>0.359390</td>\n",
              "    </tr>\n",
              "    <tr>\n",
              "      <th>mx_missile</th>\n",
              "      <td>0.739700</td>\n",
              "      <td>0.418820</td>\n",
              "      <td>0.122024</td>\n",
              "      <td>0.321379</td>\n",
              "    </tr>\n",
              "    <tr>\n",
              "      <th>immigration</th>\n",
              "      <td>0.471910</td>\n",
              "      <td>0.496375</td>\n",
              "      <td>0.556548</td>\n",
              "      <td>0.493750</td>\n",
              "    </tr>\n",
              "    <tr>\n",
              "      <th>synfuels_corporation_cutback</th>\n",
              "      <td>0.505618</td>\n",
              "      <td>0.489520</td>\n",
              "      <td>0.151786</td>\n",
              "      <td>0.340653</td>\n",
              "    </tr>\n",
              "    <tr>\n",
              "      <th>education_spending</th>\n",
              "      <td>0.168539</td>\n",
              "      <td>0.351772</td>\n",
              "      <td>0.842262</td>\n",
              "      <td>0.337922</td>\n",
              "    </tr>\n",
              "    <tr>\n",
              "      <th>superfund_right_to_sue</th>\n",
              "      <td>0.301498</td>\n",
              "      <td>0.444174</td>\n",
              "      <td>0.839286</td>\n",
              "      <td>0.347452</td>\n",
              "    </tr>\n",
              "    <tr>\n",
              "      <th>crime</th>\n",
              "      <td>0.355805</td>\n",
              "      <td>0.469756</td>\n",
              "      <td>0.961310</td>\n",
              "      <td>0.164126</td>\n",
              "    </tr>\n",
              "    <tr>\n",
              "      <th>duty_free_exports</th>\n",
              "      <td>0.629213</td>\n",
              "      <td>0.468128</td>\n",
              "      <td>0.119048</td>\n",
              "      <td>0.295870</td>\n",
              "    </tr>\n",
              "    <tr>\n",
              "      <th>export_administration_act_south_africa</th>\n",
              "      <td>0.801498</td>\n",
              "      <td>0.287453</td>\n",
              "      <td>0.636905</td>\n",
              "      <td>0.446887</td>\n",
              "    </tr>\n",
              "  </tbody>\n",
              "</table>\n",
              "</div>"
            ],
            "text/plain": [
              "                                        democrats_mean  ...  republicans_std\n",
              "handicapped_infants                           0.601124  ...         0.390476\n",
              "water_project_cost_sharing                    0.501873  ...         0.470660\n",
              "adoption_of_the_budget_resolution             0.878277  ...         0.342336\n",
              "physician_fee_freeze                          0.067416  ...         0.126611\n",
              "el_salvador_aid                               0.228464  ...         0.221762\n",
              "religious_groups_in_schools                   0.477528  ...         0.305356\n",
              "anti_satellite_test_ban                       0.764045  ...         0.423840\n",
              "aid_to_nicaraguan_contras                     0.823970  ...         0.359390\n",
              "mx_missile                                    0.739700  ...         0.321379\n",
              "immigration                                   0.471910  ...         0.493750\n",
              "synfuels_corporation_cutback                  0.505618  ...         0.340653\n",
              "education_spending                            0.168539  ...         0.337922\n",
              "superfund_right_to_sue                        0.301498  ...         0.347452\n",
              "crime                                         0.355805  ...         0.164126\n",
              "duty_free_exports                             0.629213  ...         0.295870\n",
              "export_administration_act_south_africa        0.801498  ...         0.446887\n",
              "\n",
              "[16 rows x 4 columns]"
            ]
          },
          "metadata": {
            "tags": []
          },
          "execution_count": 15
        }
      ]
    },
    {
      "cell_type": "code",
      "metadata": {
        "id": "vLXZwWPd4yOP",
        "colab_type": "code",
        "outputId": "50a5aa0b-41c1-4117-8799-ba2b11753a04",
        "colab": {
          "base_uri": "https://localhost:8080/",
          "height": 224
        }
      },
      "source": [
        "df.head()"
      ],
      "execution_count": 16,
      "outputs": [
        {
          "output_type": "execute_result",
          "data": {
            "text/html": [
              "<div>\n",
              "<style scoped>\n",
              "    .dataframe tbody tr th:only-of-type {\n",
              "        vertical-align: middle;\n",
              "    }\n",
              "\n",
              "    .dataframe tbody tr th {\n",
              "        vertical-align: top;\n",
              "    }\n",
              "\n",
              "    .dataframe thead th {\n",
              "        text-align: right;\n",
              "    }\n",
              "</style>\n",
              "<table border=\"1\" class=\"dataframe\">\n",
              "  <thead>\n",
              "    <tr style=\"text-align: right;\">\n",
              "      <th></th>\n",
              "      <th>class_name</th>\n",
              "      <th>handicapped_infants</th>\n",
              "      <th>water_project_cost_sharing</th>\n",
              "      <th>adoption_of_the_budget_resolution</th>\n",
              "      <th>physician_fee_freeze</th>\n",
              "      <th>el_salvador_aid</th>\n",
              "      <th>religious_groups_in_schools</th>\n",
              "      <th>anti_satellite_test_ban</th>\n",
              "      <th>aid_to_nicaraguan_contras</th>\n",
              "      <th>mx_missile</th>\n",
              "      <th>immigration</th>\n",
              "      <th>synfuels_corporation_cutback</th>\n",
              "      <th>education_spending</th>\n",
              "      <th>superfund_right_to_sue</th>\n",
              "      <th>crime</th>\n",
              "      <th>duty_free_exports</th>\n",
              "      <th>export_administration_act_south_africa</th>\n",
              "    </tr>\n",
              "  </thead>\n",
              "  <tbody>\n",
              "    <tr>\n",
              "      <th>0</th>\n",
              "      <td>republican</td>\n",
              "      <td>0.0</td>\n",
              "      <td>1.0</td>\n",
              "      <td>0.0</td>\n",
              "      <td>1.0</td>\n",
              "      <td>1.0</td>\n",
              "      <td>1.0</td>\n",
              "      <td>0.0</td>\n",
              "      <td>0.0</td>\n",
              "      <td>0.0</td>\n",
              "      <td>1.0</td>\n",
              "      <td>0.5</td>\n",
              "      <td>1.0</td>\n",
              "      <td>1.0</td>\n",
              "      <td>1.0</td>\n",
              "      <td>0.0</td>\n",
              "      <td>1.0</td>\n",
              "    </tr>\n",
              "    <tr>\n",
              "      <th>1</th>\n",
              "      <td>republican</td>\n",
              "      <td>0.0</td>\n",
              "      <td>1.0</td>\n",
              "      <td>0.0</td>\n",
              "      <td>1.0</td>\n",
              "      <td>1.0</td>\n",
              "      <td>1.0</td>\n",
              "      <td>0.0</td>\n",
              "      <td>0.0</td>\n",
              "      <td>0.0</td>\n",
              "      <td>0.0</td>\n",
              "      <td>0.0</td>\n",
              "      <td>1.0</td>\n",
              "      <td>1.0</td>\n",
              "      <td>1.0</td>\n",
              "      <td>0.0</td>\n",
              "      <td>0.5</td>\n",
              "    </tr>\n",
              "    <tr>\n",
              "      <th>2</th>\n",
              "      <td>democrat</td>\n",
              "      <td>0.5</td>\n",
              "      <td>1.0</td>\n",
              "      <td>1.0</td>\n",
              "      <td>0.5</td>\n",
              "      <td>1.0</td>\n",
              "      <td>1.0</td>\n",
              "      <td>0.0</td>\n",
              "      <td>0.0</td>\n",
              "      <td>0.0</td>\n",
              "      <td>0.0</td>\n",
              "      <td>1.0</td>\n",
              "      <td>0.0</td>\n",
              "      <td>1.0</td>\n",
              "      <td>1.0</td>\n",
              "      <td>0.0</td>\n",
              "      <td>0.0</td>\n",
              "    </tr>\n",
              "    <tr>\n",
              "      <th>3</th>\n",
              "      <td>democrat</td>\n",
              "      <td>0.0</td>\n",
              "      <td>1.0</td>\n",
              "      <td>1.0</td>\n",
              "      <td>0.0</td>\n",
              "      <td>0.5</td>\n",
              "      <td>1.0</td>\n",
              "      <td>0.0</td>\n",
              "      <td>0.0</td>\n",
              "      <td>0.0</td>\n",
              "      <td>0.0</td>\n",
              "      <td>1.0</td>\n",
              "      <td>0.0</td>\n",
              "      <td>1.0</td>\n",
              "      <td>0.0</td>\n",
              "      <td>0.0</td>\n",
              "      <td>1.0</td>\n",
              "    </tr>\n",
              "    <tr>\n",
              "      <th>4</th>\n",
              "      <td>democrat</td>\n",
              "      <td>1.0</td>\n",
              "      <td>1.0</td>\n",
              "      <td>1.0</td>\n",
              "      <td>0.0</td>\n",
              "      <td>1.0</td>\n",
              "      <td>1.0</td>\n",
              "      <td>0.0</td>\n",
              "      <td>0.0</td>\n",
              "      <td>0.0</td>\n",
              "      <td>0.0</td>\n",
              "      <td>1.0</td>\n",
              "      <td>0.5</td>\n",
              "      <td>1.0</td>\n",
              "      <td>1.0</td>\n",
              "      <td>1.0</td>\n",
              "      <td>1.0</td>\n",
              "    </tr>\n",
              "  </tbody>\n",
              "</table>\n",
              "</div>"
            ],
            "text/plain": [
              "   class_name  ...  export_administration_act_south_africa\n",
              "0  republican  ...                                     1.0\n",
              "1  republican  ...                                     0.5\n",
              "2    democrat  ...                                     0.0\n",
              "3    democrat  ...                                     1.0\n",
              "4    democrat  ...                                     1.0\n",
              "\n",
              "[5 rows x 17 columns]"
            ]
          },
          "metadata": {
            "tags": []
          },
          "execution_count": 16
        }
      ]
    },
    {
      "cell_type": "markdown",
      "metadata": {
        "id": "ud2aIhXfMAe9",
        "colab_type": "text"
      },
      "source": [
        "## handicapped_infants Democrat Favor"
      ]
    },
    {
      "cell_type": "code",
      "metadata": {
        "id": "2zzZldSV9gTg",
        "colab_type": "code",
        "outputId": "d27a27b3-3fc4-4ad4-fedc-38663548f543",
        "colab": {
          "base_uri": "https://localhost:8080/",
          "height": 221
        }
      },
      "source": [
        "# Create DF with criteria needed\n",
        "\n",
        "df1 = df[['class_name', 'handicapped_infants']]\n",
        "print(df1.shape)\n",
        "df1.head()"
      ],
      "execution_count": 17,
      "outputs": [
        {
          "output_type": "stream",
          "text": [
            "(435, 2)\n"
          ],
          "name": "stdout"
        },
        {
          "output_type": "execute_result",
          "data": {
            "text/html": [
              "<div>\n",
              "<style scoped>\n",
              "    .dataframe tbody tr th:only-of-type {\n",
              "        vertical-align: middle;\n",
              "    }\n",
              "\n",
              "    .dataframe tbody tr th {\n",
              "        vertical-align: top;\n",
              "    }\n",
              "\n",
              "    .dataframe thead th {\n",
              "        text-align: right;\n",
              "    }\n",
              "</style>\n",
              "<table border=\"1\" class=\"dataframe\">\n",
              "  <thead>\n",
              "    <tr style=\"text-align: right;\">\n",
              "      <th></th>\n",
              "      <th>class_name</th>\n",
              "      <th>handicapped_infants</th>\n",
              "    </tr>\n",
              "  </thead>\n",
              "  <tbody>\n",
              "    <tr>\n",
              "      <th>0</th>\n",
              "      <td>republican</td>\n",
              "      <td>0.0</td>\n",
              "    </tr>\n",
              "    <tr>\n",
              "      <th>1</th>\n",
              "      <td>republican</td>\n",
              "      <td>0.0</td>\n",
              "    </tr>\n",
              "    <tr>\n",
              "      <th>2</th>\n",
              "      <td>democrat</td>\n",
              "      <td>0.5</td>\n",
              "    </tr>\n",
              "    <tr>\n",
              "      <th>3</th>\n",
              "      <td>democrat</td>\n",
              "      <td>0.0</td>\n",
              "    </tr>\n",
              "    <tr>\n",
              "      <th>4</th>\n",
              "      <td>democrat</td>\n",
              "      <td>1.0</td>\n",
              "    </tr>\n",
              "  </tbody>\n",
              "</table>\n",
              "</div>"
            ],
            "text/plain": [
              "   class_name  handicapped_infants\n",
              "0  republican                  0.0\n",
              "1  republican                  0.0\n",
              "2    democrat                  0.5\n",
              "3    democrat                  0.0\n",
              "4    democrat                  1.0"
            ]
          },
          "metadata": {
            "tags": []
          },
          "execution_count": 17
        }
      ]
    },
    {
      "cell_type": "code",
      "metadata": {
        "id": "oUOlM3QL96Uh",
        "colab_type": "code",
        "outputId": "e117ddad-2d70-4ce1-bdcb-e61eff838ac4",
        "colab": {
          "base_uri": "https://localhost:8080/",
          "height": 545
        }
      },
      "source": [
        "# Visulizations to help\n",
        "\n",
        "df1.loc[df1['class_name'] == 'democrat'].hist()\n",
        "plt.title('democrat')\n",
        "df1.loc[df1['class_name'] == 'republican'].hist()\n",
        "plt.title('republican')\n",
        "plt.show()"
      ],
      "execution_count": 18,
      "outputs": [
        {
          "output_type": "display_data",
          "data": {
            "image/png": "[encoded data removed]",
            "text/plain": [
              "<Figure size 432x288 with 1 Axes>"
            ]
          },
          "metadata": {
            "tags": []
          }
        },
        {
          "output_type": "display_data",
          "data": {
            "image/png": "[encoded data removed]",
            "text/plain": [
              "<Figure size 432x288 with 1 Axes>"
            ]
          },
          "metadata": {
            "tags": []
          }
        }
      ]
    },
    {
      "cell_type": "code",
      "metadata": {
        "id": "tT_Buo-S-_bD",
        "colab_type": "code",
        "outputId": "f213a091-ac24-49b6-cbc5-91494c5d208d",
        "colab": {
          "base_uri": "https://localhost:8080/",
          "height": 85
        }
      },
      "source": [
        "# democrat mean\n",
        "\n",
        "dmean1 = df1.loc[df1['class_name'] == 'democrat'].mean()\n",
        "dstd1 = df1.loc[df1['class_name'] == 'democrat'].std()\n",
        "print('mean: ', dmean1)\n",
        "print('std: ', dstd1)"
      ],
      "execution_count": 19,
      "outputs": [
        {
          "output_type": "stream",
          "text": [
            "mean:  handicapped_infants    0.601124\n",
            "dtype: float64\n",
            "std:  handicapped_infants    0.481889\n",
            "dtype: float64\n"
          ],
          "name": "stdout"
        }
      ]
    },
    {
      "cell_type": "code",
      "metadata": {
        "id": "fy4djS1O-XuQ",
        "colab_type": "code",
        "outputId": "afb465b4-18f7-40b4-be8b-6e7394d0cf61",
        "colab": {
          "base_uri": "https://localhost:8080/",
          "height": 85
        }
      },
      "source": [
        "# republican mean\n",
        "\n",
        "rmean1 = df1.loc[df1['class_name'] == 'republican'].mean()\n",
        "rstd1 = df1.loc[df1['class_name'] == 'democrat'].std()\n",
        "print('mean: ', rmean1)\n",
        "print('std: ', rstd1)"
      ],
      "execution_count": 20,
      "outputs": [
        {
          "output_type": "stream",
          "text": [
            "mean:  handicapped_infants    0.193452\n",
            "dtype: float64\n",
            "std:  handicapped_infants    0.481889\n",
            "dtype: float64\n"
          ],
          "name": "stdout"
        }
      ]
    },
    {
      "cell_type": "code",
      "metadata": {
        "id": "bcJy1bm-_adY",
        "colab_type": "code",
        "outputId": "1c2f0717-bec3-4dcb-c609-d9a63a50f5cc",
        "colab": {
          "base_uri": "https://localhost:8080/",
          "height": 51
        }
      },
      "source": [
        "zscore = (rmean1 - dmean1) / rstd1\n",
        "print(zscore)"
      ],
      "execution_count": 21,
      "outputs": [
        {
          "output_type": "stream",
          "text": [
            "handicapped_infants   -0.845986\n",
            "dtype: float64\n"
          ],
          "name": "stdout"
        }
      ]
    },
    {
      "cell_type": "markdown",
      "metadata": {
        "id": "HoFZqaZaOi3F",
        "colab_type": "text"
      },
      "source": [
        "### Lecture Replication"
      ]
    },
    {
      "cell_type": "code",
      "metadata": {
        "id": "9Id2-qnHEz6R",
        "colab_type": "code",
        "outputId": "7447c40c-e3a3-417b-a949-a76af7033407",
        "colab": {
          "base_uri": "https://localhost:8080/",
          "height": 301
        }
      },
      "source": [
        "# More Visualisations from lecture\n",
        "\n",
        "sns.distplot(df1[df1['class_name'] == 'republican']['handicapped_infants'], color='b')"
      ],
      "execution_count": 22,
      "outputs": [
        {
          "output_type": "execute_result",
          "data": {
            "text/plain": [
              "<matplotlib.axes._subplots.AxesSubplot at 0x7f0f838ea240>"
            ]
          },
          "metadata": {
            "tags": []
          },
          "execution_count": 22
        },
        {
          "output_type": "display_data",
          "data": {
            "image/png": "[encoded data removed]",
            "text/plain": [
              "<Figure size 432x288 with 1 Axes>"
            ]
          },
          "metadata": {
            "tags": []
          }
        }
      ]
    },
    {
      "cell_type": "code",
      "metadata": {
        "id": "DRo-bNhgHV0x",
        "colab_type": "code",
        "outputId": "45a536c5-9434-4dac-ceaf-193200760037",
        "colab": {
          "base_uri": "https://localhost:8080/",
          "height": 301
        }
      },
      "source": [
        "sns.distplot(df1[df1['class_name'] == 'democrat']['handicapped_infants'], color='r')"
      ],
      "execution_count": 23,
      "outputs": [
        {
          "output_type": "execute_result",
          "data": {
            "text/plain": [
              "<matplotlib.axes._subplots.AxesSubplot at 0x7f0f8386bcf8>"
            ]
          },
          "metadata": {
            "tags": []
          },
          "execution_count": 23
        },
        {
          "output_type": "display_data",
          "data": {
            "image/png": "[encoded data removed]",
            "text/plain": [
              "<Figure size 432x288 with 1 Axes>"
            ]
          },
          "metadata": {
            "tags": []
          }
        }
      ]
    },
    {
      "cell_type": "code",
      "metadata": {
        "id": "emka7gAIKbV_",
        "colab_type": "code",
        "outputId": "71d04322-3873-421c-ccd7-56392b931248",
        "colab": {
          "base_uri": "https://localhost:8080/",
          "height": 286
        }
      },
      "source": [
        "# not sure why the seaborn y axis is wrong\n",
        "\n",
        "df1[df1['class_name'] == 'democrat']['handicapped_infants'].hist()"
      ],
      "execution_count": 24,
      "outputs": [
        {
          "output_type": "execute_result",
          "data": {
            "text/plain": [
              "<matplotlib.axes._subplots.AxesSubplot at 0x7f0f838c09e8>"
            ]
          },
          "metadata": {
            "tags": []
          },
          "execution_count": 24
        },
        {
          "output_type": "display_data",
          "data": {
            "image/png": "[encoded data removed]",
            "text/plain": [
              "<Figure size 432x288 with 1 Axes>"
            ]
          },
          "metadata": {
            "tags": []
          }
        }
      ]
    },
    {
      "cell_type": "code",
      "metadata": {
        "id": "hZDepq8-MQlj",
        "colab_type": "code",
        "outputId": "f1ec9e2c-7db4-4532-a489-0beffa1ad0df",
        "colab": {
          "base_uri": "https://localhost:8080/",
          "height": 51
        }
      },
      "source": [
        "# Replicating code from lecture\n",
        "\n",
        "tstat, pvalue = ttest_ind(df1[df1['class_name'] == 'republican']['handicapped_infants'],\n",
        "                          df1[df1['class_name'] == 'democrat']['handicapped_infants'])\n",
        "print(f'{tstat:10f}')\n",
        "print(pvalue)\n",
        "\n",
        "# pvalue is very small\n",
        "# after replicating the code from the lecture I still have no idea how I got to these numbers or what they mean"
      ],
      "execution_count": 25,
      "outputs": [
        {
          "output_type": "stream",
          "text": [
            " -9.223178\n",
            "1.2761169357253626e-18\n"
          ],
          "name": "stdout"
        }
      ]
    },
    {
      "cell_type": "markdown",
      "metadata": {
        "id": "WvJtEENgOnqF",
        "colab_type": "text"
      },
      "source": [
        "### Sampled Test"
      ]
    },
    {
      "cell_type": "code",
      "metadata": {
        "id": "i0QyBmrF1i3w",
        "colab_type": "code",
        "outputId": "182919c5-4463-4cf8-8531-77450ff727e5",
        "colab": {
          "base_uri": "https://localhost:8080/",
          "height": 442
        }
      },
      "source": [
        "# create array of dem and rep votes to sample/simulate from\n",
        "\n",
        "r1 = np.array(df1['handicapped_infants'].loc[df1['class_name'] == 'republican'])\n",
        "d1 = np.array(df1['handicapped_infants'].loc[df1['class_name'] == 'democrat'])\n",
        "print(r1)\n",
        "print(d1)"
      ],
      "execution_count": 26,
      "outputs": [
        {
          "output_type": "stream",
          "text": [
            "[0.  0.  0.  0.  0.  0.  0.  0.  0.  1.  0.  0.  0.  1.  1.  0.  0.  0.\n",
            " 1.  0.  0.  0.  0.  0.  0.  1.  0.  0.  1.  1.  0.  0.  0.  0.  0.  0.\n",
            " 0.  0.  0.  0.  0.  0.  1.  0.  0.  0.  0.  1.  0.  0.  0.  0.  0.  0.\n",
            " 0.  0.  0.  0.  0.  0.  1.  0.  1.  1.  0.  0.  1.  1.  0.  0.  1.  0.\n",
            " 0.  0.  0.  0.  0.  1.  0.  1.  0.  0.  0.  0.  0.  0.  0.  0.  0.  0.\n",
            " 0.  0.  0.  0.  0.5 0.  0.  0.  0.  0.  0.  1.  0.  1.  0.  0.  0.  0.\n",
            " 1.  1.  0.  0.  0.  0.  0.  0.  0.  0.  0.  0.  0.  0.  0.  0.  0.  0.\n",
            " 0.  0.  1.  0.  0.  0.  0.  1.  0.  0.  0.  1.  0.  0.  0.  1.  1.  0.\n",
            " 0.  0.  0.  0.  1.  0.5 0.  0.  0.  0.5 0.  1.  0.  0.  0.  0.  1.  1.\n",
            " 1.  0.  0.  0.  0.  0. ]\n",
            "[0.5 0.  1.  0.  0.  1.  0.  1.  1.  1.  1.  1.  1.  1.  1.  1.  1.  1.\n",
            " 1.  1.  1.  1.  1.  1.  1.  1.  1.  1.  1.  1.  1.  1.  1.  1.  1.  1.\n",
            " 1.  1.  1.  1.  1.  1.  1.  1.  1.  0.  0.  0.  1.  1.  1.  0.  0.  1.\n",
            " 1.  1.  1.  1.  1.  0.  1.  1.  1.  1.  1.  1.  0.5 1.  1.  1.  0.  0.\n",
            " 1.  0.  1.  0.  0.  0.  0.  0.5 1.  0.  0.  0.  1.  0.5 0.  0.  0.  0.\n",
            " 1.  0.  0.  0.  0.  0.  0.  0.  1.  0.  0.  1.  1.  0.  0.  1.  0.  0.\n",
            " 0.5 1.  0.5 0.  1.  0.5 0.  1.  0.  1.  1.  0.  0.  0.  0.  0.  1.  0.\n",
            " 1.  1.  1.  0.  0.  1.  0.  0.  0.  0.  1.  1.  0.  0.  0.  1.  0.  1.\n",
            " 0.  0.  0.  1.  1.  1.  0.  1.  1.  0.  1.  1.  1.  1.  0.  1.  1.  1.\n",
            " 1.  1.  1.  1.  1.  1.  1.  0.  1.  0.  0.  0.  0.  0.  1.  1.  1.  1.\n",
            " 1.  1.  1.  0.  1.  0.  0.  0.  1.  1.  0.  1.  0.  1.  0.  1.  0.  1.\n",
            " 1.  1.  0.  1.  1.  1.  1.  1.  0.  0.  0.  1.  1.  0.  0.  0.  1.  0.\n",
            " 0.  0.  1.  1.  1.  1.  0.  1.  1.  0.  1.  1.  0.  0.  0.  1.  1.  1.\n",
            " 1.  1.  1.  1.  0.  1.  0.  1.  0.5 1.  1.  1.  1.  1.  0.  1.  0.  1.\n",
            " 1.  1.  0.  1.  1.  1.  0.  0.  0.  0.  0.  1.  0.5 1.  0. ]\n"
          ],
          "name": "stdout"
        }
      ]
    },
    {
      "cell_type": "code",
      "metadata": {
        "id": "76Ll206Q4GBo",
        "colab_type": "code",
        "colab": {}
      },
      "source": [
        "import random\n",
        "from statistics import mean, stdev"
      ],
      "execution_count": 0,
      "outputs": []
    },
    {
      "cell_type": "code",
      "metadata": {
        "id": "oWId9ime4Q2k",
        "colab_type": "code",
        "colab": {}
      },
      "source": [
        "def bootstrap_sample(items):\n",
        "    # Random resample *with replacement*\n",
        "    return random.choices(items, k=50)"
      ],
      "execution_count": 0,
      "outputs": []
    },
    {
      "cell_type": "code",
      "metadata": {
        "id": "4opZ3J2k6hAN",
        "colab_type": "code",
        "outputId": "4fd5323d-e4bd-43fd-95e1-b51ba13a408f",
        "colab": {
          "base_uri": "https://localhost:8080/",
          "height": 867
        }
      },
      "source": [
        "# bootstrap testing\n",
        "\n",
        "apples = [1, 2, 4, 5, 6, 7, 8, 9]\n",
        "\n",
        "a_sample = bootstrap_sample(apples)\n",
        "a_sample"
      ],
      "execution_count": 29,
      "outputs": [
        {
          "output_type": "execute_result",
          "data": {
            "text/plain": [
              "[8,\n",
              " 9,\n",
              " 9,\n",
              " 4,\n",
              " 1,\n",
              " 5,\n",
              " 6,\n",
              " 8,\n",
              " 5,\n",
              " 9,\n",
              " 6,\n",
              " 2,\n",
              " 9,\n",
              " 5,\n",
              " 7,\n",
              " 9,\n",
              " 8,\n",
              " 5,\n",
              " 5,\n",
              " 4,\n",
              " 9,\n",
              " 2,\n",
              " 8,\n",
              " 4,\n",
              " 5,\n",
              " 5,\n",
              " 7,\n",
              " 4,\n",
              " 8,\n",
              " 1,\n",
              " 2,\n",
              " 8,\n",
              " 4,\n",
              " 6,\n",
              " 7,\n",
              " 7,\n",
              " 4,\n",
              " 8,\n",
              " 9,\n",
              " 6,\n",
              " 1,\n",
              " 2,\n",
              " 2,\n",
              " 8,\n",
              " 5,\n",
              " 5,\n",
              " 2,\n",
              " 8,\n",
              " 4,\n",
              " 7]"
            ]
          },
          "metadata": {
            "tags": []
          },
          "execution_count": 29
        }
      ]
    },
    {
      "cell_type": "code",
      "metadata": {
        "id": "M4WqxMIJ4aEt",
        "colab_type": "code",
        "outputId": "79f01cea-d9cd-4aab-e00e-b53aa39e3cb9",
        "colab": {
          "base_uri": "https://localhost:8080/",
          "height": 51
        }
      },
      "source": [
        "# Create Samples with replacement\n",
        "\n",
        "r1_sample = bootstrap_sample(r1)\n",
        "d1_sample = bootstrap_sample(d1)\n",
        "\n",
        "print(mean(r1_sample))\n",
        "mean(r1)"
      ],
      "execution_count": 30,
      "outputs": [
        {
          "output_type": "stream",
          "text": [
            "0.14\n"
          ],
          "name": "stdout"
        },
        {
          "output_type": "execute_result",
          "data": {
            "text/plain": [
              "0.19345238095238096"
            ]
          },
          "metadata": {
            "tags": []
          },
          "execution_count": 30
        }
      ]
    },
    {
      "cell_type": "code",
      "metadata": {
        "id": "RrIEpw3i8XSi",
        "colab_type": "code",
        "outputId": "d74109fc-4986-43cb-c795-c38cb5473838",
        "colab": {
          "base_uri": "https://localhost:8080/",
          "height": 221
        }
      },
      "source": [
        "r1_sample_df = pd.DataFrame(r1_sample)\n",
        "d1_sample_df = pd.DataFrame(d1_sample)\n",
        "\n",
        "print(r1_sample_df.shape)\n",
        "r1_sample_df.head()"
      ],
      "execution_count": 31,
      "outputs": [
        {
          "output_type": "stream",
          "text": [
            "(50, 1)\n"
          ],
          "name": "stdout"
        },
        {
          "output_type": "execute_result",
          "data": {
            "text/html": [
              "<div>\n",
              "<style scoped>\n",
              "    .dataframe tbody tr th:only-of-type {\n",
              "        vertical-align: middle;\n",
              "    }\n",
              "\n",
              "    .dataframe tbody tr th {\n",
              "        vertical-align: top;\n",
              "    }\n",
              "\n",
              "    .dataframe thead th {\n",
              "        text-align: right;\n",
              "    }\n",
              "</style>\n",
              "<table border=\"1\" class=\"dataframe\">\n",
              "  <thead>\n",
              "    <tr style=\"text-align: right;\">\n",
              "      <th></th>\n",
              "      <th>0</th>\n",
              "    </tr>\n",
              "  </thead>\n",
              "  <tbody>\n",
              "    <tr>\n",
              "      <th>0</th>\n",
              "      <td>0.0</td>\n",
              "    </tr>\n",
              "    <tr>\n",
              "      <th>1</th>\n",
              "      <td>0.0</td>\n",
              "    </tr>\n",
              "    <tr>\n",
              "      <th>2</th>\n",
              "      <td>0.0</td>\n",
              "    </tr>\n",
              "    <tr>\n",
              "      <th>3</th>\n",
              "      <td>0.0</td>\n",
              "    </tr>\n",
              "    <tr>\n",
              "      <th>4</th>\n",
              "      <td>0.0</td>\n",
              "    </tr>\n",
              "  </tbody>\n",
              "</table>\n",
              "</div>"
            ],
            "text/plain": [
              "     0\n",
              "0  0.0\n",
              "1  0.0\n",
              "2  0.0\n",
              "3  0.0\n",
              "4  0.0"
            ]
          },
          "metadata": {
            "tags": []
          },
          "execution_count": 31
        }
      ]
    },
    {
      "cell_type": "code",
      "metadata": {
        "id": "wk5dcJc76cmA",
        "colab_type": "code",
        "outputId": "584918ab-9882-4a43-c2de-b230102e4383",
        "colab": {
          "base_uri": "https://localhost:8080/",
          "height": 315
        }
      },
      "source": [
        "r1_sample_df.hist()"
      ],
      "execution_count": 32,
      "outputs": [
        {
          "output_type": "execute_result",
          "data": {
            "text/plain": [
              "array([[<matplotlib.axes._subplots.AxesSubplot object at 0x7f0f916b05f8>]],\n",
              "      dtype=object)"
            ]
          },
          "metadata": {
            "tags": []
          },
          "execution_count": 32
        },
        {
          "output_type": "display_data",
          "data": {
            "image/png": "[encoded data removed]",
            "text/plain": [
              "<Figure size 432x288 with 1 Axes>"
            ]
          },
          "metadata": {
            "tags": []
          }
        }
      ]
    },
    {
      "cell_type": "code",
      "metadata": {
        "id": "1UQQhwhT_HIO",
        "colab_type": "code",
        "outputId": "49ee97ee-e560-4a14-8ea1-9b92fa25753c",
        "colab": {
          "base_uri": "https://localhost:8080/",
          "height": 204
        }
      },
      "source": [
        "print('republican mean:', r1_sample_df.mean())\n",
        "print('republican st Dev:', r1_sample_df.std())\n",
        "print(r1_sample_df.shape)\n",
        "\n",
        "print('---' * 10)\n",
        "\n",
        "print('democrat mean:', d1_sample_df.mean())\n",
        "print('democrat st Dev:', d1_sample_df.std())\n",
        "print(d1_sample_df.shape)"
      ],
      "execution_count": 33,
      "outputs": [
        {
          "output_type": "stream",
          "text": [
            "republican mean: 0    0.14\n",
            "dtype: float64\n",
            "republican st Dev: 0    0.335638\n",
            "dtype: float64\n",
            "(50, 1)\n",
            "------------------------------\n",
            "democrat mean: 0    0.66\n",
            "dtype: float64\n",
            "democrat st Dev: 0    0.478518\n",
            "dtype: float64\n",
            "(50, 1)\n"
          ],
          "name": "stdout"
        }
      ]
    },
    {
      "cell_type": "code",
      "metadata": {
        "id": "VAkJcKHvEOHW",
        "colab_type": "code",
        "outputId": "017ddd81-5b90-4aa2-e368-70832b393b18",
        "colab": {
          "base_uri": "https://localhost:8080/",
          "height": 34
        }
      },
      "source": [
        "ttest_ind(r1_sample_df, d1_sample_df)"
      ],
      "execution_count": 34,
      "outputs": [
        {
          "output_type": "execute_result",
          "data": {
            "text/plain": [
              "Ttest_indResult(statistic=array([-6.29084028]), pvalue=array([8.85730777e-09]))"
            ]
          },
          "metadata": {
            "tags": []
          },
          "execution_count": 34
        }
      ]
    },
    {
      "cell_type": "code",
      "metadata": {
        "id": "JDP8v3QID8Df",
        "colab_type": "code",
        "outputId": "9772d27a-6d79-4e7a-c984-a7d6f410da2f",
        "colab": {
          "base_uri": "https://localhost:8080/",
          "height": 34
        }
      },
      "source": [
        "ttest_ind(r1_sample, d1_sample)"
      ],
      "execution_count": 35,
      "outputs": [
        {
          "output_type": "execute_result",
          "data": {
            "text/plain": [
              "Ttest_indResult(statistic=-6.29084028136458, pvalue=8.857307772268535e-09)"
            ]
          },
          "metadata": {
            "tags": []
          },
          "execution_count": 35
        }
      ]
    },
    {
      "cell_type": "code",
      "metadata": {
        "id": "VFrP8f44ACUx",
        "colab_type": "code",
        "outputId": "bd6d4964-5127-4540-968b-f82c0bbb8324",
        "colab": {
          "base_uri": "https://localhost:8080/",
          "height": 51
        }
      },
      "source": [
        "# Calculate t stat and pvalue for issue one\n",
        "\n",
        "tstat, pvalue = ttest_ind(r1_sample, d1_sample)\n",
        "print('t stat:', f'{tstat:.3f}')\n",
        "print('pvalue:', f'{pvalue:.9f}')"
      ],
      "execution_count": 76,
      "outputs": [
        {
          "output_type": "stream",
          "text": [
            "t stat: -6.291\n",
            "pvalue: 0.000000009\n"
          ],
          "name": "stdout"
        }
      ]
    },
    {
      "cell_type": "markdown",
      "metadata": {
        "id": "CBHq4bYI_bRP",
        "colab_type": "text"
      },
      "source": [
        "H<sub>0</sub> : $\\overline{x}$<sub>a</sub> = $\\overline{x}$<sub>b</sub><br/>\n",
        "H<sub>a</sub> : $\\overline{x}$<sub>a</sub> != $\\overline{x}$<sub>b</sub><br/>\n"
      ]
    },
    {
      "cell_type": "markdown",
      "metadata": {
        "id": "VeHDYadlK3As",
        "colab_type": "text"
      },
      "source": [
        "We can reject the null hypotheses because 0.000000009 < 0.01<br/>\n",
        "\n",
        "This shows that the Democrat party sample favored this issue much more that the Republicans.<br/>\n",
        "The Republicans and Democrats voting samples shared a pvalue of 0.000000009.<br/>\n",
        "The pvalue is the probability the sample came from the same population."
      ]
    },
    {
      "cell_type": "code",
      "metadata": {
        "id": "3LIARxn2JzWn",
        "colab_type": "code",
        "outputId": "f23370f8-9a4e-422b-ee25-b9bef9093a93",
        "colab": {
          "base_uri": "https://localhost:8080/",
          "height": 573
        }
      },
      "source": [
        "r1_sample_df.hist();\n",
        "\n",
        "plt.title('Republican Vote Count Sample N=50')\n",
        "plt.xticks([0,.5,1])\n",
        "plt.xlabel('0 = No, 0.5 = Abstain, 1 = Yes')\n",
        "plt.show()\n",
        "\n",
        "d1_sample_df.hist();\n",
        "\n",
        "plt.title('Democrat Vote Count Sample N=50')\n",
        "plt.xticks([0,.5,1])\n",
        "plt.xlabel('0 = No, 0.5 = Abstain, 1 = Yes')\n",
        "plt.show()"
      ],
      "execution_count": 56,
      "outputs": [
        {
          "output_type": "display_data",
          "data": {
            "image/png": "[encoded data removed]",
            "text/plain": [
              "<Figure size 432x288 with 1 Axes>"
            ]
          },
          "metadata": {
            "tags": []
          }
        },
        {
          "output_type": "display_data",
          "data": {
            "image/png": "[encoded data removed]",
            "text/plain": [
              "<Figure size 432x288 with 1 Axes>"
            ]
          },
          "metadata": {
            "tags": []
          }
        }
      ]
    },
    {
      "cell_type": "markdown",
      "metadata": {
        "id": "o38LlLpPPC67",
        "colab_type": "text"
      },
      "source": [
        "##  aid_to_nicaraguan_contras Democrat Favor"
      ]
    },
    {
      "cell_type": "code",
      "metadata": {
        "id": "QlZoRyWzPQwl",
        "colab_type": "code",
        "outputId": "1828baa8-314b-464a-9259-54612dac627e",
        "colab": {
          "base_uri": "https://localhost:8080/",
          "height": 221
        }
      },
      "source": [
        "# Create DF with criteria needed\n",
        "\n",
        "df2 = df[['class_name', 'aid_to_nicaraguan_contras']]\n",
        "print(df2.shape)\n",
        "df2.head()"
      ],
      "execution_count": 57,
      "outputs": [
        {
          "output_type": "stream",
          "text": [
            "(435, 2)\n"
          ],
          "name": "stdout"
        },
        {
          "output_type": "execute_result",
          "data": {
            "text/html": [
              "<div>\n",
              "<style scoped>\n",
              "    .dataframe tbody tr th:only-of-type {\n",
              "        vertical-align: middle;\n",
              "    }\n",
              "\n",
              "    .dataframe tbody tr th {\n",
              "        vertical-align: top;\n",
              "    }\n",
              "\n",
              "    .dataframe thead th {\n",
              "        text-align: right;\n",
              "    }\n",
              "</style>\n",
              "<table border=\"1\" class=\"dataframe\">\n",
              "  <thead>\n",
              "    <tr style=\"text-align: right;\">\n",
              "      <th></th>\n",
              "      <th>class_name</th>\n",
              "      <th>aid_to_nicaraguan_contras</th>\n",
              "    </tr>\n",
              "  </thead>\n",
              "  <tbody>\n",
              "    <tr>\n",
              "      <th>0</th>\n",
              "      <td>republican</td>\n",
              "      <td>0.0</td>\n",
              "    </tr>\n",
              "    <tr>\n",
              "      <th>1</th>\n",
              "      <td>republican</td>\n",
              "      <td>0.0</td>\n",
              "    </tr>\n",
              "    <tr>\n",
              "      <th>2</th>\n",
              "      <td>democrat</td>\n",
              "      <td>0.0</td>\n",
              "    </tr>\n",
              "    <tr>\n",
              "      <th>3</th>\n",
              "      <td>democrat</td>\n",
              "      <td>0.0</td>\n",
              "    </tr>\n",
              "    <tr>\n",
              "      <th>4</th>\n",
              "      <td>democrat</td>\n",
              "      <td>0.0</td>\n",
              "    </tr>\n",
              "  </tbody>\n",
              "</table>\n",
              "</div>"
            ],
            "text/plain": [
              "   class_name  aid_to_nicaraguan_contras\n",
              "0  republican                        0.0\n",
              "1  republican                        0.0\n",
              "2    democrat                        0.0\n",
              "3    democrat                        0.0\n",
              "4    democrat                        0.0"
            ]
          },
          "metadata": {
            "tags": []
          },
          "execution_count": 57
        }
      ]
    },
    {
      "cell_type": "code",
      "metadata": {
        "id": "-MXoj3bCPj2p",
        "colab_type": "code",
        "outputId": "47735cd3-fb8f-4afc-f9c4-36111e150cda",
        "colab": {
          "base_uri": "https://localhost:8080/",
          "height": 357
        }
      },
      "source": [
        "# create array of dem and rep votes to sample/simulate from\n",
        "\n",
        "r2 = np.array(df2['aid_to_nicaraguan_contras'].loc[df2['class_name'] == 'republican'])\n",
        "d2 = np.array(df2['aid_to_nicaraguan_contras'].loc[df2['class_name'] == 'democrat'])\n",
        "print(r2)\n",
        "print(r2)"
      ],
      "execution_count": 39,
      "outputs": [
        {
          "output_type": "stream",
          "text": [
            "[0.  0.  0.  0.  0.  0.  0.  0.  0.  1.  0.  0.  0.  0.  0.  0.  0.  0.5\n",
            " 0.  0.  0.  0.  0.  0.  0.  0.  0.  0.  1.  0.  0.  0.  0.  0.  0.  0.\n",
            " 0.  0.  0.  0.5 0.  0.  0.  0.  0.  0.  0.  1.  0.  0.  0.  0.  0.  0.\n",
            " 0.  1.  1.  1.  0.  0.  0.  0.  0.5 0.  0.  0.  1.  1.  0.  1.  1.  0.\n",
            " 0.5 0.  0.  0.  0.  0.  0.  0.  0.  0.  0.  0.  0.  0.  0.  0.  0.  0.\n",
            " 0.  0.5 0.  0.  0.5 0.  0.  0.  0.  0.  0.  1.  1.  0.  0.  1.  0.  0.\n",
            " 1.  0.  0.  0.5 0.  1.  0.  0.  0.  0.  0.  0.  0.  0.  1.  0.5 0.  0.\n",
            " 0.  0.  0.  0.  0.  0.  0.  0.  1.  1.  0.  1.  0.  0.  0.  0.  0.  0.\n",
            " 0.  0.5 0.  0.  0.  1.  0.  0.5 0.  1.  0.  0.  0.  0.  0.  0.  1.  0.\n",
            " 1.  1.  0.  0.  0.5 0. ]\n",
            "[0.  0.  0.  0.  0.  0.  0.  0.  0.  1.  0.  0.  0.  0.  0.  0.  0.  0.5\n",
            " 0.  0.  0.  0.  0.  0.  0.  0.  0.  0.  1.  0.  0.  0.  0.  0.  0.  0.\n",
            " 0.  0.  0.  0.5 0.  0.  0.  0.  0.  0.  0.  1.  0.  0.  0.  0.  0.  0.\n",
            " 0.  1.  1.  1.  0.  0.  0.  0.  0.5 0.  0.  0.  1.  1.  0.  1.  1.  0.\n",
            " 0.5 0.  0.  0.  0.  0.  0.  0.  0.  0.  0.  0.  0.  0.  0.  0.  0.  0.\n",
            " 0.  0.5 0.  0.  0.5 0.  0.  0.  0.  0.  0.  1.  1.  0.  0.  1.  0.  0.\n",
            " 1.  0.  0.  0.5 0.  1.  0.  0.  0.  0.  0.  0.  0.  0.  1.  0.5 0.  0.\n",
            " 0.  0.  0.  0.  0.  0.  0.  0.  1.  1.  0.  1.  0.  0.  0.  0.  0.  0.\n",
            " 0.  0.5 0.  0.  0.  1.  0.  0.5 0.  1.  0.  0.  0.  0.  0.  0.  1.  0.\n",
            " 1.  1.  0.  0.  0.5 0. ]\n"
          ],
          "name": "stdout"
        }
      ]
    },
    {
      "cell_type": "code",
      "metadata": {
        "id": "U3YQb_DFP7-o",
        "colab_type": "code",
        "outputId": "f222c388-76a3-4764-f89b-49b54bf23161",
        "colab": {
          "base_uri": "https://localhost:8080/",
          "height": 51
        }
      },
      "source": [
        "# Create Samples with replacement\n",
        "\n",
        "r2_sample = bootstrap_sample(r2)\n",
        "d2_sample = bootstrap_sample(d2)\n",
        "\n",
        "print(mean(r2_sample))\n",
        "mean(r2)"
      ],
      "execution_count": 40,
      "outputs": [
        {
          "output_type": "stream",
          "text": [
            "0.16\n"
          ],
          "name": "stdout"
        },
        {
          "output_type": "execute_result",
          "data": {
            "text/plain": [
              "0.17559523809523808"
            ]
          },
          "metadata": {
            "tags": []
          },
          "execution_count": 40
        }
      ]
    },
    {
      "cell_type": "code",
      "metadata": {
        "id": "ilk6HVi9QJYX",
        "colab_type": "code",
        "outputId": "e6f51057-1fdd-4a1c-df68-0d167dbc279e",
        "colab": {
          "base_uri": "https://localhost:8080/",
          "height": 221
        }
      },
      "source": [
        "r2_sample_df = pd.DataFrame(r2_sample)\n",
        "d2_sample_df = pd.DataFrame(d2_sample)\n",
        "\n",
        "print(r2_sample_df.shape)\n",
        "r2_sample_df.head()"
      ],
      "execution_count": 41,
      "outputs": [
        {
          "output_type": "stream",
          "text": [
            "(50, 1)\n"
          ],
          "name": "stdout"
        },
        {
          "output_type": "execute_result",
          "data": {
            "text/html": [
              "<div>\n",
              "<style scoped>\n",
              "    .dataframe tbody tr th:only-of-type {\n",
              "        vertical-align: middle;\n",
              "    }\n",
              "\n",
              "    .dataframe tbody tr th {\n",
              "        vertical-align: top;\n",
              "    }\n",
              "\n",
              "    .dataframe thead th {\n",
              "        text-align: right;\n",
              "    }\n",
              "</style>\n",
              "<table border=\"1\" class=\"dataframe\">\n",
              "  <thead>\n",
              "    <tr style=\"text-align: right;\">\n",
              "      <th></th>\n",
              "      <th>0</th>\n",
              "    </tr>\n",
              "  </thead>\n",
              "  <tbody>\n",
              "    <tr>\n",
              "      <th>0</th>\n",
              "      <td>1.0</td>\n",
              "    </tr>\n",
              "    <tr>\n",
              "      <th>1</th>\n",
              "      <td>0.0</td>\n",
              "    </tr>\n",
              "    <tr>\n",
              "      <th>2</th>\n",
              "      <td>0.0</td>\n",
              "    </tr>\n",
              "    <tr>\n",
              "      <th>3</th>\n",
              "      <td>0.0</td>\n",
              "    </tr>\n",
              "    <tr>\n",
              "      <th>4</th>\n",
              "      <td>1.0</td>\n",
              "    </tr>\n",
              "  </tbody>\n",
              "</table>\n",
              "</div>"
            ],
            "text/plain": [
              "     0\n",
              "0  1.0\n",
              "1  0.0\n",
              "2  0.0\n",
              "3  0.0\n",
              "4  1.0"
            ]
          },
          "metadata": {
            "tags": []
          },
          "execution_count": 41
        }
      ]
    },
    {
      "cell_type": "code",
      "metadata": {
        "id": "LbI457tcQRgN",
        "colab_type": "code",
        "outputId": "4a9fe0ba-2c7e-4fe2-e39d-4055fac4ec50",
        "colab": {
          "base_uri": "https://localhost:8080/",
          "height": 204
        }
      },
      "source": [
        "print('republican mean:', r2_sample_df.mean())\n",
        "print('republican st Dev:', r2_sample_df.std())\n",
        "print(r2_sample_df.shape)\n",
        "\n",
        "print('---' * 10)\n",
        "\n",
        "print('democrat mean:', d2_sample_df.mean())\n",
        "print('democrat st Dev:', d2_sample_df.std())\n",
        "print(d2_sample_df.shape)"
      ],
      "execution_count": 42,
      "outputs": [
        {
          "output_type": "stream",
          "text": [
            "republican mean: 0    0.16\n",
            "dtype: float64\n",
            "republican st Dev: 0    0.356285\n",
            "dtype: float64\n",
            "(50, 1)\n",
            "------------------------------\n",
            "democrat mean: 0    0.69\n",
            "dtype: float64\n",
            "democrat st Dev: 0    0.461696\n",
            "dtype: float64\n",
            "(50, 1)\n"
          ],
          "name": "stdout"
        }
      ]
    },
    {
      "cell_type": "code",
      "metadata": {
        "id": "YG_RHwSgQfPl",
        "colab_type": "code",
        "outputId": "eddb9168-d0bb-4e0e-86eb-9981a5d49cf2",
        "colab": {
          "base_uri": "https://localhost:8080/",
          "height": 51
        }
      },
      "source": [
        "# Calculate t stat and pvalue for issue one\n",
        "\n",
        "tstat, pvalue = ttest_ind(r2_sample, d2_sample)\n",
        "print('t stat:', f'{tstat:.3f}')\n",
        "print('pvalue:', f'{pvalue:.10f}')"
      ],
      "execution_count": 73,
      "outputs": [
        {
          "output_type": "stream",
          "text": [
            "t stat: -6.426\n",
            "pvalue: 0.0000000047\n"
          ],
          "name": "stdout"
        }
      ]
    },
    {
      "cell_type": "markdown",
      "metadata": {
        "id": "ce3xY5nnQdcl",
        "colab_type": "text"
      },
      "source": [
        "We can reject the null hypotheses because 0.0000000047 < 0.01<br/>\n",
        "\n",
        "This shows that the Democratic party sample favored this issue much more that the Republicans.<br/>\n",
        "The Republicans and Democrats voting samples shared a pvalue of 0.0000000047.<br/>\n",
        "The pvalue is the probability the sample came from the same population."
      ]
    },
    {
      "cell_type": "markdown",
      "metadata": {
        "id": "AU06k5iiSlk7",
        "colab_type": "text"
      },
      "source": [
        "##  water_project_cost_sharing Bi-partesian"
      ]
    },
    {
      "cell_type": "code",
      "metadata": {
        "id": "-nW4PsoHRxaO",
        "colab_type": "code",
        "outputId": "d35895d5-5549-4a8b-b9fa-c1a510e64f91",
        "colab": {
          "base_uri": "https://localhost:8080/",
          "height": 221
        }
      },
      "source": [
        "# Create DF with criteria needed\n",
        "\n",
        "df3 = df[['class_name', 'water_project_cost_sharing']]\n",
        "print(df3.shape)\n",
        "df3.head()"
      ],
      "execution_count": 44,
      "outputs": [
        {
          "output_type": "stream",
          "text": [
            "(435, 2)\n"
          ],
          "name": "stdout"
        },
        {
          "output_type": "execute_result",
          "data": {
            "text/html": [
              "<div>\n",
              "<style scoped>\n",
              "    .dataframe tbody tr th:only-of-type {\n",
              "        vertical-align: middle;\n",
              "    }\n",
              "\n",
              "    .dataframe tbody tr th {\n",
              "        vertical-align: top;\n",
              "    }\n",
              "\n",
              "    .dataframe thead th {\n",
              "        text-align: right;\n",
              "    }\n",
              "</style>\n",
              "<table border=\"1\" class=\"dataframe\">\n",
              "  <thead>\n",
              "    <tr style=\"text-align: right;\">\n",
              "      <th></th>\n",
              "      <th>class_name</th>\n",
              "      <th>water_project_cost_sharing</th>\n",
              "    </tr>\n",
              "  </thead>\n",
              "  <tbody>\n",
              "    <tr>\n",
              "      <th>0</th>\n",
              "      <td>republican</td>\n",
              "      <td>1.0</td>\n",
              "    </tr>\n",
              "    <tr>\n",
              "      <th>1</th>\n",
              "      <td>republican</td>\n",
              "      <td>1.0</td>\n",
              "    </tr>\n",
              "    <tr>\n",
              "      <th>2</th>\n",
              "      <td>democrat</td>\n",
              "      <td>1.0</td>\n",
              "    </tr>\n",
              "    <tr>\n",
              "      <th>3</th>\n",
              "      <td>democrat</td>\n",
              "      <td>1.0</td>\n",
              "    </tr>\n",
              "    <tr>\n",
              "      <th>4</th>\n",
              "      <td>democrat</td>\n",
              "      <td>1.0</td>\n",
              "    </tr>\n",
              "  </tbody>\n",
              "</table>\n",
              "</div>"
            ],
            "text/plain": [
              "   class_name  water_project_cost_sharing\n",
              "0  republican                         1.0\n",
              "1  republican                         1.0\n",
              "2    democrat                         1.0\n",
              "3    democrat                         1.0\n",
              "4    democrat                         1.0"
            ]
          },
          "metadata": {
            "tags": []
          },
          "execution_count": 44
        }
      ]
    },
    {
      "cell_type": "code",
      "metadata": {
        "id": "o1G59sVBS-r3",
        "colab_type": "code",
        "outputId": "17ea5d79-b13f-452d-ea1a-d2639715dd1c",
        "colab": {
          "base_uri": "https://localhost:8080/",
          "height": 357
        }
      },
      "source": [
        "# create array of dem and rep votes to sample/simulate from\n",
        "\n",
        "r3 = np.array(df3['water_project_cost_sharing'].loc[df3['class_name'] == 'republican'])\n",
        "d3 = np.array(df3['water_project_cost_sharing'].loc[df3['class_name'] == 'democrat'])\n",
        "print(r3)\n",
        "print(r3)"
      ],
      "execution_count": 45,
      "outputs": [
        {
          "output_type": "stream",
          "text": [
            "[1.  1.  1.  1.  1.  1.  1.  1.  1.  0.  1.  1.  1.  0.5 1.  1.  0.5 1.\n",
            " 1.  1.  1.  1.  1.  1.  1.  1.  1.  1.  1.  0.  0.  0.  0.  0.5 0.  0.\n",
            " 0.  0.  1.  0.5 0.5 0.5 1.  0.  0.5 0.5 0.  0.5 0.5 0.5 0.  0.  0.  0.\n",
            " 1.  0.  0.  0.  1.  1.  1.  1.  1.  1.  1.  1.  0.  0.  0.5 0.  0.5 0.5\n",
            " 1.  0.  0.5 0.  0.  0.5 1.  1.  1.  0.  1.  0.5 1.  1.  1.  1.  1.  0.\n",
            " 0.  0.  0.  1.  0.5 1.  1.  1.  0.  0.  0.  0.  0.  0.  0.  0.  0.  0.\n",
            " 0.  0.  0.  1.  0.  0.  0.  0.  1.  0.  0.  0.  0.  1.  1.  1.  1.  1.\n",
            " 1.  0.  0.  0.  0.  0.  0.  0.  1.  0.  0.  0.  0.  0.  0.  1.  1.  1.\n",
            " 1.  1.  0.  0.  1.  0.5 1.  1.  1.  0.  1.  1.  0.  0.  0.  0.  1.  1.\n",
            " 1.  0.  0.  0.5 0.  1. ]\n",
            "[1.  1.  1.  1.  1.  1.  1.  1.  1.  0.  1.  1.  1.  0.5 1.  1.  0.5 1.\n",
            " 1.  1.  1.  1.  1.  1.  1.  1.  1.  1.  1.  0.  0.  0.  0.  0.5 0.  0.\n",
            " 0.  0.  1.  0.5 0.5 0.5 1.  0.  0.5 0.5 0.  0.5 0.5 0.5 0.  0.  0.  0.\n",
            " 1.  0.  0.  0.  1.  1.  1.  1.  1.  1.  1.  1.  0.  0.  0.5 0.  0.5 0.5\n",
            " 1.  0.  0.5 0.  0.  0.5 1.  1.  1.  0.  1.  0.5 1.  1.  1.  1.  1.  0.\n",
            " 0.  0.  0.  1.  0.5 1.  1.  1.  0.  0.  0.  0.  0.  0.  0.  0.  0.  0.\n",
            " 0.  0.  0.  1.  0.  0.  0.  0.  1.  0.  0.  0.  0.  1.  1.  1.  1.  1.\n",
            " 1.  0.  0.  0.  0.  0.  0.  0.  1.  0.  0.  0.  0.  0.  0.  1.  1.  1.\n",
            " 1.  1.  0.  0.  1.  0.5 1.  1.  1.  0.  1.  1.  0.  0.  0.  0.  1.  1.\n",
            " 1.  0.  0.  0.5 0.  1. ]\n"
          ],
          "name": "stdout"
        }
      ]
    },
    {
      "cell_type": "code",
      "metadata": {
        "id": "MyEdMqAPTIKw",
        "colab_type": "code",
        "outputId": "f40a9300-4e16-43b5-bd3f-4e9a8e784cea",
        "colab": {
          "base_uri": "https://localhost:8080/",
          "height": 51
        }
      },
      "source": [
        "# Create Samples with replacement\n",
        "\n",
        "r3_sample = bootstrap_sample(r3)\n",
        "d3_sample = bootstrap_sample(d3)\n",
        "\n",
        "print(mean(r3_sample))\n",
        "mean(r3)"
      ],
      "execution_count": 46,
      "outputs": [
        {
          "output_type": "stream",
          "text": [
            "0.57\n"
          ],
          "name": "stdout"
        },
        {
          "output_type": "execute_result",
          "data": {
            "text/plain": [
              "0.5059523809523809"
            ]
          },
          "metadata": {
            "tags": []
          },
          "execution_count": 46
        }
      ]
    },
    {
      "cell_type": "code",
      "metadata": {
        "id": "Ktbi3Op8TRh5",
        "colab_type": "code",
        "outputId": "5f2b70f8-4280-41d8-e0b4-07f6c8b3fa69",
        "colab": {
          "base_uri": "https://localhost:8080/",
          "height": 221
        }
      },
      "source": [
        "r3_sample_df = pd.DataFrame(r3_sample)\n",
        "d3_sample_df = pd.DataFrame(d3_sample)\n",
        "\n",
        "print(r3_sample_df.shape)\n",
        "r3_sample_df.head()"
      ],
      "execution_count": 47,
      "outputs": [
        {
          "output_type": "stream",
          "text": [
            "(50, 1)\n"
          ],
          "name": "stdout"
        },
        {
          "output_type": "execute_result",
          "data": {
            "text/html": [
              "<div>\n",
              "<style scoped>\n",
              "    .dataframe tbody tr th:only-of-type {\n",
              "        vertical-align: middle;\n",
              "    }\n",
              "\n",
              "    .dataframe tbody tr th {\n",
              "        vertical-align: top;\n",
              "    }\n",
              "\n",
              "    .dataframe thead th {\n",
              "        text-align: right;\n",
              "    }\n",
              "</style>\n",
              "<table border=\"1\" class=\"dataframe\">\n",
              "  <thead>\n",
              "    <tr style=\"text-align: right;\">\n",
              "      <th></th>\n",
              "      <th>0</th>\n",
              "    </tr>\n",
              "  </thead>\n",
              "  <tbody>\n",
              "    <tr>\n",
              "      <th>0</th>\n",
              "      <td>0.0</td>\n",
              "    </tr>\n",
              "    <tr>\n",
              "      <th>1</th>\n",
              "      <td>1.0</td>\n",
              "    </tr>\n",
              "    <tr>\n",
              "      <th>2</th>\n",
              "      <td>0.0</td>\n",
              "    </tr>\n",
              "    <tr>\n",
              "      <th>3</th>\n",
              "      <td>0.0</td>\n",
              "    </tr>\n",
              "    <tr>\n",
              "      <th>4</th>\n",
              "      <td>1.0</td>\n",
              "    </tr>\n",
              "  </tbody>\n",
              "</table>\n",
              "</div>"
            ],
            "text/plain": [
              "     0\n",
              "0  0.0\n",
              "1  1.0\n",
              "2  0.0\n",
              "3  0.0\n",
              "4  1.0"
            ]
          },
          "metadata": {
            "tags": []
          },
          "execution_count": 47
        }
      ]
    },
    {
      "cell_type": "code",
      "metadata": {
        "id": "_lMf_8qTTW9N",
        "colab_type": "code",
        "outputId": "be5dfee3-85e1-4341-b77a-24637deccfad",
        "colab": {
          "base_uri": "https://localhost:8080/",
          "height": 204
        }
      },
      "source": [
        "print('republican mean:', r3_sample_df.mean())\n",
        "print('republican st Dev:', r3_sample_df.std())\n",
        "print(r3_sample_df.shape)\n",
        "\n",
        "print('---' * 10)\n",
        "\n",
        "print('democrat mean:', d3_sample_df.mean())\n",
        "print('democrat st Dev:', d3_sample_df.std())\n",
        "print(d3_sample_df.shape)"
      ],
      "execution_count": 48,
      "outputs": [
        {
          "output_type": "stream",
          "text": [
            "republican mean: 0    0.57\n",
            "dtype: float64\n",
            "republican st Dev: 0    0.46302\n",
            "dtype: float64\n",
            "(50, 1)\n",
            "------------------------------\n",
            "democrat mean: 0    0.63\n",
            "dtype: float64\n",
            "democrat st Dev: 0    0.449603\n",
            "dtype: float64\n",
            "(50, 1)\n"
          ],
          "name": "stdout"
        }
      ]
    },
    {
      "cell_type": "code",
      "metadata": {
        "id": "2IAmiQ6mTcrB",
        "colab_type": "code",
        "outputId": "61e0a32a-efcf-4eb3-a053-2ebb458dff88",
        "colab": {
          "base_uri": "https://localhost:8080/",
          "height": 51
        }
      },
      "source": [
        "# Calculate t stat and pvalue for issue one\n",
        "\n",
        "tstat, pvalue = ttest_ind(r3_sample, d3_sample)\n",
        "print('t stat:', f'{tstat:.3f}')\n",
        "print('pvalue:', f'{pvalue:.2f}')"
      ],
      "execution_count": 49,
      "outputs": [
        {
          "output_type": "stream",
          "text": [
            "t stat: -0.657\n",
            "pvalue: 0.51\n"
          ],
          "name": "stdout"
        }
      ]
    },
    {
      "cell_type": "markdown",
      "metadata": {
        "id": "2ff_gDhrToip",
        "colab_type": "text"
      },
      "source": [
        "We cannot disprove the null hypotheses because 0.51 > 0.1<br/>\n",
        "\n",
        "This shows that both parties agreed on this issue.<br/>\n",
        "The Republicans and Democrats voting samples shared a pvalue of 0.51<br/>\n",
        "The pvalue is the probability the sample came from the same population."
      ]
    },
    {
      "cell_type": "markdown",
      "metadata": {
        "id": "_QMkYbr5UiUP",
        "colab_type": "text"
      },
      "source": [
        "## education_spending Repubilcan Favor"
      ]
    },
    {
      "cell_type": "code",
      "metadata": {
        "id": "a_kVZToSUkUl",
        "colab_type": "code",
        "outputId": "385fbe9d-8237-44d6-a9e7-9d0b9853b9c8",
        "colab": {
          "base_uri": "https://localhost:8080/",
          "height": 221
        }
      },
      "source": [
        "df4 = df[['class_name', 'education_spending']]\n",
        "print(df4.shape)\n",
        "df4.head()"
      ],
      "execution_count": 50,
      "outputs": [
        {
          "output_type": "stream",
          "text": [
            "(435, 2)\n"
          ],
          "name": "stdout"
        },
        {
          "output_type": "execute_result",
          "data": {
            "text/html": [
              "<div>\n",
              "<style scoped>\n",
              "    .dataframe tbody tr th:only-of-type {\n",
              "        vertical-align: middle;\n",
              "    }\n",
              "\n",
              "    .dataframe tbody tr th {\n",
              "        vertical-align: top;\n",
              "    }\n",
              "\n",
              "    .dataframe thead th {\n",
              "        text-align: right;\n",
              "    }\n",
              "</style>\n",
              "<table border=\"1\" class=\"dataframe\">\n",
              "  <thead>\n",
              "    <tr style=\"text-align: right;\">\n",
              "      <th></th>\n",
              "      <th>class_name</th>\n",
              "      <th>education_spending</th>\n",
              "    </tr>\n",
              "  </thead>\n",
              "  <tbody>\n",
              "    <tr>\n",
              "      <th>0</th>\n",
              "      <td>republican</td>\n",
              "      <td>1.0</td>\n",
              "    </tr>\n",
              "    <tr>\n",
              "      <th>1</th>\n",
              "      <td>republican</td>\n",
              "      <td>1.0</td>\n",
              "    </tr>\n",
              "    <tr>\n",
              "      <th>2</th>\n",
              "      <td>democrat</td>\n",
              "      <td>0.0</td>\n",
              "    </tr>\n",
              "    <tr>\n",
              "      <th>3</th>\n",
              "      <td>democrat</td>\n",
              "      <td>0.0</td>\n",
              "    </tr>\n",
              "    <tr>\n",
              "      <th>4</th>\n",
              "      <td>democrat</td>\n",
              "      <td>0.5</td>\n",
              "    </tr>\n",
              "  </tbody>\n",
              "</table>\n",
              "</div>"
            ],
            "text/plain": [
              "   class_name  education_spending\n",
              "0  republican                 1.0\n",
              "1  republican                 1.0\n",
              "2    democrat                 0.0\n",
              "3    democrat                 0.0\n",
              "4    democrat                 0.5"
            ]
          },
          "metadata": {
            "tags": []
          },
          "execution_count": 50
        }
      ]
    },
    {
      "cell_type": "code",
      "metadata": {
        "id": "QxE0eOkrU2bh",
        "colab_type": "code",
        "outputId": "0b624144-7382-4a99-b873-cb1a90be3bf9",
        "colab": {
          "base_uri": "https://localhost:8080/",
          "height": 442
        }
      },
      "source": [
        "r4 = np.array(df4['education_spending'].loc[df4['class_name'] == 'republican'])\n",
        "d4 = np.array(df4['education_spending'].loc[df4['class_name'] == 'democrat'])\n",
        "print(r4)\n",
        "print(d4)"
      ],
      "execution_count": 51,
      "outputs": [
        {
          "output_type": "stream",
          "text": [
            "[1.  1.  0.  1.  0.5 0.5 1.  1.  0.5 1.  1.  1.  1.  1.  0.  1.  1.  1.\n",
            " 1.  1.  1.  1.  1.  1.  1.  1.  1.  1.  0.  0.  1.  1.  1.  1.  1.  1.\n",
            " 0.5 1.  1.  0.5 1.  1.  1.  1.  1.  1.  1.  1.  1.  1.  1.  1.  1.  1.\n",
            " 1.  0.  1.  1.  1.  1.  1.  1.  1.  1.  1.  1.  1.  1.  1.  0.  1.  1.\n",
            " 1.  1.  0.  1.  1.  1.  1.  1.  1.  1.  0.5 1.  1.  1.  1.  1.  1.  1.\n",
            " 0.  1.  0.5 0.5 0.5 1.  1.  1.  1.  1.  1.  0.  1.  0.  1.  0.  1.  1.\n",
            " 0.  0.5 1.  1.  1.  1.  1.  1.  1.  1.  1.  1.  1.  1.  1.  0.  1.  1.\n",
            " 1.  1.  1.  1.  0.  1.  1.  1.  1.  1.  1.  0.  1.  1.  1.  0.  0.  0.\n",
            " 1.  0.5 1.  1.  1.  1.  1.  0.5 1.  1.  1.  1.  1.  1.  1.  1.  0.5 0.\n",
            " 0.  1.  1.  1.  1.  1. ]\n",
            "[0.  0.  0.5 0.  0.  0.  0.  0.5 1.  0.  0.  0.  0.  0.5 0.  0.  0.  0.\n",
            " 0.  0.  0.  0.  0.  0.  0.  0.  0.  0.  0.  0.  0.  0.  0.  0.  0.  1.\n",
            " 0.  0.  0.  0.5 0.  0.  0.  0.  0.  0.  1.  1.  0.  1.  1.  1.  0.  0.\n",
            " 0.  0.  0.  0.  0.5 1.  0.  0.  1.  0.  0.  0.  0.  0.  0.  0.  0.  0.\n",
            " 0.  0.5 0.  0.  0.  0.  0.  0.5 0.  0.  0.  0.  0.  0.  0.  0.  1.  0.\n",
            " 0.5 0.  0.  0.  0.  1.  1.  1.  1.  0.  0.  0.  0.  0.  1.  0.  0.  0.5\n",
            " 0.5 0.  0.  0.  0.  0.5 0.  0.5 0.  0.  0.  0.  0.  0.  1.  0.  0.  0.\n",
            " 0.  0.  0.  1.  0.5 0.  0.  0.  0.  1.  0.  0.  0.  0.  0.  0.  0.  0.\n",
            " 0.  1.  0.  1.  0.  0.  0.  0.  0.  0.  0.  0.  0.  0.  0.  0.  0.  0.5\n",
            " 0.  0.  0.  0.  0.  0.  0.  0.  0.  0.  0.  0.  0.  1.  0.  0.  0.  0.\n",
            " 0.5 0.  0.  0.  0.  0.  0.  0.  0.  0.  0.  0.  1.  0.  0.  0.  0.  0.\n",
            " 0.  0.  1.  0.  0.  0.  0.  0.  0.  1.  0.  0.  0.  0.  0.  0.  1.  0.\n",
            " 0.  0.5 1.  0.  0.  1.  0.  0.  0.  0.  0.5 0.  1.  0.  1.  0.  0.  0.\n",
            " 0.  0.  1.  1.  0.  0.  1.  0.  1.  0.  0.  0.5 0.  0.  0.  0.  1.  1.\n",
            " 0.  0.  0.  0.  0.  0.  0.  0.  0.  0.  0.  0.  0.  1.  0. ]\n"
          ],
          "name": "stdout"
        }
      ]
    },
    {
      "cell_type": "code",
      "metadata": {
        "id": "_Ge42VN7U20r",
        "colab_type": "code",
        "outputId": "ee69d95d-cd03-45e0-d530-ca95f00a9c13",
        "colab": {
          "base_uri": "https://localhost:8080/",
          "height": 51
        }
      },
      "source": [
        "# Create Samples with replacement\n",
        "\n",
        "r4_sample = bootstrap_sample(r4)\n",
        "d4_sample = bootstrap_sample(d4)\n",
        "\n",
        "print(mean(r4_sample))\n",
        "mean(r4)"
      ],
      "execution_count": 68,
      "outputs": [
        {
          "output_type": "stream",
          "text": [
            "0.83\n"
          ],
          "name": "stdout"
        },
        {
          "output_type": "execute_result",
          "data": {
            "text/plain": [
              "0.8422619047619048"
            ]
          },
          "metadata": {
            "tags": []
          },
          "execution_count": 68
        }
      ]
    },
    {
      "cell_type": "code",
      "metadata": {
        "id": "TvpxYsEwU52P",
        "colab_type": "code",
        "outputId": "12a9ffa3-5bee-4ae0-9a01-ed96480b53bf",
        "colab": {
          "base_uri": "https://localhost:8080/",
          "height": 221
        }
      },
      "source": [
        "r4_sample_df = pd.DataFrame(r4_sample)\n",
        "d4_sample_df = pd.DataFrame(d4_sample)\n",
        "\n",
        "print(r4_sample_df.shape)\n",
        "r4_sample_df.head()"
      ],
      "execution_count": 69,
      "outputs": [
        {
          "output_type": "stream",
          "text": [
            "(50, 1)\n"
          ],
          "name": "stdout"
        },
        {
          "output_type": "execute_result",
          "data": {
            "text/html": [
              "<div>\n",
              "<style scoped>\n",
              "    .dataframe tbody tr th:only-of-type {\n",
              "        vertical-align: middle;\n",
              "    }\n",
              "\n",
              "    .dataframe tbody tr th {\n",
              "        vertical-align: top;\n",
              "    }\n",
              "\n",
              "    .dataframe thead th {\n",
              "        text-align: right;\n",
              "    }\n",
              "</style>\n",
              "<table border=\"1\" class=\"dataframe\">\n",
              "  <thead>\n",
              "    <tr style=\"text-align: right;\">\n",
              "      <th></th>\n",
              "      <th>0</th>\n",
              "    </tr>\n",
              "  </thead>\n",
              "  <tbody>\n",
              "    <tr>\n",
              "      <th>0</th>\n",
              "      <td>1.0</td>\n",
              "    </tr>\n",
              "    <tr>\n",
              "      <th>1</th>\n",
              "      <td>0.0</td>\n",
              "    </tr>\n",
              "    <tr>\n",
              "      <th>2</th>\n",
              "      <td>1.0</td>\n",
              "    </tr>\n",
              "    <tr>\n",
              "      <th>3</th>\n",
              "      <td>1.0</td>\n",
              "    </tr>\n",
              "    <tr>\n",
              "      <th>4</th>\n",
              "      <td>1.0</td>\n",
              "    </tr>\n",
              "  </tbody>\n",
              "</table>\n",
              "</div>"
            ],
            "text/plain": [
              "     0\n",
              "0  1.0\n",
              "1  0.0\n",
              "2  1.0\n",
              "3  1.0\n",
              "4  1.0"
            ]
          },
          "metadata": {
            "tags": []
          },
          "execution_count": 69
        }
      ]
    },
    {
      "cell_type": "code",
      "metadata": {
        "id": "2BTUfHyaVLl4",
        "colab_type": "code",
        "outputId": "400181cc-5985-4001-bc7e-24af83463799",
        "colab": {
          "base_uri": "https://localhost:8080/",
          "height": 204
        }
      },
      "source": [
        "print('republican mean:', r4_sample_df.mean())\n",
        "print('republican st Dev:', r4_sample_df.std())\n",
        "print(r4_sample_df.shape)\n",
        "\n",
        "print('---' * 10)\n",
        "\n",
        "print('democrat mean:', d4_sample_df.mean())\n",
        "print('democrat st Dev:', d4_sample_df.std())\n",
        "print(d4_sample_df.shape)"
      ],
      "execution_count": 70,
      "outputs": [
        {
          "output_type": "stream",
          "text": [
            "republican mean: 0    0.83\n",
            "dtype: float64\n",
            "republican st Dev: 0    0.358711\n",
            "dtype: float64\n",
            "(50, 1)\n",
            "------------------------------\n",
            "democrat mean: 0    0.17\n",
            "dtype: float64\n",
            "democrat st Dev: 0    0.358711\n",
            "dtype: float64\n",
            "(50, 1)\n"
          ],
          "name": "stdout"
        }
      ]
    },
    {
      "cell_type": "code",
      "metadata": {
        "id": "ZCH_DXAvVQ6F",
        "colab_type": "code",
        "outputId": "1a8f0eb2-a9fb-419e-a68f-4b1ce49d2dbe",
        "colab": {
          "base_uri": "https://localhost:8080/",
          "height": 51
        }
      },
      "source": [
        "# Calculate t stat and pvalue for issue one\n",
        "\n",
        "tstat, pvalue = ttest_ind(r4_sample, d4_sample)\n",
        "print('t stat:', f'{tstat:.3f}')\n",
        "print('pvalue:', f'{pvalue:.15f}')"
      ],
      "execution_count": 72,
      "outputs": [
        {
          "output_type": "stream",
          "text": [
            "t stat: 9.200\n",
            "pvalue: 0.000000000000007\n"
          ],
          "name": "stdout"
        }
      ]
    },
    {
      "cell_type": "markdown",
      "metadata": {
        "id": "doWskBf4VhSE",
        "colab_type": "text"
      },
      "source": [
        "We can reject the null hypotheses because 0.000000000000007< 0.01<br/>\n",
        "\n",
        "This shows that the Republican party sample favored this issue much more that the Democrats.<br/>\n",
        "The Republicans and Democrats voting samples shared a pvalue of 0.000000000000007.<br/>\n",
        "The pvalue is the probability the sample came from the same population."
      ]
    },
    {
      "cell_type": "markdown",
      "metadata": {
        "id": "A45ociDYVwl4",
        "colab_type": "text"
      },
      "source": [
        "## Strech Goal"
      ]
    },
    {
      "cell_type": "code",
      "metadata": {
        "id": "8cchiMqTVyY9",
        "colab_type": "code",
        "colab": {}
      },
      "source": [
        ""
      ],
      "execution_count": 0,
      "outputs": []
    }
  ]
}