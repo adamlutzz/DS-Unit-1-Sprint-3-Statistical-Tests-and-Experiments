{
  "nbformat": 4,
  "nbformat_minor": 0,
  "metadata": {
    "kernelspec": {
      "display_name": "Python 3",
      "language": "python",
      "name": "python3"
    },
    "language_info": {
      "codemirror_mode": {
        "name": "ipython",
        "version": 3
      },
      "file_extension": ".py",
      "mimetype": "text/x-python",
      "name": "python",
      "nbconvert_exporter": "python",
      "pygments_lexer": "ipython3",
      "version": "3.7.3"
    },
    "colab": {
      "name": "LS_DS_131_Statistics_Probability_Assignment.ipynb",
      "version": "0.3.2",
      "provenance": [],
      "include_colab_link": true
    }
  },
  "cells": [
    {
      "cell_type": "markdown",
      "metadata": {
        "id": "view-in-github",
        "colab_type": "text"
      },
      "source": [
        "<a href=\"https://colab.research.google.com/github/adamlutzz/DS-Unit-1-Sprint-3-Statistical-Tests-and-Experiments/blob/master/module1-statistics-probability-and-inference/LS_DS_131_Statistics_Probability_Assignment.ipynb\" target=\"_parent\"><img src=\"https://colab.research.google.com/assets/colab-badge.svg\" alt=\"Open In Colab\"/></a>"
      ]
    },
    {
      "cell_type": "markdown",
      "metadata": {
        "id": "dy-4DYxhoruF",
        "colab_type": "text"
      },
      "source": [
        "<img align=\"left\" src=\"https://lever-client-logos.s3.amazonaws.com/864372b1-534c-480e-acd5-9711f850815c-1524247202159.png\" width=200>\n",
        "<br></br>\n",
        "<br></br>\n",
        "\n",
        "## *Data Science Unit 1 Sprint 3 Assignment 1*\n",
        "\n",
        "# Apply the t-test to real data\n",
        "\n",
        "Your assignment is to determine which issues have \"statistically significant\" differences between political parties in this [1980s congressional voting data](https://archive.ics.uci.edu/ml/datasets/Congressional+Voting+Records). The data consists of 435 instances (one for each congressperson), a class (democrat or republican), and 16 binary attributes (yes or no for voting for or against certain issues). Be aware - there are missing values!\n",
        "\n",
        "Your goals:\n",
        "\n",
        "1. Load and clean the data (or determine the best method to drop observations when running tests)\n",
        "2. Using hypothesis testing, find an issue that democrats support more than republicans with p < 0.01\n",
        "3. Using hypothesis testing, find an issue that republicans support more than democrats with p < 0.01\n",
        "4. Using hypothesis testing, find an issue where the difference between republicans and democrats has p > 0.1 (i.e. there may not be much of a difference)\n",
        "\n",
        "Note that this data will involve *2 sample* t-tests, because you're comparing averages across two groups (republicans and democrats) rather than a single group against a null hypothesis.\n",
        "\n",
        "Stretch goals:\n",
        "\n",
        "1. Refactor your code into functions so it's easy to rerun with arbitrary variables\n",
        "2. Apply hypothesis testing to your personal project data (for the purposes of this notebook you can type a summary of the hypothesis you formed and tested)"
      ]
    },
    {
      "cell_type": "markdown",
      "metadata": {
        "id": "G_e5A2RJ4Y45",
        "colab_type": "text"
      },
      "source": [
        "## Load DataSet"
      ]
    },
    {
      "cell_type": "code",
      "metadata": {
        "id": "0pxWroxForuH",
        "colab_type": "code",
        "colab": {}
      },
      "source": [
        "import pandas as pd\n",
        "import numpy as np\n",
        "import matplotlib.pyplot as plt"
      ],
      "execution_count": 0,
      "outputs": []
    },
    {
      "cell_type": "code",
      "metadata": {
        "id": "eY07t6laqBLV",
        "colab_type": "code",
        "outputId": "9d0a6700-25fc-4e8c-e548-43632feb8a3f",
        "colab": {
          "base_uri": "https://localhost:8080/",
          "height": 1000
        }
      },
      "source": [
        "!curl https://archive.ics.uci.edu/ml/machine-learning-databases/voting-records/house-votes-84.names"
      ],
      "execution_count": 3,
      "outputs": [
        {
          "output_type": "stream",
          "text": [
            "1. Title: 1984 United States Congressional Voting Records Database\n",
            "\n",
            "2. Source Information:\n",
            "    (a) Source:  Congressional Quarterly Almanac, 98th Congress, \n",
            "                 2nd session 1984, Volume XL: Congressional Quarterly Inc. \n",
            "                 Washington, D.C., 1985.\n",
            "    (b) Donor: Jeff Schlimmer (Jeffrey.Schlimmer@a.gp.cs.cmu.edu)\n",
            "    (c) Date: 27 April 1987 \n",
            "\n",
            "3. Past Usage\n",
            "   - Publications\n",
            "     1. Schlimmer, J. C. (1987).  Concept acquisition through \n",
            "        representational adjustment.  Doctoral dissertation, Department of \n",
            "        Information and Computer Science, University of California, Irvine, CA.\n",
            "        -- Results: about 90%-95% accuracy appears to be STAGGER's asymptote\n",
            "     - Predicted attribute: party affiliation (2 classes)\n",
            "\n",
            "4. Relevant Information:\n",
            "      This data set includes votes for each of the U.S. House of\n",
            "      Representatives Congressmen on the 16 key votes identified by the\n",
            "      CQA.  The CQA lists nine different types of votes: voted for, paired\n",
            "      for, and announced for (these three simplified to yea), voted\n",
            "      against, paired against, and announced against (these three\n",
            "      simplified to nay), voted present, voted present to avoid conflict\n",
            "      of interest, and did not vote or otherwise make a position known\n",
            "      (these three simplified to an unknown disposition).\n",
            "\n",
            "5. Number of Instances: 435 (267 democrats, 168 republicans)\n",
            "\n",
            "6. Number of Attributes: 16 + class name = 17 (all Boolean valued)\n",
            "\n",
            "7. Attribute Information:\n",
            "   1. Class Name: 2 (democrat, republican)\n",
            "   2. handicapped-infants: 2 (y,n)\n",
            "   3. water-project-cost-sharing: 2 (y,n)\n",
            "   4. adoption-of-the-budget-resolution: 2 (y,n)\n",
            "   5. physician-fee-freeze: 2 (y,n)\n",
            "   6. el-salvador-aid: 2 (y,n)\n",
            "   7. religious-groups-in-schools: 2 (y,n)\n",
            "   8. anti-satellite-test-ban: 2 (y,n)\n",
            "   9. aid-to-nicaraguan-contras: 2 (y,n)\n",
            "  10. mx-missile: 2 (y,n)\n",
            "  11. immigration: 2 (y,n)\n",
            "  12. synfuels-corporation-cutback: 2 (y,n)\n",
            "  13. education-spending: 2 (y,n)\n",
            "  14. superfund-right-to-sue: 2 (y,n)\n",
            "  15. crime: 2 (y,n)\n",
            "  16. duty-free-exports: 2 (y,n)\n",
            "  17. export-administration-act-south-africa: 2 (y,n)\n",
            "\n",
            "8. Missing Attribute Values: Denoted by \"?\"\n",
            "\n",
            "   NOTE: It is important to recognize that \"?\" in this database does \n",
            "         not mean that the value of the attribute is unknown.  It \n",
            "         means simply, that the value is not \"yea\" or \"nay\" (see \n",
            "         \"Relevant Information\" section above).\n",
            "\n",
            "   Attribute:  #Missing Values:\n",
            "           1:  0\n",
            "           2:  0\n",
            "           3:  12\n",
            "           4:  48\n",
            "           5:  11\n",
            "           6:  11\n",
            "           7:  15\n",
            "           8:  11\n",
            "           9:  14\n",
            "          10:  15\n",
            "          11:  22\n",
            "          12:  7\n",
            "          13:  21\n",
            "          14:  31\n",
            "          15:  25\n",
            "          16:  17\n",
            "          17:  28\n",
            "\n",
            "9. Class Distribution: (2 classes)\n",
            "   1. 45.2 percent are democrat\n",
            "   2. 54.8 percent are republican\n",
            "\n",
            "Class predictiveness and predictability: Pr(C|A=V) and Pr(A=V|C)\n",
            " Attribute 1: (A = handicapped-infants)\n",
            "  0.91;  1.21  (C=democrat; V=y)\n",
            "  0.09;  0.10  (C=republican; V=y)\n",
            "  0.43;  0.38  (C=democrat; V=n)\n",
            "  0.57;  0.41  (C=republican; V=n)\n",
            "  0.75;  0.03  (C=democrat; V=?)\n",
            "  0.25;  0.01  (C=republican; V=?)\n",
            " Attribute 2: (A = water-project-cost-sharing)\n",
            "  0.62;  0.45  (C=democrat; V=y)\n",
            "  0.38;  0.23  (C=republican; V=y)\n",
            "  0.62;  0.45  (C=democrat; V=n)\n",
            "  0.38;  0.23  (C=republican; V=n)\n",
            "  0.58;  0.10  (C=democrat; V=?)\n",
            "  0.42;  0.06  (C=republican; V=?)\n",
            " Attribute 3: (A = adoption-of-the-budget-resolution)\n",
            "  0.91;  0.87  (C=democrat; V=y)\n",
            "  0.09;  0.07  (C=republican; V=y)\n",
            "  0.17;  0.11  (C=democrat; V=n)\n",
            "  0.83;  0.44  (C=republican; V=n)\n",
            "  0.64;  0.03  (C=democrat; V=?)\n",
            "  0.36;  0.01  (C=republican; V=?)\n",
            " Attribute 4: (A = physician-fee-freeze)\n",
            "  0.08;  0.05  (C=democrat; V=y)\n",
            "  0.92;  0.50  (C=republican; V=y)\n",
            "  0.99;  0.92  (C=democrat; V=n)\n",
            "  0.01;  0.01  (C=republican; V=n)\n",
            "  0.73;  0.03  (C=democrat; V=?)\n",
            "  0.27;  0.01  (C=republican; V=?)\n",
            " Attribute 5: (A = el-salvador-aid)\n",
            "  0.26;  0.21  (C=democrat; V=y)\n",
            "  0.74;  0.48  (C=republican; V=y)\n",
            "  0.96;  0.75  (C=democrat; V=n)\n",
            "  0.04;  0.02  (C=republican; V=n)\n",
            "  0.80;  0.04  (C=democrat; V=?)\n",
            "  0.20;  0.01  (C=republican; V=?)\n",
            " Attribute 6: (A = religious-groups-in-schools)\n",
            "  0.45;  0.46  (C=democrat; V=y)\n",
            "  0.55;  0.46  (C=republican; V=y)\n",
            "  0.89;  0.51  (C=democrat; V=n)\n",
            "  0.11;  0.05  (C=republican; V=n)\n",
            "  0.82;  0.03  (C=democrat; V=?)\n",
            "  0.18;  0.01  (C=republican; V=?)\n",
            " Attribute 7: (A = anti-satellite-test-ban)\n",
            "  0.84;  0.75  (C=democrat; V=y)\n",
            "  0.16;  0.12  (C=republican; V=y)\n",
            "  0.32;  0.22  (C=democrat; V=n)\n",
            "  0.68;  0.38  (C=republican; V=n)\n",
            "  0.57;  0.03  (C=democrat; V=?)\n",
            "  0.43;  0.02  (C=republican; V=?)\n",
            " Attribute 8: (A = aid-to-nicaraguan-contras)\n",
            "  0.90;  0.82  (C=democrat; V=y)\n",
            "  0.10;  0.07  (C=republican; V=y)\n",
            "  0.25;  0.17  (C=democrat; V=n)\n",
            "  0.75;  0.41  (C=republican; V=n)\n",
            "  0.27;  0.01  (C=democrat; V=?)\n",
            "  0.73;  0.03  (C=republican; V=?)\n",
            " Attribute 9: (A = mx-missile)\n",
            "  0.91;  0.70  (C=democrat; V=y)\n",
            "  0.09;  0.06  (C=republican; V=y)\n",
            "  0.29;  0.22  (C=democrat; V=n)\n",
            "  0.71;  0.45  (C=republican; V=n)\n",
            "  0.86;  0.07  (C=democrat; V=?)\n",
            "  0.14;  0.01  (C=republican; V=?)\n",
            " Attribute 10: (A = immigration)\n",
            "  0.57;  0.46  (C=democrat; V=y)\n",
            "  0.43;  0.28  (C=republican; V=y)\n",
            "  0.66;  0.52  (C=democrat; V=n)\n",
            "  0.34;  0.23  (C=republican; V=n)\n",
            "  0.57;  0.01  (C=democrat; V=?)\n",
            "  0.43;  0.01  (C=republican; V=?)\n",
            " Attribute 11: (A = synfuels-corporation-cutback)\n",
            "  0.86;  0.48  (C=democrat; V=y)\n",
            "  0.14;  0.06  (C=republican; V=y)\n",
            "  0.48;  0.47  (C=democrat; V=n)\n",
            "  0.52;  0.43  (C=republican; V=n)\n",
            "  0.57;  0.04  (C=democrat; V=?)\n",
            "  0.43;  0.03  (C=republican; V=?)\n",
            " Attribute 12: (A = education-spending)\n",
            "  0.21;  0.13  (C=democrat; V=y)\n",
            "  0.79;  0.42  (C=republican; V=y)\n",
            "  0.91;  0.80  (C=democrat; V=n)\n",
            "  0.09;  0.06  (C=republican; V=n)\n",
            "  0.58;  0.07  (C=democrat; V=?)\n",
            "  0.42;  0.04  (C=republican; V=?)\n",
            " Attribute 13: (A = superfund-right-to-sue)\n",
            "  0.35;  0.27  (C=democrat; V=y)\n",
            "  0.65;  0.42  (C=republican; V=y)\n",
            "  0.89;  0.67  (C=democrat; V=n)\n",
            "  0.11;  0.07  (C=republican; V=n)\n",
            "  0.60;  0.06  (C=democrat; V=?)\n",
            "  0.40;  0.03  (C=republican; V=?)\n",
            " Attribute 14: (A = crime)\n",
            "  0.36;  0.34  (C=democrat; V=y)\n",
            "  0.64;  0.49  (C=republican; V=y)\n",
            "  0.98;  0.63  (C=democrat; V=n)\n",
            "  0.02;  0.01  (C=republican; V=n)\n",
            "  0.59;  0.04  (C=democrat; V=?)\n",
            "  0.41;  0.02  (C=republican; V=?)\n",
            " Attribute 15: (A = duty-free-exports)\n",
            "  0.92;  0.60  (C=democrat; V=y)\n",
            "  0.08;  0.04  (C=republican; V=y)\n",
            "  0.39;  0.34  (C=democrat; V=n)\n",
            "  0.61;  0.44  (C=republican; V=n)\n",
            "  0.57;  0.06  (C=democrat; V=?)\n",
            "  0.43;  0.04  (C=republican; V=?)\n",
            " Attribute 16: (A = export-administration-act-south-africa)\n",
            "  0.64;  0.65  (C=democrat; V=y)\n",
            "  0.36;  0.30  (C=republican; V=y)\n",
            "  0.19;  0.04  (C=democrat; V=n)\n",
            "  0.81;  0.15  (C=republican; V=n)\n",
            "  0.79;  0.31  (C=democrat; V=?)\n",
            "  0.21;  0.07  (C=republican; V=?)\n"
          ],
          "name": "stdout"
        }
      ]
    },
    {
      "cell_type": "markdown",
      "metadata": {
        "id": "UmBUDQ9u4gtk",
        "colab_type": "text"
      },
      "source": [
        "## Organize Data"
      ]
    },
    {
      "cell_type": "code",
      "metadata": {
        "id": "dSptzDBUpChP",
        "colab_type": "code",
        "outputId": "11a0f957-e01c-49ee-fb65-8766b26cfd1e",
        "colab": {
          "base_uri": "https://localhost:8080/",
          "height": 221
        }
      },
      "source": [
        "data = pd.read_csv('https://archive.ics.uci.edu/ml/machine-learning-databases/voting-records/house-votes-84.data', header=None, na_values='?')\n",
        "print(data.shape)\n",
        "data.head()"
      ],
      "execution_count": 4,
      "outputs": [
        {
          "output_type": "stream",
          "text": [
            "(435, 17)\n"
          ],
          "name": "stdout"
        },
        {
          "output_type": "execute_result",
          "data": {
            "text/html": [
              "<div>\n",
              "<style scoped>\n",
              "    .dataframe tbody tr th:only-of-type {\n",
              "        vertical-align: middle;\n",
              "    }\n",
              "\n",
              "    .dataframe tbody tr th {\n",
              "        vertical-align: top;\n",
              "    }\n",
              "\n",
              "    .dataframe thead th {\n",
              "        text-align: right;\n",
              "    }\n",
              "</style>\n",
              "<table border=\"1\" class=\"dataframe\">\n",
              "  <thead>\n",
              "    <tr style=\"text-align: right;\">\n",
              "      <th></th>\n",
              "      <th>0</th>\n",
              "      <th>1</th>\n",
              "      <th>2</th>\n",
              "      <th>3</th>\n",
              "      <th>4</th>\n",
              "      <th>5</th>\n",
              "      <th>6</th>\n",
              "      <th>7</th>\n",
              "      <th>8</th>\n",
              "      <th>9</th>\n",
              "      <th>10</th>\n",
              "      <th>11</th>\n",
              "      <th>12</th>\n",
              "      <th>13</th>\n",
              "      <th>14</th>\n",
              "      <th>15</th>\n",
              "      <th>16</th>\n",
              "    </tr>\n",
              "  </thead>\n",
              "  <tbody>\n",
              "    <tr>\n",
              "      <th>0</th>\n",
              "      <td>republican</td>\n",
              "      <td>n</td>\n",
              "      <td>y</td>\n",
              "      <td>n</td>\n",
              "      <td>y</td>\n",
              "      <td>y</td>\n",
              "      <td>y</td>\n",
              "      <td>n</td>\n",
              "      <td>n</td>\n",
              "      <td>n</td>\n",
              "      <td>y</td>\n",
              "      <td>NaN</td>\n",
              "      <td>y</td>\n",
              "      <td>y</td>\n",
              "      <td>y</td>\n",
              "      <td>n</td>\n",
              "      <td>y</td>\n",
              "    </tr>\n",
              "    <tr>\n",
              "      <th>1</th>\n",
              "      <td>republican</td>\n",
              "      <td>n</td>\n",
              "      <td>y</td>\n",
              "      <td>n</td>\n",
              "      <td>y</td>\n",
              "      <td>y</td>\n",
              "      <td>y</td>\n",
              "      <td>n</td>\n",
              "      <td>n</td>\n",
              "      <td>n</td>\n",
              "      <td>n</td>\n",
              "      <td>n</td>\n",
              "      <td>y</td>\n",
              "      <td>y</td>\n",
              "      <td>y</td>\n",
              "      <td>n</td>\n",
              "      <td>NaN</td>\n",
              "    </tr>\n",
              "    <tr>\n",
              "      <th>2</th>\n",
              "      <td>democrat</td>\n",
              "      <td>NaN</td>\n",
              "      <td>y</td>\n",
              "      <td>y</td>\n",
              "      <td>NaN</td>\n",
              "      <td>y</td>\n",
              "      <td>y</td>\n",
              "      <td>n</td>\n",
              "      <td>n</td>\n",
              "      <td>n</td>\n",
              "      <td>n</td>\n",
              "      <td>y</td>\n",
              "      <td>n</td>\n",
              "      <td>y</td>\n",
              "      <td>y</td>\n",
              "      <td>n</td>\n",
              "      <td>n</td>\n",
              "    </tr>\n",
              "    <tr>\n",
              "      <th>3</th>\n",
              "      <td>democrat</td>\n",
              "      <td>n</td>\n",
              "      <td>y</td>\n",
              "      <td>y</td>\n",
              "      <td>n</td>\n",
              "      <td>NaN</td>\n",
              "      <td>y</td>\n",
              "      <td>n</td>\n",
              "      <td>n</td>\n",
              "      <td>n</td>\n",
              "      <td>n</td>\n",
              "      <td>y</td>\n",
              "      <td>n</td>\n",
              "      <td>y</td>\n",
              "      <td>n</td>\n",
              "      <td>n</td>\n",
              "      <td>y</td>\n",
              "    </tr>\n",
              "    <tr>\n",
              "      <th>4</th>\n",
              "      <td>democrat</td>\n",
              "      <td>y</td>\n",
              "      <td>y</td>\n",
              "      <td>y</td>\n",
              "      <td>n</td>\n",
              "      <td>y</td>\n",
              "      <td>y</td>\n",
              "      <td>n</td>\n",
              "      <td>n</td>\n",
              "      <td>n</td>\n",
              "      <td>n</td>\n",
              "      <td>y</td>\n",
              "      <td>NaN</td>\n",
              "      <td>y</td>\n",
              "      <td>y</td>\n",
              "      <td>y</td>\n",
              "      <td>y</td>\n",
              "    </tr>\n",
              "  </tbody>\n",
              "</table>\n",
              "</div>"
            ],
            "text/plain": [
              "           0    1  2  3    4    5  6  7  8  9  10   11   12 13 14 15   16\n",
              "0  republican    n  y  n    y    y  y  n  n  n  y  NaN    y  y  y  n    y\n",
              "1  republican    n  y  n    y    y  y  n  n  n  n    n    y  y  y  n  NaN\n",
              "2    democrat  NaN  y  y  NaN    y  y  n  n  n  n    y    n  y  y  n    n\n",
              "3    democrat    n  y  y    n  NaN  y  n  n  n  n    y    n  y  n  n    y\n",
              "4    democrat    y  y  y    n    y  y  n  n  n  n    y  NaN  y  y  y    y"
            ]
          },
          "metadata": {
            "tags": []
          },
          "execution_count": 4
        }
      ]
    },
    {
      "cell_type": "code",
      "metadata": {
        "id": "CEjmNj4NpSCv",
        "colab_type": "code",
        "outputId": "420f3fce-2939-43d0-8dac-f3325fb03524",
        "colab": {
          "base_uri": "https://localhost:8080/",
          "height": 323
        }
      },
      "source": [
        "data.isna().sum()"
      ],
      "execution_count": 5,
      "outputs": [
        {
          "output_type": "execute_result",
          "data": {
            "text/plain": [
              "0       0\n",
              "1      12\n",
              "2      48\n",
              "3      11\n",
              "4      11\n",
              "5      15\n",
              "6      11\n",
              "7      14\n",
              "8      15\n",
              "9      22\n",
              "10      7\n",
              "11     21\n",
              "12     31\n",
              "13     25\n",
              "14     17\n",
              "15     28\n",
              "16    104\n",
              "dtype: int64"
            ]
          },
          "metadata": {
            "tags": []
          },
          "execution_count": 5
        }
      ]
    },
    {
      "cell_type": "code",
      "metadata": {
        "id": "dQQhV8QTBi6v",
        "colab_type": "code",
        "colab": {}
      },
      "source": [
        "data = data.fillna(.5)"
      ],
      "execution_count": 0,
      "outputs": []
    },
    {
      "cell_type": "code",
      "metadata": {
        "id": "JOhR2Lzo0Fo8",
        "colab_type": "code",
        "colab": {}
      },
      "source": [
        "columns = {0:'class_name',\n",
        "           1:'handicapped_infants',\n",
        "           2:'water_project_cost_sharing',\n",
        "           3:'adoption_of_the_budget_resolution',\n",
        "           4:'physician_fee_freeze',\n",
        "           5:'el_salvador_aid',\n",
        "           6:'religious_groups_in_schools',\n",
        "           7:'anti_satellite_test_ban',\n",
        "           8:'aid_to_nicaraguan_contras',\n",
        "           9:'mx_missile',\n",
        "           10:'immigration',\n",
        "           11:'synfuels_corporation_cutback',\n",
        "           12:'education_spending',\n",
        "           13:'superfund_right_to_sue',\n",
        "           14:'crime',\n",
        "           15:'duty_free_exports',\n",
        "           16:'export_administration_act_south_africa'}"
      ],
      "execution_count": 0,
      "outputs": []
    },
    {
      "cell_type": "code",
      "metadata": {
        "id": "pFK5AyJtx45o",
        "colab_type": "code",
        "outputId": "23c6c77b-5807-4ce9-e5f7-2e4336cb1de9",
        "colab": {
          "base_uri": "https://localhost:8080/",
          "height": 241
        }
      },
      "source": [
        "data = data.rename(columns=columns)\n",
        "print(data.shape)\n",
        "data.head()"
      ],
      "execution_count": 8,
      "outputs": [
        {
          "output_type": "stream",
          "text": [
            "(435, 17)\n"
          ],
          "name": "stdout"
        },
        {
          "output_type": "execute_result",
          "data": {
            "text/html": [
              "<div>\n",
              "<style scoped>\n",
              "    .dataframe tbody tr th:only-of-type {\n",
              "        vertical-align: middle;\n",
              "    }\n",
              "\n",
              "    .dataframe tbody tr th {\n",
              "        vertical-align: top;\n",
              "    }\n",
              "\n",
              "    .dataframe thead th {\n",
              "        text-align: right;\n",
              "    }\n",
              "</style>\n",
              "<table border=\"1\" class=\"dataframe\">\n",
              "  <thead>\n",
              "    <tr style=\"text-align: right;\">\n",
              "      <th></th>\n",
              "      <th>class_name</th>\n",
              "      <th>handicapped_infants</th>\n",
              "      <th>water_project_cost_sharing</th>\n",
              "      <th>adoption_of_the_budget_resolution</th>\n",
              "      <th>physician_fee_freeze</th>\n",
              "      <th>el_salvador_aid</th>\n",
              "      <th>religious_groups_in_schools</th>\n",
              "      <th>anti_satellite_test_ban</th>\n",
              "      <th>aid_to_nicaraguan_contras</th>\n",
              "      <th>mx_missile</th>\n",
              "      <th>immigration</th>\n",
              "      <th>synfuels_corporation_cutback</th>\n",
              "      <th>education_spending</th>\n",
              "      <th>superfund_right_to_sue</th>\n",
              "      <th>crime</th>\n",
              "      <th>duty_free_exports</th>\n",
              "      <th>export_administration_act_south_africa</th>\n",
              "    </tr>\n",
              "  </thead>\n",
              "  <tbody>\n",
              "    <tr>\n",
              "      <th>0</th>\n",
              "      <td>republican</td>\n",
              "      <td>n</td>\n",
              "      <td>y</td>\n",
              "      <td>n</td>\n",
              "      <td>y</td>\n",
              "      <td>y</td>\n",
              "      <td>y</td>\n",
              "      <td>n</td>\n",
              "      <td>n</td>\n",
              "      <td>n</td>\n",
              "      <td>y</td>\n",
              "      <td>0.5</td>\n",
              "      <td>y</td>\n",
              "      <td>y</td>\n",
              "      <td>y</td>\n",
              "      <td>n</td>\n",
              "      <td>y</td>\n",
              "    </tr>\n",
              "    <tr>\n",
              "      <th>1</th>\n",
              "      <td>republican</td>\n",
              "      <td>n</td>\n",
              "      <td>y</td>\n",
              "      <td>n</td>\n",
              "      <td>y</td>\n",
              "      <td>y</td>\n",
              "      <td>y</td>\n",
              "      <td>n</td>\n",
              "      <td>n</td>\n",
              "      <td>n</td>\n",
              "      <td>n</td>\n",
              "      <td>n</td>\n",
              "      <td>y</td>\n",
              "      <td>y</td>\n",
              "      <td>y</td>\n",
              "      <td>n</td>\n",
              "      <td>0.5</td>\n",
              "    </tr>\n",
              "    <tr>\n",
              "      <th>2</th>\n",
              "      <td>democrat</td>\n",
              "      <td>0.5</td>\n",
              "      <td>y</td>\n",
              "      <td>y</td>\n",
              "      <td>0.5</td>\n",
              "      <td>y</td>\n",
              "      <td>y</td>\n",
              "      <td>n</td>\n",
              "      <td>n</td>\n",
              "      <td>n</td>\n",
              "      <td>n</td>\n",
              "      <td>y</td>\n",
              "      <td>n</td>\n",
              "      <td>y</td>\n",
              "      <td>y</td>\n",
              "      <td>n</td>\n",
              "      <td>n</td>\n",
              "    </tr>\n",
              "    <tr>\n",
              "      <th>3</th>\n",
              "      <td>democrat</td>\n",
              "      <td>n</td>\n",
              "      <td>y</td>\n",
              "      <td>y</td>\n",
              "      <td>n</td>\n",
              "      <td>0.5</td>\n",
              "      <td>y</td>\n",
              "      <td>n</td>\n",
              "      <td>n</td>\n",
              "      <td>n</td>\n",
              "      <td>n</td>\n",
              "      <td>y</td>\n",
              "      <td>n</td>\n",
              "      <td>y</td>\n",
              "      <td>n</td>\n",
              "      <td>n</td>\n",
              "      <td>y</td>\n",
              "    </tr>\n",
              "    <tr>\n",
              "      <th>4</th>\n",
              "      <td>democrat</td>\n",
              "      <td>y</td>\n",
              "      <td>y</td>\n",
              "      <td>y</td>\n",
              "      <td>n</td>\n",
              "      <td>y</td>\n",
              "      <td>y</td>\n",
              "      <td>n</td>\n",
              "      <td>n</td>\n",
              "      <td>n</td>\n",
              "      <td>n</td>\n",
              "      <td>y</td>\n",
              "      <td>0.5</td>\n",
              "      <td>y</td>\n",
              "      <td>y</td>\n",
              "      <td>y</td>\n",
              "      <td>y</td>\n",
              "    </tr>\n",
              "  </tbody>\n",
              "</table>\n",
              "</div>"
            ],
            "text/plain": [
              "   class_name  ... export_administration_act_south_africa\n",
              "0  republican  ...                                      y\n",
              "1  republican  ...                                    0.5\n",
              "2    democrat  ...                                      n\n",
              "3    democrat  ...                                      y\n",
              "4    democrat  ...                                      y\n",
              "\n",
              "[5 rows x 17 columns]"
            ]
          },
          "metadata": {
            "tags": []
          },
          "execution_count": 8
        }
      ]
    },
    {
      "cell_type": "code",
      "metadata": {
        "id": "kQ3NtLyQ7sVq",
        "colab_type": "code",
        "colab": {}
      },
      "source": [
        "new_vals = {'n': 0, 'y': 1}"
      ],
      "execution_count": 0,
      "outputs": []
    },
    {
      "cell_type": "code",
      "metadata": {
        "id": "P8TwKLmE7WIK",
        "colab_type": "code",
        "outputId": "382033b2-b0d1-4719-8481-352edd871273",
        "colab": {
          "base_uri": "https://localhost:8080/",
          "height": 224
        }
      },
      "source": [
        "# Replace 'n' and 'y' with 1 and 0\n",
        "df = data.replace(new_vals)\n",
        "df.head()"
      ],
      "execution_count": 10,
      "outputs": [
        {
          "output_type": "execute_result",
          "data": {
            "text/html": [
              "<div>\n",
              "<style scoped>\n",
              "    .dataframe tbody tr th:only-of-type {\n",
              "        vertical-align: middle;\n",
              "    }\n",
              "\n",
              "    .dataframe tbody tr th {\n",
              "        vertical-align: top;\n",
              "    }\n",
              "\n",
              "    .dataframe thead th {\n",
              "        text-align: right;\n",
              "    }\n",
              "</style>\n",
              "<table border=\"1\" class=\"dataframe\">\n",
              "  <thead>\n",
              "    <tr style=\"text-align: right;\">\n",
              "      <th></th>\n",
              "      <th>class_name</th>\n",
              "      <th>handicapped_infants</th>\n",
              "      <th>water_project_cost_sharing</th>\n",
              "      <th>adoption_of_the_budget_resolution</th>\n",
              "      <th>physician_fee_freeze</th>\n",
              "      <th>el_salvador_aid</th>\n",
              "      <th>religious_groups_in_schools</th>\n",
              "      <th>anti_satellite_test_ban</th>\n",
              "      <th>aid_to_nicaraguan_contras</th>\n",
              "      <th>mx_missile</th>\n",
              "      <th>immigration</th>\n",
              "      <th>synfuels_corporation_cutback</th>\n",
              "      <th>education_spending</th>\n",
              "      <th>superfund_right_to_sue</th>\n",
              "      <th>crime</th>\n",
              "      <th>duty_free_exports</th>\n",
              "      <th>export_administration_act_south_africa</th>\n",
              "    </tr>\n",
              "  </thead>\n",
              "  <tbody>\n",
              "    <tr>\n",
              "      <th>0</th>\n",
              "      <td>republican</td>\n",
              "      <td>0.0</td>\n",
              "      <td>1.0</td>\n",
              "      <td>0.0</td>\n",
              "      <td>1.0</td>\n",
              "      <td>1.0</td>\n",
              "      <td>1.0</td>\n",
              "      <td>0.0</td>\n",
              "      <td>0.0</td>\n",
              "      <td>0.0</td>\n",
              "      <td>1.0</td>\n",
              "      <td>0.5</td>\n",
              "      <td>1.0</td>\n",
              "      <td>1.0</td>\n",
              "      <td>1.0</td>\n",
              "      <td>0.0</td>\n",
              "      <td>1.0</td>\n",
              "    </tr>\n",
              "    <tr>\n",
              "      <th>1</th>\n",
              "      <td>republican</td>\n",
              "      <td>0.0</td>\n",
              "      <td>1.0</td>\n",
              "      <td>0.0</td>\n",
              "      <td>1.0</td>\n",
              "      <td>1.0</td>\n",
              "      <td>1.0</td>\n",
              "      <td>0.0</td>\n",
              "      <td>0.0</td>\n",
              "      <td>0.0</td>\n",
              "      <td>0.0</td>\n",
              "      <td>0.0</td>\n",
              "      <td>1.0</td>\n",
              "      <td>1.0</td>\n",
              "      <td>1.0</td>\n",
              "      <td>0.0</td>\n",
              "      <td>0.5</td>\n",
              "    </tr>\n",
              "    <tr>\n",
              "      <th>2</th>\n",
              "      <td>democrat</td>\n",
              "      <td>0.5</td>\n",
              "      <td>1.0</td>\n",
              "      <td>1.0</td>\n",
              "      <td>0.5</td>\n",
              "      <td>1.0</td>\n",
              "      <td>1.0</td>\n",
              "      <td>0.0</td>\n",
              "      <td>0.0</td>\n",
              "      <td>0.0</td>\n",
              "      <td>0.0</td>\n",
              "      <td>1.0</td>\n",
              "      <td>0.0</td>\n",
              "      <td>1.0</td>\n",
              "      <td>1.0</td>\n",
              "      <td>0.0</td>\n",
              "      <td>0.0</td>\n",
              "    </tr>\n",
              "    <tr>\n",
              "      <th>3</th>\n",
              "      <td>democrat</td>\n",
              "      <td>0.0</td>\n",
              "      <td>1.0</td>\n",
              "      <td>1.0</td>\n",
              "      <td>0.0</td>\n",
              "      <td>0.5</td>\n",
              "      <td>1.0</td>\n",
              "      <td>0.0</td>\n",
              "      <td>0.0</td>\n",
              "      <td>0.0</td>\n",
              "      <td>0.0</td>\n",
              "      <td>1.0</td>\n",
              "      <td>0.0</td>\n",
              "      <td>1.0</td>\n",
              "      <td>0.0</td>\n",
              "      <td>0.0</td>\n",
              "      <td>1.0</td>\n",
              "    </tr>\n",
              "    <tr>\n",
              "      <th>4</th>\n",
              "      <td>democrat</td>\n",
              "      <td>1.0</td>\n",
              "      <td>1.0</td>\n",
              "      <td>1.0</td>\n",
              "      <td>0.0</td>\n",
              "      <td>1.0</td>\n",
              "      <td>1.0</td>\n",
              "      <td>0.0</td>\n",
              "      <td>0.0</td>\n",
              "      <td>0.0</td>\n",
              "      <td>0.0</td>\n",
              "      <td>1.0</td>\n",
              "      <td>0.5</td>\n",
              "      <td>1.0</td>\n",
              "      <td>1.0</td>\n",
              "      <td>1.0</td>\n",
              "      <td>1.0</td>\n",
              "    </tr>\n",
              "  </tbody>\n",
              "</table>\n",
              "</div>"
            ],
            "text/plain": [
              "   class_name  ...  export_administration_act_south_africa\n",
              "0  republican  ...                                     1.0\n",
              "1  republican  ...                                     0.5\n",
              "2    democrat  ...                                     0.0\n",
              "3    democrat  ...                                     1.0\n",
              "4    democrat  ...                                     1.0\n",
              "\n",
              "[5 rows x 17 columns]"
            ]
          },
          "metadata": {
            "tags": []
          },
          "execution_count": 10
        }
      ]
    },
    {
      "cell_type": "code",
      "metadata": {
        "id": "DAbtZqwt4C6m",
        "colab_type": "code",
        "colab": {}
      },
      "source": [
        "democrats = df.loc[df['class_name'] == 'democrat']\n",
        "republicans = df.loc[df['class_name'] == 'republican']"
      ],
      "execution_count": 0,
      "outputs": []
    },
    {
      "cell_type": "code",
      "metadata": {
        "id": "dkZ9s4rd9nTG",
        "colab_type": "code",
        "outputId": "ca63482d-c0fd-403b-c00e-280d1d933033",
        "colab": {
          "base_uri": "https://localhost:8080/",
          "height": 224
        }
      },
      "source": [
        "democrats.head()"
      ],
      "execution_count": 12,
      "outputs": [
        {
          "output_type": "execute_result",
          "data": {
            "text/html": [
              "<div>\n",
              "<style scoped>\n",
              "    .dataframe tbody tr th:only-of-type {\n",
              "        vertical-align: middle;\n",
              "    }\n",
              "\n",
              "    .dataframe tbody tr th {\n",
              "        vertical-align: top;\n",
              "    }\n",
              "\n",
              "    .dataframe thead th {\n",
              "        text-align: right;\n",
              "    }\n",
              "</style>\n",
              "<table border=\"1\" class=\"dataframe\">\n",
              "  <thead>\n",
              "    <tr style=\"text-align: right;\">\n",
              "      <th></th>\n",
              "      <th>class_name</th>\n",
              "      <th>handicapped_infants</th>\n",
              "      <th>water_project_cost_sharing</th>\n",
              "      <th>adoption_of_the_budget_resolution</th>\n",
              "      <th>physician_fee_freeze</th>\n",
              "      <th>el_salvador_aid</th>\n",
              "      <th>religious_groups_in_schools</th>\n",
              "      <th>anti_satellite_test_ban</th>\n",
              "      <th>aid_to_nicaraguan_contras</th>\n",
              "      <th>mx_missile</th>\n",
              "      <th>immigration</th>\n",
              "      <th>synfuels_corporation_cutback</th>\n",
              "      <th>education_spending</th>\n",
              "      <th>superfund_right_to_sue</th>\n",
              "      <th>crime</th>\n",
              "      <th>duty_free_exports</th>\n",
              "      <th>export_administration_act_south_africa</th>\n",
              "    </tr>\n",
              "  </thead>\n",
              "  <tbody>\n",
              "    <tr>\n",
              "      <th>2</th>\n",
              "      <td>democrat</td>\n",
              "      <td>0.5</td>\n",
              "      <td>1.0</td>\n",
              "      <td>1.0</td>\n",
              "      <td>0.5</td>\n",
              "      <td>1.0</td>\n",
              "      <td>1.0</td>\n",
              "      <td>0.0</td>\n",
              "      <td>0.0</td>\n",
              "      <td>0.0</td>\n",
              "      <td>0.0</td>\n",
              "      <td>1.0</td>\n",
              "      <td>0.0</td>\n",
              "      <td>1.0</td>\n",
              "      <td>1.0</td>\n",
              "      <td>0.0</td>\n",
              "      <td>0.0</td>\n",
              "    </tr>\n",
              "    <tr>\n",
              "      <th>3</th>\n",
              "      <td>democrat</td>\n",
              "      <td>0.0</td>\n",
              "      <td>1.0</td>\n",
              "      <td>1.0</td>\n",
              "      <td>0.0</td>\n",
              "      <td>0.5</td>\n",
              "      <td>1.0</td>\n",
              "      <td>0.0</td>\n",
              "      <td>0.0</td>\n",
              "      <td>0.0</td>\n",
              "      <td>0.0</td>\n",
              "      <td>1.0</td>\n",
              "      <td>0.0</td>\n",
              "      <td>1.0</td>\n",
              "      <td>0.0</td>\n",
              "      <td>0.0</td>\n",
              "      <td>1.0</td>\n",
              "    </tr>\n",
              "    <tr>\n",
              "      <th>4</th>\n",
              "      <td>democrat</td>\n",
              "      <td>1.0</td>\n",
              "      <td>1.0</td>\n",
              "      <td>1.0</td>\n",
              "      <td>0.0</td>\n",
              "      <td>1.0</td>\n",
              "      <td>1.0</td>\n",
              "      <td>0.0</td>\n",
              "      <td>0.0</td>\n",
              "      <td>0.0</td>\n",
              "      <td>0.0</td>\n",
              "      <td>1.0</td>\n",
              "      <td>0.5</td>\n",
              "      <td>1.0</td>\n",
              "      <td>1.0</td>\n",
              "      <td>1.0</td>\n",
              "      <td>1.0</td>\n",
              "    </tr>\n",
              "    <tr>\n",
              "      <th>5</th>\n",
              "      <td>democrat</td>\n",
              "      <td>0.0</td>\n",
              "      <td>1.0</td>\n",
              "      <td>1.0</td>\n",
              "      <td>0.0</td>\n",
              "      <td>1.0</td>\n",
              "      <td>1.0</td>\n",
              "      <td>0.0</td>\n",
              "      <td>0.0</td>\n",
              "      <td>0.0</td>\n",
              "      <td>0.0</td>\n",
              "      <td>0.0</td>\n",
              "      <td>0.0</td>\n",
              "      <td>1.0</td>\n",
              "      <td>1.0</td>\n",
              "      <td>1.0</td>\n",
              "      <td>1.0</td>\n",
              "    </tr>\n",
              "    <tr>\n",
              "      <th>6</th>\n",
              "      <td>democrat</td>\n",
              "      <td>0.0</td>\n",
              "      <td>1.0</td>\n",
              "      <td>0.0</td>\n",
              "      <td>1.0</td>\n",
              "      <td>1.0</td>\n",
              "      <td>1.0</td>\n",
              "      <td>0.0</td>\n",
              "      <td>0.0</td>\n",
              "      <td>0.0</td>\n",
              "      <td>0.0</td>\n",
              "      <td>0.0</td>\n",
              "      <td>0.0</td>\n",
              "      <td>0.5</td>\n",
              "      <td>1.0</td>\n",
              "      <td>1.0</td>\n",
              "      <td>1.0</td>\n",
              "    </tr>\n",
              "  </tbody>\n",
              "</table>\n",
              "</div>"
            ],
            "text/plain": [
              "  class_name  ...  export_administration_act_south_africa\n",
              "2   democrat  ...                                     0.0\n",
              "3   democrat  ...                                     1.0\n",
              "4   democrat  ...                                     1.0\n",
              "5   democrat  ...                                     1.0\n",
              "6   democrat  ...                                     1.0\n",
              "\n",
              "[5 rows x 17 columns]"
            ]
          },
          "metadata": {
            "tags": []
          },
          "execution_count": 12
        }
      ]
    },
    {
      "cell_type": "code",
      "metadata": {
        "id": "60u3bpcD68Rq",
        "colab_type": "code",
        "outputId": "f7831a5d-03fb-4964-b70c-072d069cb2c5",
        "colab": {
          "base_uri": "https://localhost:8080/",
          "height": 545
        }
      },
      "source": [
        "mean_votes = pd.DataFrame({'democrats_mean': democrats.mean(),\n",
        "                           'democrats_std': democrats.std(),\n",
        "                           'republicans_mean': republicans.mean(),\n",
        "                           'republicans_std': republicans.std()})\n",
        "\n",
        "mean_votes"
      ],
      "execution_count": 13,
      "outputs": [
        {
          "output_type": "execute_result",
          "data": {
            "text/html": [
              "<div>\n",
              "<style scoped>\n",
              "    .dataframe tbody tr th:only-of-type {\n",
              "        vertical-align: middle;\n",
              "    }\n",
              "\n",
              "    .dataframe tbody tr th {\n",
              "        vertical-align: top;\n",
              "    }\n",
              "\n",
              "    .dataframe thead th {\n",
              "        text-align: right;\n",
              "    }\n",
              "</style>\n",
              "<table border=\"1\" class=\"dataframe\">\n",
              "  <thead>\n",
              "    <tr style=\"text-align: right;\">\n",
              "      <th></th>\n",
              "      <th>democrats_mean</th>\n",
              "      <th>democrats_std</th>\n",
              "      <th>republicans_mean</th>\n",
              "      <th>republicans_std</th>\n",
              "    </tr>\n",
              "  </thead>\n",
              "  <tbody>\n",
              "    <tr>\n",
              "      <th>handicapped_infants</th>\n",
              "      <td>0.601124</td>\n",
              "      <td>0.481889</td>\n",
              "      <td>0.193452</td>\n",
              "      <td>0.390476</td>\n",
              "    </tr>\n",
              "    <tr>\n",
              "      <th>water_project_cost_sharing</th>\n",
              "      <td>0.501873</td>\n",
              "      <td>0.473941</td>\n",
              "      <td>0.505952</td>\n",
              "      <td>0.470660</td>\n",
              "    </tr>\n",
              "    <tr>\n",
              "      <th>adoption_of_the_budget_resolution</th>\n",
              "      <td>0.878277</td>\n",
              "      <td>0.317379</td>\n",
              "      <td>0.142857</td>\n",
              "      <td>0.342336</td>\n",
              "    </tr>\n",
              "    <tr>\n",
              "      <th>physician_fee_freeze</th>\n",
              "      <td>0.067416</td>\n",
              "      <td>0.235772</td>\n",
              "      <td>0.979167</td>\n",
              "      <td>0.126611</td>\n",
              "    </tr>\n",
              "    <tr>\n",
              "      <th>el_salvador_aid</th>\n",
              "      <td>0.228464</td>\n",
              "      <td>0.407005</td>\n",
              "      <td>0.943452</td>\n",
              "      <td>0.221762</td>\n",
              "    </tr>\n",
              "    <tr>\n",
              "      <th>religious_groups_in_schools</th>\n",
              "      <td>0.477528</td>\n",
              "      <td>0.491909</td>\n",
              "      <td>0.892857</td>\n",
              "      <td>0.305356</td>\n",
              "    </tr>\n",
              "    <tr>\n",
              "      <th>anti_satellite_test_ban</th>\n",
              "      <td>0.764045</td>\n",
              "      <td>0.416460</td>\n",
              "      <td>0.250000</td>\n",
              "      <td>0.423840</td>\n",
              "    </tr>\n",
              "    <tr>\n",
              "      <th>aid_to_nicaraguan_contras</th>\n",
              "      <td>0.823970</td>\n",
              "      <td>0.376602</td>\n",
              "      <td>0.175595</td>\n",
              "      <td>0.359390</td>\n",
              "    </tr>\n",
              "    <tr>\n",
              "      <th>mx_missile</th>\n",
              "      <td>0.739700</td>\n",
              "      <td>0.418820</td>\n",
              "      <td>0.122024</td>\n",
              "      <td>0.321379</td>\n",
              "    </tr>\n",
              "    <tr>\n",
              "      <th>immigration</th>\n",
              "      <td>0.471910</td>\n",
              "      <td>0.496375</td>\n",
              "      <td>0.556548</td>\n",
              "      <td>0.493750</td>\n",
              "    </tr>\n",
              "    <tr>\n",
              "      <th>synfuels_corporation_cutback</th>\n",
              "      <td>0.505618</td>\n",
              "      <td>0.489520</td>\n",
              "      <td>0.151786</td>\n",
              "      <td>0.340653</td>\n",
              "    </tr>\n",
              "    <tr>\n",
              "      <th>education_spending</th>\n",
              "      <td>0.168539</td>\n",
              "      <td>0.351772</td>\n",
              "      <td>0.842262</td>\n",
              "      <td>0.337922</td>\n",
              "    </tr>\n",
              "    <tr>\n",
              "      <th>superfund_right_to_sue</th>\n",
              "      <td>0.301498</td>\n",
              "      <td>0.444174</td>\n",
              "      <td>0.839286</td>\n",
              "      <td>0.347452</td>\n",
              "    </tr>\n",
              "    <tr>\n",
              "      <th>crime</th>\n",
              "      <td>0.355805</td>\n",
              "      <td>0.469756</td>\n",
              "      <td>0.961310</td>\n",
              "      <td>0.164126</td>\n",
              "    </tr>\n",
              "    <tr>\n",
              "      <th>duty_free_exports</th>\n",
              "      <td>0.629213</td>\n",
              "      <td>0.468128</td>\n",
              "      <td>0.119048</td>\n",
              "      <td>0.295870</td>\n",
              "    </tr>\n",
              "    <tr>\n",
              "      <th>export_administration_act_south_africa</th>\n",
              "      <td>0.801498</td>\n",
              "      <td>0.287453</td>\n",
              "      <td>0.636905</td>\n",
              "      <td>0.446887</td>\n",
              "    </tr>\n",
              "  </tbody>\n",
              "</table>\n",
              "</div>"
            ],
            "text/plain": [
              "                                        democrats_mean  ...  republicans_std\n",
              "handicapped_infants                           0.601124  ...         0.390476\n",
              "water_project_cost_sharing                    0.501873  ...         0.470660\n",
              "adoption_of_the_budget_resolution             0.878277  ...         0.342336\n",
              "physician_fee_freeze                          0.067416  ...         0.126611\n",
              "el_salvador_aid                               0.228464  ...         0.221762\n",
              "religious_groups_in_schools                   0.477528  ...         0.305356\n",
              "anti_satellite_test_ban                       0.764045  ...         0.423840\n",
              "aid_to_nicaraguan_contras                     0.823970  ...         0.359390\n",
              "mx_missile                                    0.739700  ...         0.321379\n",
              "immigration                                   0.471910  ...         0.493750\n",
              "synfuels_corporation_cutback                  0.505618  ...         0.340653\n",
              "education_spending                            0.168539  ...         0.337922\n",
              "superfund_right_to_sue                        0.301498  ...         0.347452\n",
              "crime                                         0.355805  ...         0.164126\n",
              "duty_free_exports                             0.629213  ...         0.295870\n",
              "export_administration_act_south_africa        0.801498  ...         0.446887\n",
              "\n",
              "[16 rows x 4 columns]"
            ]
          },
          "metadata": {
            "tags": []
          },
          "execution_count": 13
        }
      ]
    },
    {
      "cell_type": "markdown",
      "metadata": {
        "id": "3B9mUMIGCjDR",
        "colab_type": "text"
      },
      "source": [
        "## Tests"
      ]
    },
    {
      "cell_type": "code",
      "metadata": {
        "id": "OLDU0o7X8-zi",
        "colab_type": "code",
        "colab": {}
      },
      "source": [
        "from scipy.stats import ttest_ind, ttest_ind_from_stats, ttest_rel\n",
        "import seaborn as sns"
      ],
      "execution_count": 0,
      "outputs": []
    },
    {
      "cell_type": "code",
      "metadata": {
        "id": "j8-DljYaCh0O",
        "colab_type": "code",
        "outputId": "6441b79d-6325-41d3-f57e-4bed7c1c70c2",
        "colab": {
          "base_uri": "https://localhost:8080/",
          "height": 545
        }
      },
      "source": [
        "mean_votes"
      ],
      "execution_count": 15,
      "outputs": [
        {
          "output_type": "execute_result",
          "data": {
            "text/html": [
              "<div>\n",
              "<style scoped>\n",
              "    .dataframe tbody tr th:only-of-type {\n",
              "        vertical-align: middle;\n",
              "    }\n",
              "\n",
              "    .dataframe tbody tr th {\n",
              "        vertical-align: top;\n",
              "    }\n",
              "\n",
              "    .dataframe thead th {\n",
              "        text-align: right;\n",
              "    }\n",
              "</style>\n",
              "<table border=\"1\" class=\"dataframe\">\n",
              "  <thead>\n",
              "    <tr style=\"text-align: right;\">\n",
              "      <th></th>\n",
              "      <th>democrats_mean</th>\n",
              "      <th>democrats_std</th>\n",
              "      <th>republicans_mean</th>\n",
              "      <th>republicans_std</th>\n",
              "    </tr>\n",
              "  </thead>\n",
              "  <tbody>\n",
              "    <tr>\n",
              "      <th>handicapped_infants</th>\n",
              "      <td>0.601124</td>\n",
              "      <td>0.481889</td>\n",
              "      <td>0.193452</td>\n",
              "      <td>0.390476</td>\n",
              "    </tr>\n",
              "    <tr>\n",
              "      <th>water_project_cost_sharing</th>\n",
              "      <td>0.501873</td>\n",
              "      <td>0.473941</td>\n",
              "      <td>0.505952</td>\n",
              "      <td>0.470660</td>\n",
              "    </tr>\n",
              "    <tr>\n",
              "      <th>adoption_of_the_budget_resolution</th>\n",
              "      <td>0.878277</td>\n",
              "      <td>0.317379</td>\n",
              "      <td>0.142857</td>\n",
              "      <td>0.342336</td>\n",
              "    </tr>\n",
              "    <tr>\n",
              "      <th>physician_fee_freeze</th>\n",
              "      <td>0.067416</td>\n",
              "      <td>0.235772</td>\n",
              "      <td>0.979167</td>\n",
              "      <td>0.126611</td>\n",
              "    </tr>\n",
              "    <tr>\n",
              "      <th>el_salvador_aid</th>\n",
              "      <td>0.228464</td>\n",
              "      <td>0.407005</td>\n",
              "      <td>0.943452</td>\n",
              "      <td>0.221762</td>\n",
              "    </tr>\n",
              "    <tr>\n",
              "      <th>religious_groups_in_schools</th>\n",
              "      <td>0.477528</td>\n",
              "      <td>0.491909</td>\n",
              "      <td>0.892857</td>\n",
              "      <td>0.305356</td>\n",
              "    </tr>\n",
              "    <tr>\n",
              "      <th>anti_satellite_test_ban</th>\n",
              "      <td>0.764045</td>\n",
              "      <td>0.416460</td>\n",
              "      <td>0.250000</td>\n",
              "      <td>0.423840</td>\n",
              "    </tr>\n",
              "    <tr>\n",
              "      <th>aid_to_nicaraguan_contras</th>\n",
              "      <td>0.823970</td>\n",
              "      <td>0.376602</td>\n",
              "      <td>0.175595</td>\n",
              "      <td>0.359390</td>\n",
              "    </tr>\n",
              "    <tr>\n",
              "      <th>mx_missile</th>\n",
              "      <td>0.739700</td>\n",
              "      <td>0.418820</td>\n",
              "      <td>0.122024</td>\n",
              "      <td>0.321379</td>\n",
              "    </tr>\n",
              "    <tr>\n",
              "      <th>immigration</th>\n",
              "      <td>0.471910</td>\n",
              "      <td>0.496375</td>\n",
              "      <td>0.556548</td>\n",
              "      <td>0.493750</td>\n",
              "    </tr>\n",
              "    <tr>\n",
              "      <th>synfuels_corporation_cutback</th>\n",
              "      <td>0.505618</td>\n",
              "      <td>0.489520</td>\n",
              "      <td>0.151786</td>\n",
              "      <td>0.340653</td>\n",
              "    </tr>\n",
              "    <tr>\n",
              "      <th>education_spending</th>\n",
              "      <td>0.168539</td>\n",
              "      <td>0.351772</td>\n",
              "      <td>0.842262</td>\n",
              "      <td>0.337922</td>\n",
              "    </tr>\n",
              "    <tr>\n",
              "      <th>superfund_right_to_sue</th>\n",
              "      <td>0.301498</td>\n",
              "      <td>0.444174</td>\n",
              "      <td>0.839286</td>\n",
              "      <td>0.347452</td>\n",
              "    </tr>\n",
              "    <tr>\n",
              "      <th>crime</th>\n",
              "      <td>0.355805</td>\n",
              "      <td>0.469756</td>\n",
              "      <td>0.961310</td>\n",
              "      <td>0.164126</td>\n",
              "    </tr>\n",
              "    <tr>\n",
              "      <th>duty_free_exports</th>\n",
              "      <td>0.629213</td>\n",
              "      <td>0.468128</td>\n",
              "      <td>0.119048</td>\n",
              "      <td>0.295870</td>\n",
              "    </tr>\n",
              "    <tr>\n",
              "      <th>export_administration_act_south_africa</th>\n",
              "      <td>0.801498</td>\n",
              "      <td>0.287453</td>\n",
              "      <td>0.636905</td>\n",
              "      <td>0.446887</td>\n",
              "    </tr>\n",
              "  </tbody>\n",
              "</table>\n",
              "</div>"
            ],
            "text/plain": [
              "                                        democrats_mean  ...  republicans_std\n",
              "handicapped_infants                           0.601124  ...         0.390476\n",
              "water_project_cost_sharing                    0.501873  ...         0.470660\n",
              "adoption_of_the_budget_resolution             0.878277  ...         0.342336\n",
              "physician_fee_freeze                          0.067416  ...         0.126611\n",
              "el_salvador_aid                               0.228464  ...         0.221762\n",
              "religious_groups_in_schools                   0.477528  ...         0.305356\n",
              "anti_satellite_test_ban                       0.764045  ...         0.423840\n",
              "aid_to_nicaraguan_contras                     0.823970  ...         0.359390\n",
              "mx_missile                                    0.739700  ...         0.321379\n",
              "immigration                                   0.471910  ...         0.493750\n",
              "synfuels_corporation_cutback                  0.505618  ...         0.340653\n",
              "education_spending                            0.168539  ...         0.337922\n",
              "superfund_right_to_sue                        0.301498  ...         0.347452\n",
              "crime                                         0.355805  ...         0.164126\n",
              "duty_free_exports                             0.629213  ...         0.295870\n",
              "export_administration_act_south_africa        0.801498  ...         0.446887\n",
              "\n",
              "[16 rows x 4 columns]"
            ]
          },
          "metadata": {
            "tags": []
          },
          "execution_count": 15
        }
      ]
    },
    {
      "cell_type": "code",
      "metadata": {
        "id": "vLXZwWPd4yOP",
        "colab_type": "code",
        "outputId": "66650d7c-f545-4810-ee1d-b45a8cf6b6f6",
        "colab": {
          "base_uri": "https://localhost:8080/",
          "height": 224
        }
      },
      "source": [
        "df.head()"
      ],
      "execution_count": 16,
      "outputs": [
        {
          "output_type": "execute_result",
          "data": {
            "text/html": [
              "<div>\n",
              "<style scoped>\n",
              "    .dataframe tbody tr th:only-of-type {\n",
              "        vertical-align: middle;\n",
              "    }\n",
              "\n",
              "    .dataframe tbody tr th {\n",
              "        vertical-align: top;\n",
              "    }\n",
              "\n",
              "    .dataframe thead th {\n",
              "        text-align: right;\n",
              "    }\n",
              "</style>\n",
              "<table border=\"1\" class=\"dataframe\">\n",
              "  <thead>\n",
              "    <tr style=\"text-align: right;\">\n",
              "      <th></th>\n",
              "      <th>class_name</th>\n",
              "      <th>handicapped_infants</th>\n",
              "      <th>water_project_cost_sharing</th>\n",
              "      <th>adoption_of_the_budget_resolution</th>\n",
              "      <th>physician_fee_freeze</th>\n",
              "      <th>el_salvador_aid</th>\n",
              "      <th>religious_groups_in_schools</th>\n",
              "      <th>anti_satellite_test_ban</th>\n",
              "      <th>aid_to_nicaraguan_contras</th>\n",
              "      <th>mx_missile</th>\n",
              "      <th>immigration</th>\n",
              "      <th>synfuels_corporation_cutback</th>\n",
              "      <th>education_spending</th>\n",
              "      <th>superfund_right_to_sue</th>\n",
              "      <th>crime</th>\n",
              "      <th>duty_free_exports</th>\n",
              "      <th>export_administration_act_south_africa</th>\n",
              "    </tr>\n",
              "  </thead>\n",
              "  <tbody>\n",
              "    <tr>\n",
              "      <th>0</th>\n",
              "      <td>republican</td>\n",
              "      <td>0.0</td>\n",
              "      <td>1.0</td>\n",
              "      <td>0.0</td>\n",
              "      <td>1.0</td>\n",
              "      <td>1.0</td>\n",
              "      <td>1.0</td>\n",
              "      <td>0.0</td>\n",
              "      <td>0.0</td>\n",
              "      <td>0.0</td>\n",
              "      <td>1.0</td>\n",
              "      <td>0.5</td>\n",
              "      <td>1.0</td>\n",
              "      <td>1.0</td>\n",
              "      <td>1.0</td>\n",
              "      <td>0.0</td>\n",
              "      <td>1.0</td>\n",
              "    </tr>\n",
              "    <tr>\n",
              "      <th>1</th>\n",
              "      <td>republican</td>\n",
              "      <td>0.0</td>\n",
              "      <td>1.0</td>\n",
              "      <td>0.0</td>\n",
              "      <td>1.0</td>\n",
              "      <td>1.0</td>\n",
              "      <td>1.0</td>\n",
              "      <td>0.0</td>\n",
              "      <td>0.0</td>\n",
              "      <td>0.0</td>\n",
              "      <td>0.0</td>\n",
              "      <td>0.0</td>\n",
              "      <td>1.0</td>\n",
              "      <td>1.0</td>\n",
              "      <td>1.0</td>\n",
              "      <td>0.0</td>\n",
              "      <td>0.5</td>\n",
              "    </tr>\n",
              "    <tr>\n",
              "      <th>2</th>\n",
              "      <td>democrat</td>\n",
              "      <td>0.5</td>\n",
              "      <td>1.0</td>\n",
              "      <td>1.0</td>\n",
              "      <td>0.5</td>\n",
              "      <td>1.0</td>\n",
              "      <td>1.0</td>\n",
              "      <td>0.0</td>\n",
              "      <td>0.0</td>\n",
              "      <td>0.0</td>\n",
              "      <td>0.0</td>\n",
              "      <td>1.0</td>\n",
              "      <td>0.0</td>\n",
              "      <td>1.0</td>\n",
              "      <td>1.0</td>\n",
              "      <td>0.0</td>\n",
              "      <td>0.0</td>\n",
              "    </tr>\n",
              "    <tr>\n",
              "      <th>3</th>\n",
              "      <td>democrat</td>\n",
              "      <td>0.0</td>\n",
              "      <td>1.0</td>\n",
              "      <td>1.0</td>\n",
              "      <td>0.0</td>\n",
              "      <td>0.5</td>\n",
              "      <td>1.0</td>\n",
              "      <td>0.0</td>\n",
              "      <td>0.0</td>\n",
              "      <td>0.0</td>\n",
              "      <td>0.0</td>\n",
              "      <td>1.0</td>\n",
              "      <td>0.0</td>\n",
              "      <td>1.0</td>\n",
              "      <td>0.0</td>\n",
              "      <td>0.0</td>\n",
              "      <td>1.0</td>\n",
              "    </tr>\n",
              "    <tr>\n",
              "      <th>4</th>\n",
              "      <td>democrat</td>\n",
              "      <td>1.0</td>\n",
              "      <td>1.0</td>\n",
              "      <td>1.0</td>\n",
              "      <td>0.0</td>\n",
              "      <td>1.0</td>\n",
              "      <td>1.0</td>\n",
              "      <td>0.0</td>\n",
              "      <td>0.0</td>\n",
              "      <td>0.0</td>\n",
              "      <td>0.0</td>\n",
              "      <td>1.0</td>\n",
              "      <td>0.5</td>\n",
              "      <td>1.0</td>\n",
              "      <td>1.0</td>\n",
              "      <td>1.0</td>\n",
              "      <td>1.0</td>\n",
              "    </tr>\n",
              "  </tbody>\n",
              "</table>\n",
              "</div>"
            ],
            "text/plain": [
              "   class_name  ...  export_administration_act_south_africa\n",
              "0  republican  ...                                     1.0\n",
              "1  republican  ...                                     0.5\n",
              "2    democrat  ...                                     0.0\n",
              "3    democrat  ...                                     1.0\n",
              "4    democrat  ...                                     1.0\n",
              "\n",
              "[5 rows x 17 columns]"
            ]
          },
          "metadata": {
            "tags": []
          },
          "execution_count": 16
        }
      ]
    },
    {
      "cell_type": "markdown",
      "metadata": {
        "id": "ud2aIhXfMAe9",
        "colab_type": "text"
      },
      "source": [
        "## handicapped_infants Republican Favor"
      ]
    },
    {
      "cell_type": "code",
      "metadata": {
        "id": "2zzZldSV9gTg",
        "colab_type": "code",
        "outputId": "906d597d-fa28-4873-db83-8ea375be4d4a",
        "colab": {
          "base_uri": "https://localhost:8080/",
          "height": 221
        }
      },
      "source": [
        "# Create DF with criteria needed\n",
        "\n",
        "df1 = df[['class_name', 'handicapped_infants']]\n",
        "print(df1.shape)\n",
        "df1.head()"
      ],
      "execution_count": 17,
      "outputs": [
        {
          "output_type": "stream",
          "text": [
            "(435, 2)\n"
          ],
          "name": "stdout"
        },
        {
          "output_type": "execute_result",
          "data": {
            "text/html": [
              "<div>\n",
              "<style scoped>\n",
              "    .dataframe tbody tr th:only-of-type {\n",
              "        vertical-align: middle;\n",
              "    }\n",
              "\n",
              "    .dataframe tbody tr th {\n",
              "        vertical-align: top;\n",
              "    }\n",
              "\n",
              "    .dataframe thead th {\n",
              "        text-align: right;\n",
              "    }\n",
              "</style>\n",
              "<table border=\"1\" class=\"dataframe\">\n",
              "  <thead>\n",
              "    <tr style=\"text-align: right;\">\n",
              "      <th></th>\n",
              "      <th>class_name</th>\n",
              "      <th>handicapped_infants</th>\n",
              "    </tr>\n",
              "  </thead>\n",
              "  <tbody>\n",
              "    <tr>\n",
              "      <th>0</th>\n",
              "      <td>republican</td>\n",
              "      <td>0.0</td>\n",
              "    </tr>\n",
              "    <tr>\n",
              "      <th>1</th>\n",
              "      <td>republican</td>\n",
              "      <td>0.0</td>\n",
              "    </tr>\n",
              "    <tr>\n",
              "      <th>2</th>\n",
              "      <td>democrat</td>\n",
              "      <td>0.5</td>\n",
              "    </tr>\n",
              "    <tr>\n",
              "      <th>3</th>\n",
              "      <td>democrat</td>\n",
              "      <td>0.0</td>\n",
              "    </tr>\n",
              "    <tr>\n",
              "      <th>4</th>\n",
              "      <td>democrat</td>\n",
              "      <td>1.0</td>\n",
              "    </tr>\n",
              "  </tbody>\n",
              "</table>\n",
              "</div>"
            ],
            "text/plain": [
              "   class_name  handicapped_infants\n",
              "0  republican                  0.0\n",
              "1  republican                  0.0\n",
              "2    democrat                  0.5\n",
              "3    democrat                  0.0\n",
              "4    democrat                  1.0"
            ]
          },
          "metadata": {
            "tags": []
          },
          "execution_count": 17
        }
      ]
    },
    {
      "cell_type": "code",
      "metadata": {
        "id": "oUOlM3QL96Uh",
        "colab_type": "code",
        "outputId": "6e054f28-c839-46d1-8da7-9486739e2937",
        "colab": {
          "base_uri": "https://localhost:8080/",
          "height": 545
        }
      },
      "source": [
        "# Visulizations to help\n",
        "\n",
        "df1.loc[df1['class_name'] == 'democrat'].hist()\n",
        "plt.title('democrat')\n",
        "df1.loc[df1['class_name'] == 'republican'].hist()\n",
        "plt.title('republican')\n",
        "plt.show()"
      ],
      "execution_count": 18,
      "outputs": [
        {
          "output_type": "display_data",
          "data": {
            "image/png": "[encoded data removed]",
            "text/plain": [
              "<Figure size 432x288 with 1 Axes>"
            ]
          },
          "metadata": {
            "tags": []
          }
        },
        {
          "output_type": "display_data",
          "data": {
            "image/png": "[encoded data removed]",
            "text/plain": [
              "<Figure size 432x288 with 1 Axes>"
            ]
          },
          "metadata": {
            "tags": []
          }
        }
      ]
    },
    {
      "cell_type": "code",
      "metadata": {
        "id": "tT_Buo-S-_bD",
        "colab_type": "code",
        "outputId": "8738e671-de5d-4e71-be1d-eceef033863d",
        "colab": {
          "base_uri": "https://localhost:8080/",
          "height": 85
        }
      },
      "source": [
        "# democrat mean\n",
        "\n",
        "dmean1 = df1.loc[df1['class_name'] == 'democrat'].mean()\n",
        "dstd1 = df1.loc[df1['class_name'] == 'democrat'].std()\n",
        "print('mean: ', dmean1)\n",
        "print('std: ', dstd1)"
      ],
      "execution_count": 19,
      "outputs": [
        {
          "output_type": "stream",
          "text": [
            "mean:  handicapped_infants    0.601124\n",
            "dtype: float64\n",
            "std:  handicapped_infants    0.481889\n",
            "dtype: float64\n"
          ],
          "name": "stdout"
        }
      ]
    },
    {
      "cell_type": "code",
      "metadata": {
        "id": "fy4djS1O-XuQ",
        "colab_type": "code",
        "outputId": "9c0a0b5f-0357-4901-aad9-8dc34eb979b5",
        "colab": {
          "base_uri": "https://localhost:8080/",
          "height": 85
        }
      },
      "source": [
        "# republican mean\n",
        "\n",
        "rmean1 = df1.loc[df1['class_name'] == 'republican'].mean()\n",
        "rstd1 = df1.loc[df1['class_name'] == 'democrat'].std()\n",
        "print('mean: ', rmean1)\n",
        "print('std: ', rstd1)"
      ],
      "execution_count": 20,
      "outputs": [
        {
          "output_type": "stream",
          "text": [
            "mean:  handicapped_infants    0.193452\n",
            "dtype: float64\n",
            "std:  handicapped_infants    0.481889\n",
            "dtype: float64\n"
          ],
          "name": "stdout"
        }
      ]
    },
    {
      "cell_type": "markdown",
      "metadata": {
        "id": "CBHq4bYI_bRP",
        "colab_type": "text"
      },
      "source": [
        "H<sub>0</sub> : $\\overline{x}$<sub>a</sub> = $\\overline{x}$<sub>b</sub><br/>\n",
        "H<sub>a</sub> : $\\overline{x}$<sub>a</sub> != $\\overline{x}$<sub>b</sub><br/>\n",
        "\n",
        "H<sub>0</sub> : $\\overline{x}$<sub>democrats</sub> = .19<br/>\n",
        "H<sub>a</sub> : $\\overline{x}$<sub>democrats</sub>  != .19<br/>"
      ]
    },
    {
      "cell_type": "code",
      "metadata": {
        "id": "bcJy1bm-_adY",
        "colab_type": "code",
        "outputId": "aadeef8a-1a48-4c98-fd30-171bf399c479",
        "colab": {
          "base_uri": "https://localhost:8080/",
          "height": 51
        }
      },
      "source": [
        "zscore = (rmean1 - dmean1) / rstd1\n",
        "print(zscore)"
      ],
      "execution_count": 21,
      "outputs": [
        {
          "output_type": "stream",
          "text": [
            "handicapped_infants   -0.845986\n",
            "dtype: float64\n"
          ],
          "name": "stdout"
        }
      ]
    },
    {
      "cell_type": "markdown",
      "metadata": {
        "id": "HoFZqaZaOi3F",
        "colab_type": "text"
      },
      "source": [
        "### Lecture Replication"
      ]
    },
    {
      "cell_type": "code",
      "metadata": {
        "id": "9Id2-qnHEz6R",
        "colab_type": "code",
        "outputId": "0d42d81a-5f6d-4bad-b87d-bc29e00ed930",
        "colab": {
          "base_uri": "https://localhost:8080/",
          "height": 301
        }
      },
      "source": [
        "# More Visualisations from lecture\n",
        "\n",
        "sns.distplot(df1[df1['class_name'] == 'republican']['handicapped_infants'], color='b')"
      ],
      "execution_count": 22,
      "outputs": [
        {
          "output_type": "execute_result",
          "data": {
            "text/plain": [
              "<matplotlib.axes._subplots.AxesSubplot at 0x7f94005e83c8>"
            ]
          },
          "metadata": {
            "tags": []
          },
          "execution_count": 22
        },
        {
          "output_type": "display_data",
          "data": {
            "image/png": "[encoded data removed]",
            "text/plain": [
              "<Figure size 432x288 with 1 Axes>"
            ]
          },
          "metadata": {
            "tags": []
          }
        }
      ]
    },
    {
      "cell_type": "code",
      "metadata": {
        "id": "DRo-bNhgHV0x",
        "colab_type": "code",
        "outputId": "13418ca1-301d-4818-adf6-e28a5c139800",
        "colab": {
          "base_uri": "https://localhost:8080/",
          "height": 301
        }
      },
      "source": [
        "sns.distplot(df1[df1['class_name'] == 'democrat']['handicapped_infants'], color='r')"
      ],
      "execution_count": 23,
      "outputs": [
        {
          "output_type": "execute_result",
          "data": {
            "text/plain": [
              "<matplotlib.axes._subplots.AxesSubplot at 0x7f940061cf28>"
            ]
          },
          "metadata": {
            "tags": []
          },
          "execution_count": 23
        },
        {
          "output_type": "display_data",
          "data": {
            "image/png": "[encoded data removed]",
            "text/plain": [
              "<Figure size 432x288 with 1 Axes>"
            ]
          },
          "metadata": {
            "tags": []
          }
        }
      ]
    },
    {
      "cell_type": "code",
      "metadata": {
        "id": "emka7gAIKbV_",
        "colab_type": "code",
        "outputId": "ec071f61-a122-4c56-cd4f-04d126d3993c",
        "colab": {
          "base_uri": "https://localhost:8080/",
          "height": 286
        }
      },
      "source": [
        "# not sure why the seaborn y axis is wrong\n",
        "\n",
        "df1[df1['class_name'] == 'democrat']['handicapped_infants'].hist()"
      ],
      "execution_count": 24,
      "outputs": [
        {
          "output_type": "execute_result",
          "data": {
            "text/plain": [
              "<matplotlib.axes._subplots.AxesSubplot at 0x7f9402f0feb8>"
            ]
          },
          "metadata": {
            "tags": []
          },
          "execution_count": 24
        },
        {
          "output_type": "display_data",
          "data": {
            "image/png": "[encoded data removed]",
            "text/plain": [
              "<Figure size 432x288 with 1 Axes>"
            ]
          },
          "metadata": {
            "tags": []
          }
        }
      ]
    },
    {
      "cell_type": "code",
      "metadata": {
        "id": "hZDepq8-MQlj",
        "colab_type": "code",
        "outputId": "44fd15ae-b043-4c04-8978-8c9248f1c3b5",
        "colab": {
          "base_uri": "https://localhost:8080/",
          "height": 51
        }
      },
      "source": [
        "# Replicating code from lecture\n",
        "\n",
        "tstat, pvalue = ttest_ind(df1[df1['class_name'] == 'republican']['handicapped_infants'],\n",
        "                          df1[df1['class_name'] == 'democrat']['handicapped_infants'])\n",
        "print(f'{tstat:10f}')\n",
        "print(pvalue)\n",
        "\n",
        "# pvalue is very small\n",
        "# after replicating the code from the lecture I still have no idea how I got to these numbers or what they mean"
      ],
      "execution_count": 119,
      "outputs": [
        {
          "output_type": "stream",
          "text": [
            " -9.223178\n",
            "1.2761169357253626e-18\n"
          ],
          "name": "stdout"
        }
      ]
    },
    {
      "cell_type": "markdown",
      "metadata": {
        "id": "WvJtEENgOnqF",
        "colab_type": "text"
      },
      "source": [
        "### Sampled Test"
      ]
    },
    {
      "cell_type": "code",
      "metadata": {
        "id": "i0QyBmrF1i3w",
        "colab_type": "code",
        "colab": {
          "base_uri": "https://localhost:8080/",
          "height": 442
        },
        "outputId": "ec783d9d-2655-4e43-d49e-3b46f4c4fd3c"
      },
      "source": [
        "# create array of dem and rep votes to sample/simulate from\n",
        "\n",
        "r1 = np.array(df1['handicapped_infants'].loc[df1['class_name'] == 'republican'])\n",
        "d1 = np.array(df1['handicapped_infants'].loc[df1['class_name'] == 'democrat'])\n",
        "print(r1)\n",
        "print(d1)"
      ],
      "execution_count": 121,
      "outputs": [
        {
          "output_type": "stream",
          "text": [
            "[0.  0.  0.  0.  0.  0.  0.  0.  0.  1.  0.  0.  0.  1.  1.  0.  0.  0.\n",
            " 1.  0.  0.  0.  0.  0.  0.  1.  0.  0.  1.  1.  0.  0.  0.  0.  0.  0.\n",
            " 0.  0.  0.  0.  0.  0.  1.  0.  0.  0.  0.  1.  0.  0.  0.  0.  0.  0.\n",
            " 0.  0.  0.  0.  0.  0.  1.  0.  1.  1.  0.  0.  1.  1.  0.  0.  1.  0.\n",
            " 0.  0.  0.  0.  0.  1.  0.  1.  0.  0.  0.  0.  0.  0.  0.  0.  0.  0.\n",
            " 0.  0.  0.  0.  0.5 0.  0.  0.  0.  0.  0.  1.  0.  1.  0.  0.  0.  0.\n",
            " 1.  1.  0.  0.  0.  0.  0.  0.  0.  0.  0.  0.  0.  0.  0.  0.  0.  0.\n",
            " 0.  0.  1.  0.  0.  0.  0.  1.  0.  0.  0.  1.  0.  0.  0.  1.  1.  0.\n",
            " 0.  0.  0.  0.  1.  0.5 0.  0.  0.  0.5 0.  1.  0.  0.  0.  0.  1.  1.\n",
            " 1.  0.  0.  0.  0.  0. ]\n",
            "[0.5 0.  1.  0.  0.  1.  0.  1.  1.  1.  1.  1.  1.  1.  1.  1.  1.  1.\n",
            " 1.  1.  1.  1.  1.  1.  1.  1.  1.  1.  1.  1.  1.  1.  1.  1.  1.  1.\n",
            " 1.  1.  1.  1.  1.  1.  1.  1.  1.  0.  0.  0.  1.  1.  1.  0.  0.  1.\n",
            " 1.  1.  1.  1.  1.  0.  1.  1.  1.  1.  1.  1.  0.5 1.  1.  1.  0.  0.\n",
            " 1.  0.  1.  0.  0.  0.  0.  0.5 1.  0.  0.  0.  1.  0.5 0.  0.  0.  0.\n",
            " 1.  0.  0.  0.  0.  0.  0.  0.  1.  0.  0.  1.  1.  0.  0.  1.  0.  0.\n",
            " 0.5 1.  0.5 0.  1.  0.5 0.  1.  0.  1.  1.  0.  0.  0.  0.  0.  1.  0.\n",
            " 1.  1.  1.  0.  0.  1.  0.  0.  0.  0.  1.  1.  0.  0.  0.  1.  0.  1.\n",
            " 0.  0.  0.  1.  1.  1.  0.  1.  1.  0.  1.  1.  1.  1.  0.  1.  1.  1.\n",
            " 1.  1.  1.  1.  1.  1.  1.  0.  1.  0.  0.  0.  0.  0.  1.  1.  1.  1.\n",
            " 1.  1.  1.  0.  1.  0.  0.  0.  1.  1.  0.  1.  0.  1.  0.  1.  0.  1.\n",
            " 1.  1.  0.  1.  1.  1.  1.  1.  0.  0.  0.  1.  1.  0.  0.  0.  1.  0.\n",
            " 0.  0.  1.  1.  1.  1.  0.  1.  1.  0.  1.  1.  0.  0.  0.  1.  1.  1.\n",
            " 1.  1.  1.  1.  0.  1.  0.  1.  0.5 1.  1.  1.  1.  1.  0.  1.  0.  1.\n",
            " 1.  1.  0.  1.  1.  1.  0.  0.  0.  0.  0.  1.  0.5 1.  0. ]\n"
          ],
          "name": "stdout"
        }
      ]
    },
    {
      "cell_type": "code",
      "metadata": {
        "id": "76Ll206Q4GBo",
        "colab_type": "code",
        "colab": {}
      },
      "source": [
        "import random\n",
        "from statistics import mean, stdev"
      ],
      "execution_count": 0,
      "outputs": []
    },
    {
      "cell_type": "code",
      "metadata": {
        "id": "oWId9ime4Q2k",
        "colab_type": "code",
        "colab": {}
      },
      "source": [
        "def bootstrap_sample(items):\n",
        "    # Random resample *with replacement*\n",
        "    return random.choices(items, k=50)"
      ],
      "execution_count": 0,
      "outputs": []
    },
    {
      "cell_type": "code",
      "metadata": {
        "id": "4opZ3J2k6hAN",
        "colab_type": "code",
        "colab": {
          "base_uri": "https://localhost:8080/",
          "height": 527
        },
        "outputId": "82f8746a-39e4-409f-981c-3a7545847178"
      },
      "source": [
        "# bootstrap testing\n",
        "\n",
        "apples = [1, 2, 4, 5, 6, 7, 8, 9]\n",
        "\n",
        "a_sample = bootstrap_sample(apples)\n",
        "a_sample"
      ],
      "execution_count": 74,
      "outputs": [
        {
          "output_type": "execute_result",
          "data": {
            "text/plain": [
              "[5,\n",
              " 2,\n",
              " 2,\n",
              " 1,\n",
              " 2,\n",
              " 9,\n",
              " 5,\n",
              " 6,\n",
              " 5,\n",
              " 5,\n",
              " 2,\n",
              " 6,\n",
              " 4,\n",
              " 8,\n",
              " 6,\n",
              " 7,\n",
              " 5,\n",
              " 2,\n",
              " 4,\n",
              " 9,\n",
              " 7,\n",
              " 2,\n",
              " 9,\n",
              " 4,\n",
              " 5,\n",
              " 6,\n",
              " 5,\n",
              " 5,\n",
              " 4,\n",
              " 5]"
            ]
          },
          "metadata": {
            "tags": []
          },
          "execution_count": 74
        }
      ]
    },
    {
      "cell_type": "code",
      "metadata": {
        "id": "M4WqxMIJ4aEt",
        "colab_type": "code",
        "colab": {
          "base_uri": "https://localhost:8080/",
          "height": 51
        },
        "outputId": "37a7edf3-0408-4ad0-98d5-2e58945f88ec"
      },
      "source": [
        "# Create Samples with replacement\n",
        "\n",
        "r1_sample = bootstrap_sample(r1)\n",
        "d1_sample = bootstrap_sample(d1)\n",
        "\n",
        "print(mean(r1_sample))\n",
        "mean(r1)"
      ],
      "execution_count": 93,
      "outputs": [
        {
          "output_type": "stream",
          "text": [
            "0.16\n"
          ],
          "name": "stdout"
        },
        {
          "output_type": "execute_result",
          "data": {
            "text/plain": [
              "0.19345238095238096"
            ]
          },
          "metadata": {
            "tags": []
          },
          "execution_count": 93
        }
      ]
    },
    {
      "cell_type": "code",
      "metadata": {
        "id": "RrIEpw3i8XSi",
        "colab_type": "code",
        "colab": {
          "base_uri": "https://localhost:8080/",
          "height": 221
        },
        "outputId": "afeab6e5-8c2c-477b-a4c8-08088bb24dfb"
      },
      "source": [
        "r1_sample_df = pd.DataFrame(r1_sample)\n",
        "d1_sample_df = pd.DataFrame(d1_sample)\n",
        "\n",
        "print(r1_sample_df.shape)\n",
        "r1_sample_df.head()"
      ],
      "execution_count": 94,
      "outputs": [
        {
          "output_type": "stream",
          "text": [
            "(50, 1)\n"
          ],
          "name": "stdout"
        },
        {
          "output_type": "execute_result",
          "data": {
            "text/html": [
              "<div>\n",
              "<style scoped>\n",
              "    .dataframe tbody tr th:only-of-type {\n",
              "        vertical-align: middle;\n",
              "    }\n",
              "\n",
              "    .dataframe tbody tr th {\n",
              "        vertical-align: top;\n",
              "    }\n",
              "\n",
              "    .dataframe thead th {\n",
              "        text-align: right;\n",
              "    }\n",
              "</style>\n",
              "<table border=\"1\" class=\"dataframe\">\n",
              "  <thead>\n",
              "    <tr style=\"text-align: right;\">\n",
              "      <th></th>\n",
              "      <th>0</th>\n",
              "    </tr>\n",
              "  </thead>\n",
              "  <tbody>\n",
              "    <tr>\n",
              "      <th>0</th>\n",
              "      <td>1.0</td>\n",
              "    </tr>\n",
              "    <tr>\n",
              "      <th>1</th>\n",
              "      <td>0.0</td>\n",
              "    </tr>\n",
              "    <tr>\n",
              "      <th>2</th>\n",
              "      <td>0.0</td>\n",
              "    </tr>\n",
              "    <tr>\n",
              "      <th>3</th>\n",
              "      <td>0.0</td>\n",
              "    </tr>\n",
              "    <tr>\n",
              "      <th>4</th>\n",
              "      <td>0.0</td>\n",
              "    </tr>\n",
              "  </tbody>\n",
              "</table>\n",
              "</div>"
            ],
            "text/plain": [
              "     0\n",
              "0  1.0\n",
              "1  0.0\n",
              "2  0.0\n",
              "3  0.0\n",
              "4  0.0"
            ]
          },
          "metadata": {
            "tags": []
          },
          "execution_count": 94
        }
      ]
    },
    {
      "cell_type": "code",
      "metadata": {
        "id": "wk5dcJc76cmA",
        "colab_type": "code",
        "colab": {
          "base_uri": "https://localhost:8080/",
          "height": 315
        },
        "outputId": "7099aff1-871c-4eea-9350-0ad64bc9d2ab"
      },
      "source": [
        "r1_sample_df.hist()"
      ],
      "execution_count": 86,
      "outputs": [
        {
          "output_type": "execute_result",
          "data": {
            "text/plain": [
              "array([[<matplotlib.axes._subplots.AxesSubplot object at 0x7f93fee8d240>]],\n",
              "      dtype=object)"
            ]
          },
          "metadata": {
            "tags": []
          },
          "execution_count": 86
        },
        {
          "output_type": "display_data",
          "data": {
            "image/png": "[encoded data removed]",
            "text/plain": [
              "<Figure size 432x288 with 1 Axes>"
            ]
          },
          "metadata": {
            "tags": []
          }
        }
      ]
    },
    {
      "cell_type": "code",
      "metadata": {
        "id": "1UQQhwhT_HIO",
        "colab_type": "code",
        "colab": {
          "base_uri": "https://localhost:8080/",
          "height": 204
        },
        "outputId": "432d0818-0c15-47cc-c10f-ba5fdd19273e"
      },
      "source": [
        "print('republican mean:', r1_sample_df.mean())\n",
        "print('republican st Dev:', r1_sample_df.std())\n",
        "print(r1_sample_df.shape)\n",
        "\n",
        "print('---' * 10)\n",
        "\n",
        "print('democrat mean:', d1_sample_df.mean())\n",
        "print('democrat st Dev:', d1_sample_df.std())\n",
        "print(d1_sample_df.shape)"
      ],
      "execution_count": 109,
      "outputs": [
        {
          "output_type": "stream",
          "text": [
            "republican mean: 0    0.16\n",
            "dtype: float64\n",
            "republican st Dev: 0    0.370328\n",
            "dtype: float64\n",
            "(50, 1)\n",
            "------------------------------\n",
            "democrat mean: 0    0.57\n",
            "dtype: float64\n",
            "democrat st Dev: 0    0.494975\n",
            "dtype: float64\n",
            "(50, 1)\n"
          ],
          "name": "stdout"
        }
      ]
    },
    {
      "cell_type": "code",
      "metadata": {
        "id": "VAkJcKHvEOHW",
        "colab_type": "code",
        "colab": {
          "base_uri": "https://localhost:8080/",
          "height": 34
        },
        "outputId": "830a1462-168b-478e-eac4-06f18060f97f"
      },
      "source": [
        "ttest_ind(r1_sample_df, d1_sample_df)"
      ],
      "execution_count": 101,
      "outputs": [
        {
          "output_type": "execute_result",
          "data": {
            "text/plain": [
              "Ttest_indResult(statistic=array([-4.68981796]), pvalue=array([8.856116e-06]))"
            ]
          },
          "metadata": {
            "tags": []
          },
          "execution_count": 101
        }
      ]
    },
    {
      "cell_type": "code",
      "metadata": {
        "id": "JDP8v3QID8Df",
        "colab_type": "code",
        "colab": {
          "base_uri": "https://localhost:8080/",
          "height": 34
        },
        "outputId": "b8566713-8f5a-40e5-a119-93879eb0cf0f"
      },
      "source": [
        "ttest_ind(r1_sample, d1_sample)"
      ],
      "execution_count": 102,
      "outputs": [
        {
          "output_type": "execute_result",
          "data": {
            "text/plain": [
              "Ttest_indResult(statistic=-4.689817962710757, pvalue=8.856115997226252e-06)"
            ]
          },
          "metadata": {
            "tags": []
          },
          "execution_count": 102
        }
      ]
    },
    {
      "cell_type": "code",
      "metadata": {
        "id": "VFrP8f44ACUx",
        "colab_type": "code",
        "colab": {
          "base_uri": "https://localhost:8080/",
          "height": 51
        },
        "outputId": "fa69b78b-ee80-4184-b3e9-803c51d7c78c"
      },
      "source": [
        "# Calculate t stat and pvalue for issue one\n",
        "\n",
        "tstat, pvalue = ttest_ind(r1_sample, d1_sample)\n",
        "print('t stat:', f'{tstat:.3f}')\n",
        "print('pvalue:', f'{pvalue:.7f}')"
      ],
      "execution_count": 140,
      "outputs": [
        {
          "output_type": "stream",
          "text": [
            "t stat: -4.690\n",
            "pvalue: 0.0000089\n"
          ],
          "name": "stdout"
        }
      ]
    },
    {
      "cell_type": "markdown",
      "metadata": {
        "id": "VeHDYadlK3As",
        "colab_type": "text"
      },
      "source": [
        "We can reject the null hypotheses because 0.0000089 < 0.01<br/>\n",
        "\n",
        "This shows that the Republican party sample favored this issue much more that the democrats.<br/>\n",
        "The Republicans and Democrats voting samples shared a pvalue of .000009.<br/>\n",
        "The pvalue is the probability the sample came from the same population."
      ]
    },
    {
      "cell_type": "code",
      "metadata": {
        "id": "3LIARxn2JzWn",
        "colab_type": "code",
        "colab": {
          "base_uri": "https://localhost:8080/",
          "height": 573
        },
        "outputId": "442f4c46-80e2-4b8a-aca9-ffcf3f299a81"
      },
      "source": [
        "r1_sample_df.hist();\n",
        "plt.title('Republican Vote Count Sample N=50')\n",
        "plt.xticks([0,.5,1])\n",
        "plt.xlabel('0 = No, 0.5 = Abstain, 1 = Yes')\n",
        "plt.show()\n",
        "d1_sample_df.hist();\n",
        "plt.title('Democrat Vote Count Sample N=50')\n",
        "plt.xticks([0,.5,1])\n",
        "plt.xlabel('0 = No, 0.5 = Abstain, 1 = Yes')\n",
        "plt.show()"
      ],
      "execution_count": 141,
      "outputs": [
        {
          "output_type": "display_data",
          "data": {
            "image/png": "[encoded data removed]",
            "text/plain": [
              "<Figure size 432x288 with 1 Axes>"
            ]
          },
          "metadata": {
            "tags": []
          }
        },
        {
          "output_type": "display_data",
          "data": {
            "image/png": "[encoded data removed]",
            "text/plain": [
              "<Figure size 432x288 with 1 Axes>"
            ]
          },
          "metadata": {
            "tags": []
          }
        }
      ]
    },
    {
      "cell_type": "markdown",
      "metadata": {
        "id": "o38LlLpPPC67",
        "colab_type": "text"
      },
      "source": [
        "##  aid_to_nicaraguan_contras Democrat favor"
      ]
    },
    {
      "cell_type": "code",
      "metadata": {
        "id": "QlZoRyWzPQwl",
        "colab_type": "code",
        "colab": {
          "base_uri": "https://localhost:8080/",
          "height": 221
        },
        "outputId": "d29ab725-d24f-4aff-e2a7-0b717099e004"
      },
      "source": [
        "# Create DF with criteria needed\n",
        "\n",
        "df2 = df[['class_name', 'aid_to_nicaraguan_contras']]\n",
        "print(df1.shape)\n",
        "df2.head()"
      ],
      "execution_count": 120,
      "outputs": [
        {
          "output_type": "stream",
          "text": [
            "(435, 2)\n"
          ],
          "name": "stdout"
        },
        {
          "output_type": "execute_result",
          "data": {
            "text/html": [
              "<div>\n",
              "<style scoped>\n",
              "    .dataframe tbody tr th:only-of-type {\n",
              "        vertical-align: middle;\n",
              "    }\n",
              "\n",
              "    .dataframe tbody tr th {\n",
              "        vertical-align: top;\n",
              "    }\n",
              "\n",
              "    .dataframe thead th {\n",
              "        text-align: right;\n",
              "    }\n",
              "</style>\n",
              "<table border=\"1\" class=\"dataframe\">\n",
              "  <thead>\n",
              "    <tr style=\"text-align: right;\">\n",
              "      <th></th>\n",
              "      <th>class_name</th>\n",
              "      <th>aid_to_nicaraguan_contras</th>\n",
              "    </tr>\n",
              "  </thead>\n",
              "  <tbody>\n",
              "    <tr>\n",
              "      <th>0</th>\n",
              "      <td>republican</td>\n",
              "      <td>0.0</td>\n",
              "    </tr>\n",
              "    <tr>\n",
              "      <th>1</th>\n",
              "      <td>republican</td>\n",
              "      <td>0.0</td>\n",
              "    </tr>\n",
              "    <tr>\n",
              "      <th>2</th>\n",
              "      <td>democrat</td>\n",
              "      <td>0.0</td>\n",
              "    </tr>\n",
              "    <tr>\n",
              "      <th>3</th>\n",
              "      <td>democrat</td>\n",
              "      <td>0.0</td>\n",
              "    </tr>\n",
              "    <tr>\n",
              "      <th>4</th>\n",
              "      <td>democrat</td>\n",
              "      <td>0.0</td>\n",
              "    </tr>\n",
              "  </tbody>\n",
              "</table>\n",
              "</div>"
            ],
            "text/plain": [
              "   class_name  aid_to_nicaraguan_contras\n",
              "0  republican                        0.0\n",
              "1  republican                        0.0\n",
              "2    democrat                        0.0\n",
              "3    democrat                        0.0\n",
              "4    democrat                        0.0"
            ]
          },
          "metadata": {
            "tags": []
          },
          "execution_count": 120
        }
      ]
    },
    {
      "cell_type": "code",
      "metadata": {
        "id": "-MXoj3bCPj2p",
        "colab_type": "code",
        "colab": {
          "base_uri": "https://localhost:8080/",
          "height": 357
        },
        "outputId": "8e2208bf-062e-4634-b57c-83d3a2fe2ede"
      },
      "source": [
        "# create array of dem and rep votes to sample/simulate from\n",
        "\n",
        "r2 = np.array(df2['aid_to_nicaraguan_contras'].loc[df2['class_name'] == 'republican'])\n",
        "d2 = np.array(df2['aid_to_nicaraguan_contras'].loc[df2['class_name'] == 'democrat'])\n",
        "print(r2)\n",
        "print(r2)"
      ],
      "execution_count": 123,
      "outputs": [
        {
          "output_type": "stream",
          "text": [
            "[0.  0.  0.  0.  0.  0.  0.  0.  0.  1.  0.  0.  0.  0.  0.  0.  0.  0.5\n",
            " 0.  0.  0.  0.  0.  0.  0.  0.  0.  0.  1.  0.  0.  0.  0.  0.  0.  0.\n",
            " 0.  0.  0.  0.5 0.  0.  0.  0.  0.  0.  0.  1.  0.  0.  0.  0.  0.  0.\n",
            " 0.  1.  1.  1.  0.  0.  0.  0.  0.5 0.  0.  0.  1.  1.  0.  1.  1.  0.\n",
            " 0.5 0.  0.  0.  0.  0.  0.  0.  0.  0.  0.  0.  0.  0.  0.  0.  0.  0.\n",
            " 0.  0.5 0.  0.  0.5 0.  0.  0.  0.  0.  0.  1.  1.  0.  0.  1.  0.  0.\n",
            " 1.  0.  0.  0.5 0.  1.  0.  0.  0.  0.  0.  0.  0.  0.  1.  0.5 0.  0.\n",
            " 0.  0.  0.  0.  0.  0.  0.  0.  1.  1.  0.  1.  0.  0.  0.  0.  0.  0.\n",
            " 0.  0.5 0.  0.  0.  1.  0.  0.5 0.  1.  0.  0.  0.  0.  0.  0.  1.  0.\n",
            " 1.  1.  0.  0.  0.5 0. ]\n",
            "[0.  0.  0.  0.  0.  0.  0.  0.  0.  1.  0.  0.  0.  0.  0.  0.  0.  0.5\n",
            " 0.  0.  0.  0.  0.  0.  0.  0.  0.  0.  1.  0.  0.  0.  0.  0.  0.  0.\n",
            " 0.  0.  0.  0.5 0.  0.  0.  0.  0.  0.  0.  1.  0.  0.  0.  0.  0.  0.\n",
            " 0.  1.  1.  1.  0.  0.  0.  0.  0.5 0.  0.  0.  1.  1.  0.  1.  1.  0.\n",
            " 0.5 0.  0.  0.  0.  0.  0.  0.  0.  0.  0.  0.  0.  0.  0.  0.  0.  0.\n",
            " 0.  0.5 0.  0.  0.5 0.  0.  0.  0.  0.  0.  1.  1.  0.  0.  1.  0.  0.\n",
            " 1.  0.  0.  0.5 0.  1.  0.  0.  0.  0.  0.  0.  0.  0.  1.  0.5 0.  0.\n",
            " 0.  0.  0.  0.  0.  0.  0.  0.  1.  1.  0.  1.  0.  0.  0.  0.  0.  0.\n",
            " 0.  0.5 0.  0.  0.  1.  0.  0.5 0.  1.  0.  0.  0.  0.  0.  0.  1.  0.\n",
            " 1.  1.  0.  0.  0.5 0. ]\n"
          ],
          "name": "stdout"
        }
      ]
    },
    {
      "cell_type": "code",
      "metadata": {
        "id": "U3YQb_DFP7-o",
        "colab_type": "code",
        "colab": {
          "base_uri": "https://localhost:8080/",
          "height": 51
        },
        "outputId": "bbdd046f-e0b9-41b2-c4fe-f789ad383a27"
      },
      "source": [
        "# Create Samples with replacement\n",
        "\n",
        "r2_sample = bootstrap_sample(r2)\n",
        "d2_sample = bootstrap_sample(d2)\n",
        "\n",
        "print(mean(r2_sample))\n",
        "mean(r2)"
      ],
      "execution_count": 124,
      "outputs": [
        {
          "output_type": "stream",
          "text": [
            "0.15\n"
          ],
          "name": "stdout"
        },
        {
          "output_type": "execute_result",
          "data": {
            "text/plain": [
              "0.17559523809523808"
            ]
          },
          "metadata": {
            "tags": []
          },
          "execution_count": 124
        }
      ]
    },
    {
      "cell_type": "code",
      "metadata": {
        "id": "ilk6HVi9QJYX",
        "colab_type": "code",
        "colab": {
          "base_uri": "https://localhost:8080/",
          "height": 221
        },
        "outputId": "bfcdf800-81ef-4599-ca53-662f24faf43e"
      },
      "source": [
        "r2_sample_df = pd.DataFrame(r2_sample)\n",
        "d2_sample_df = pd.DataFrame(d2_sample)\n",
        "\n",
        "print(r2_sample_df.shape)\n",
        "r2_sample_df.head()"
      ],
      "execution_count": 125,
      "outputs": [
        {
          "output_type": "stream",
          "text": [
            "(50, 1)\n"
          ],
          "name": "stdout"
        },
        {
          "output_type": "execute_result",
          "data": {
            "text/html": [
              "<div>\n",
              "<style scoped>\n",
              "    .dataframe tbody tr th:only-of-type {\n",
              "        vertical-align: middle;\n",
              "    }\n",
              "\n",
              "    .dataframe tbody tr th {\n",
              "        vertical-align: top;\n",
              "    }\n",
              "\n",
              "    .dataframe thead th {\n",
              "        text-align: right;\n",
              "    }\n",
              "</style>\n",
              "<table border=\"1\" class=\"dataframe\">\n",
              "  <thead>\n",
              "    <tr style=\"text-align: right;\">\n",
              "      <th></th>\n",
              "      <th>0</th>\n",
              "    </tr>\n",
              "  </thead>\n",
              "  <tbody>\n",
              "    <tr>\n",
              "      <th>0</th>\n",
              "      <td>0.0</td>\n",
              "    </tr>\n",
              "    <tr>\n",
              "      <th>1</th>\n",
              "      <td>0.0</td>\n",
              "    </tr>\n",
              "    <tr>\n",
              "      <th>2</th>\n",
              "      <td>0.0</td>\n",
              "    </tr>\n",
              "    <tr>\n",
              "      <th>3</th>\n",
              "      <td>0.0</td>\n",
              "    </tr>\n",
              "    <tr>\n",
              "      <th>4</th>\n",
              "      <td>0.0</td>\n",
              "    </tr>\n",
              "  </tbody>\n",
              "</table>\n",
              "</div>"
            ],
            "text/plain": [
              "     0\n",
              "0  0.0\n",
              "1  0.0\n",
              "2  0.0\n",
              "3  0.0\n",
              "4  0.0"
            ]
          },
          "metadata": {
            "tags": []
          },
          "execution_count": 125
        }
      ]
    },
    {
      "cell_type": "code",
      "metadata": {
        "id": "LbI457tcQRgN",
        "colab_type": "code",
        "colab": {
          "base_uri": "https://localhost:8080/",
          "height": 204
        },
        "outputId": "576fb61e-ff14-4ab0-d29f-213c7c320e41"
      },
      "source": [
        "print('republican mean:', r2_sample_df.mean())\n",
        "print('republican st Dev:', r2_sample_df.std())\n",
        "print(r2_sample_df.shape)\n",
        "\n",
        "print('---' * 10)\n",
        "\n",
        "print('democrat mean:', d2_sample_df.mean())\n",
        "print('democrat st Dev:', d2_sample_df.std())\n",
        "print(d2_sample_df.shape)"
      ],
      "execution_count": 126,
      "outputs": [
        {
          "output_type": "stream",
          "text": [
            "republican mean: 0    0.15\n",
            "dtype: float64\n",
            "republican st Dev: 0    0.338815\n",
            "dtype: float64\n",
            "(50, 1)\n",
            "------------------------------\n",
            "democrat mean: 0    0.86\n",
            "dtype: float64\n",
            "democrat st Dev: 0    0.35051\n",
            "dtype: float64\n",
            "(50, 1)\n"
          ],
          "name": "stdout"
        }
      ]
    },
    {
      "cell_type": "code",
      "metadata": {
        "id": "YG_RHwSgQfPl",
        "colab_type": "code",
        "colab": {
          "base_uri": "https://localhost:8080/",
          "height": 51
        },
        "outputId": "24b5c519-66ad-4325-b8ee-657ead7a617d"
      },
      "source": [
        "# Calculate t stat and pvalue for issue one\n",
        "\n",
        "tstat, pvalue = ttest_ind(r2_sample, d2_sample)\n",
        "print('t stat:', f'{tstat:.3f}')\n",
        "print('pvalue:', f'{pvalue:.18f}')"
      ],
      "execution_count": 139,
      "outputs": [
        {
          "output_type": "stream",
          "text": [
            "t stat: -10.298\n",
            "pvalue: 0.000000000000000027\n"
          ],
          "name": "stdout"
        }
      ]
    },
    {
      "cell_type": "markdown",
      "metadata": {
        "id": "ce3xY5nnQdcl",
        "colab_type": "text"
      },
      "source": [
        "We can reject the null hypotheses because 0.000000000000000027 < 0.01<br/>\n",
        "\n",
        "This shows that the Democratic party sample favored this issue much more that the Republicans.<br/>\n",
        "The Republicans and Democrats voting samples shared a pvalue of .000009.<br/>\n",
        "The pvalue is the probability the sample came from the same population."
      ]
    },
    {
      "cell_type": "markdown",
      "metadata": {
        "id": "AU06k5iiSlk7",
        "colab_type": "text"
      },
      "source": [
        "##  water_project_cost_sharing Bi-partesian"
      ]
    },
    {
      "cell_type": "code",
      "metadata": {
        "id": "-nW4PsoHRxaO",
        "colab_type": "code",
        "colab": {
          "base_uri": "https://localhost:8080/",
          "height": 221
        },
        "outputId": "c0433868-0c76-43e1-b93c-6d1282d19358"
      },
      "source": [
        "# Create DF with criteria needed\n",
        "\n",
        "df3 = df[['class_name', 'water_project_cost_sharing']]\n",
        "print(df3.shape)\n",
        "df3.head()"
      ],
      "execution_count": 142,
      "outputs": [
        {
          "output_type": "stream",
          "text": [
            "(435, 2)\n"
          ],
          "name": "stdout"
        },
        {
          "output_type": "execute_result",
          "data": {
            "text/html": [
              "<div>\n",
              "<style scoped>\n",
              "    .dataframe tbody tr th:only-of-type {\n",
              "        vertical-align: middle;\n",
              "    }\n",
              "\n",
              "    .dataframe tbody tr th {\n",
              "        vertical-align: top;\n",
              "    }\n",
              "\n",
              "    .dataframe thead th {\n",
              "        text-align: right;\n",
              "    }\n",
              "</style>\n",
              "<table border=\"1\" class=\"dataframe\">\n",
              "  <thead>\n",
              "    <tr style=\"text-align: right;\">\n",
              "      <th></th>\n",
              "      <th>class_name</th>\n",
              "      <th>water_project_cost_sharing</th>\n",
              "    </tr>\n",
              "  </thead>\n",
              "  <tbody>\n",
              "    <tr>\n",
              "      <th>0</th>\n",
              "      <td>republican</td>\n",
              "      <td>1.0</td>\n",
              "    </tr>\n",
              "    <tr>\n",
              "      <th>1</th>\n",
              "      <td>republican</td>\n",
              "      <td>1.0</td>\n",
              "    </tr>\n",
              "    <tr>\n",
              "      <th>2</th>\n",
              "      <td>democrat</td>\n",
              "      <td>1.0</td>\n",
              "    </tr>\n",
              "    <tr>\n",
              "      <th>3</th>\n",
              "      <td>democrat</td>\n",
              "      <td>1.0</td>\n",
              "    </tr>\n",
              "    <tr>\n",
              "      <th>4</th>\n",
              "      <td>democrat</td>\n",
              "      <td>1.0</td>\n",
              "    </tr>\n",
              "  </tbody>\n",
              "</table>\n",
              "</div>"
            ],
            "text/plain": [
              "   class_name  water_project_cost_sharing\n",
              "0  republican                         1.0\n",
              "1  republican                         1.0\n",
              "2    democrat                         1.0\n",
              "3    democrat                         1.0\n",
              "4    democrat                         1.0"
            ]
          },
          "metadata": {
            "tags": []
          },
          "execution_count": 142
        }
      ]
    },
    {
      "cell_type": "code",
      "metadata": {
        "id": "o1G59sVBS-r3",
        "colab_type": "code",
        "colab": {
          "base_uri": "https://localhost:8080/",
          "height": 357
        },
        "outputId": "beb3091a-4ef9-4e37-e1f7-05b4aa2973d5"
      },
      "source": [
        "# create array of dem and rep votes to sample/simulate from\n",
        "\n",
        "r3 = np.array(df3['water_project_cost_sharing'].loc[df3['class_name'] == 'republican'])\n",
        "d3 = np.array(df3['water_project_cost_sharing'].loc[df3['class_name'] == 'democrat'])\n",
        "print(r3)\n",
        "print(r3)"
      ],
      "execution_count": 143,
      "outputs": [
        {
          "output_type": "stream",
          "text": [
            "[1.  1.  1.  1.  1.  1.  1.  1.  1.  0.  1.  1.  1.  0.5 1.  1.  0.5 1.\n",
            " 1.  1.  1.  1.  1.  1.  1.  1.  1.  1.  1.  0.  0.  0.  0.  0.5 0.  0.\n",
            " 0.  0.  1.  0.5 0.5 0.5 1.  0.  0.5 0.5 0.  0.5 0.5 0.5 0.  0.  0.  0.\n",
            " 1.  0.  0.  0.  1.  1.  1.  1.  1.  1.  1.  1.  0.  0.  0.5 0.  0.5 0.5\n",
            " 1.  0.  0.5 0.  0.  0.5 1.  1.  1.  0.  1.  0.5 1.  1.  1.  1.  1.  0.\n",
            " 0.  0.  0.  1.  0.5 1.  1.  1.  0.  0.  0.  0.  0.  0.  0.  0.  0.  0.\n",
            " 0.  0.  0.  1.  0.  0.  0.  0.  1.  0.  0.  0.  0.  1.  1.  1.  1.  1.\n",
            " 1.  0.  0.  0.  0.  0.  0.  0.  1.  0.  0.  0.  0.  0.  0.  1.  1.  1.\n",
            " 1.  1.  0.  0.  1.  0.5 1.  1.  1.  0.  1.  1.  0.  0.  0.  0.  1.  1.\n",
            " 1.  0.  0.  0.5 0.  1. ]\n",
            "[1.  1.  1.  1.  1.  1.  1.  1.  1.  0.  1.  1.  1.  0.5 1.  1.  0.5 1.\n",
            " 1.  1.  1.  1.  1.  1.  1.  1.  1.  1.  1.  0.  0.  0.  0.  0.5 0.  0.\n",
            " 0.  0.  1.  0.5 0.5 0.5 1.  0.  0.5 0.5 0.  0.5 0.5 0.5 0.  0.  0.  0.\n",
            " 1.  0.  0.  0.  1.  1.  1.  1.  1.  1.  1.  1.  0.  0.  0.5 0.  0.5 0.5\n",
            " 1.  0.  0.5 0.  0.  0.5 1.  1.  1.  0.  1.  0.5 1.  1.  1.  1.  1.  0.\n",
            " 0.  0.  0.  1.  0.5 1.  1.  1.  0.  0.  0.  0.  0.  0.  0.  0.  0.  0.\n",
            " 0.  0.  0.  1.  0.  0.  0.  0.  1.  0.  0.  0.  0.  1.  1.  1.  1.  1.\n",
            " 1.  0.  0.  0.  0.  0.  0.  0.  1.  0.  0.  0.  0.  0.  0.  1.  1.  1.\n",
            " 1.  1.  0.  0.  1.  0.5 1.  1.  1.  0.  1.  1.  0.  0.  0.  0.  1.  1.\n",
            " 1.  0.  0.  0.5 0.  1. ]\n"
          ],
          "name": "stdout"
        }
      ]
    },
    {
      "cell_type": "code",
      "metadata": {
        "id": "MyEdMqAPTIKw",
        "colab_type": "code",
        "colab": {
          "base_uri": "https://localhost:8080/",
          "height": 51
        },
        "outputId": "a3b7ef1a-056b-4d02-a130-06e77f47f62a"
      },
      "source": [
        "# Create Samples with replacement\n",
        "\n",
        "r3_sample = bootstrap_sample(r3)\n",
        "d3_sample = bootstrap_sample(d3)\n",
        "\n",
        "print(mean(r3_sample))\n",
        "mean(r3)"
      ],
      "execution_count": 144,
      "outputs": [
        {
          "output_type": "stream",
          "text": [
            "0.49\n"
          ],
          "name": "stdout"
        },
        {
          "output_type": "execute_result",
          "data": {
            "text/plain": [
              "0.5059523809523809"
            ]
          },
          "metadata": {
            "tags": []
          },
          "execution_count": 144
        }
      ]
    },
    {
      "cell_type": "code",
      "metadata": {
        "id": "Ktbi3Op8TRh5",
        "colab_type": "code",
        "colab": {
          "base_uri": "https://localhost:8080/",
          "height": 221
        },
        "outputId": "39742cf8-3b64-420e-849d-91764b1f5569"
      },
      "source": [
        "r3_sample_df = pd.DataFrame(r3_sample)\n",
        "d3_sample_df = pd.DataFrame(d3_sample)\n",
        "\n",
        "print(r3_sample_df.shape)\n",
        "r3_sample_df.head()"
      ],
      "execution_count": 145,
      "outputs": [
        {
          "output_type": "stream",
          "text": [
            "(50, 1)\n"
          ],
          "name": "stdout"
        },
        {
          "output_type": "execute_result",
          "data": {
            "text/html": [
              "<div>\n",
              "<style scoped>\n",
              "    .dataframe tbody tr th:only-of-type {\n",
              "        vertical-align: middle;\n",
              "    }\n",
              "\n",
              "    .dataframe tbody tr th {\n",
              "        vertical-align: top;\n",
              "    }\n",
              "\n",
              "    .dataframe thead th {\n",
              "        text-align: right;\n",
              "    }\n",
              "</style>\n",
              "<table border=\"1\" class=\"dataframe\">\n",
              "  <thead>\n",
              "    <tr style=\"text-align: right;\">\n",
              "      <th></th>\n",
              "      <th>0</th>\n",
              "    </tr>\n",
              "  </thead>\n",
              "  <tbody>\n",
              "    <tr>\n",
              "      <th>0</th>\n",
              "      <td>1.0</td>\n",
              "    </tr>\n",
              "    <tr>\n",
              "      <th>1</th>\n",
              "      <td>0.0</td>\n",
              "    </tr>\n",
              "    <tr>\n",
              "      <th>2</th>\n",
              "      <td>0.0</td>\n",
              "    </tr>\n",
              "    <tr>\n",
              "      <th>3</th>\n",
              "      <td>0.0</td>\n",
              "    </tr>\n",
              "    <tr>\n",
              "      <th>4</th>\n",
              "      <td>1.0</td>\n",
              "    </tr>\n",
              "  </tbody>\n",
              "</table>\n",
              "</div>"
            ],
            "text/plain": [
              "     0\n",
              "0  1.0\n",
              "1  0.0\n",
              "2  0.0\n",
              "3  0.0\n",
              "4  1.0"
            ]
          },
          "metadata": {
            "tags": []
          },
          "execution_count": 145
        }
      ]
    },
    {
      "cell_type": "code",
      "metadata": {
        "id": "_lMf_8qTTW9N",
        "colab_type": "code",
        "colab": {
          "base_uri": "https://localhost:8080/",
          "height": 204
        },
        "outputId": "3ee05e6b-f6ed-4a92-a7b9-6caa722463fd"
      },
      "source": [
        "print('republican mean:', r3_sample_df.mean())\n",
        "print('republican st Dev:', r3_sample_df.std())\n",
        "print(r3_sample_df.shape)\n",
        "\n",
        "print('---' * 10)\n",
        "\n",
        "print('democrat mean:', d3_sample_df.mean())\n",
        "print('democrat st Dev:', d3_sample_df.std())\n",
        "print(d3_sample_df.shape)"
      ],
      "execution_count": 146,
      "outputs": [
        {
          "output_type": "stream",
          "text": [
            "republican mean: 0    0.49\n",
            "dtype: float64\n",
            "republican st Dev: 0    0.457254\n",
            "dtype: float64\n",
            "(50, 1)\n",
            "------------------------------\n",
            "democrat mean: 0    0.48\n",
            "dtype: float64\n",
            "democrat st Dev: 0    0.484031\n",
            "dtype: float64\n",
            "(50, 1)\n"
          ],
          "name": "stdout"
        }
      ]
    },
    {
      "cell_type": "code",
      "metadata": {
        "id": "2IAmiQ6mTcrB",
        "colab_type": "code",
        "colab": {
          "base_uri": "https://localhost:8080/",
          "height": 51
        },
        "outputId": "a1700a6d-dbf7-4ab8-84c8-b72396d682b9"
      },
      "source": [
        "# Calculate t stat and pvalue for issue one\n",
        "\n",
        "tstat, pvalue = ttest_ind(r3_sample, d3_sample)\n",
        "print('t stat:', f'{tstat:.3f}')\n",
        "print('pvalue:', f'{pvalue:.2f}')"
      ],
      "execution_count": 148,
      "outputs": [
        {
          "output_type": "stream",
          "text": [
            "t stat: 0.106\n",
            "pvalue: 0.92\n"
          ],
          "name": "stdout"
        }
      ]
    },
    {
      "cell_type": "markdown",
      "metadata": {
        "id": "2ff_gDhrToip",
        "colab_type": "text"
      },
      "source": [
        "We cannot disprove the null hypotheses because 0.92 > 0.01<br/>\n",
        "\n",
        "This shows that both parties agreed on this issue.<br/>\n",
        "The Republicans and Democrats voting samples shared a pvalue of 0.92<br/>\n",
        "The pvalue is the probability the sample came from the same population."
      ]
    },
    {
      "cell_type": "markdown",
      "metadata": {
        "id": "_QMkYbr5UiUP",
        "colab_type": "text"
      },
      "source": [
        "## Stretch Goal"
      ]
    },
    {
      "cell_type": "code",
      "metadata": {
        "id": "a_kVZToSUkUl",
        "colab_type": "code",
        "colab": {}
      },
      "source": [
        ""
      ],
      "execution_count": 0,
      "outputs": []
    }
  ]
}