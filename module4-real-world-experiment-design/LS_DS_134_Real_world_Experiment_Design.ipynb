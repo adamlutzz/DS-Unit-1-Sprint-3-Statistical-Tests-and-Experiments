{
  "nbformat": 4,
  "nbformat_minor": 0,
  "metadata": {
    "colab": {
      "name": "LS_DS_144_Real_world_Experiment_Design.ipynb",
      "version": "0.3.2",
      "provenance": [],
      "include_colab_link": true
    },
    "kernelspec": {
      "name": "python3",
      "display_name": "Python 3"
    }
  },
  "cells": [
    {
      "cell_type": "markdown",
      "metadata": {
        "id": "view-in-github",
        "colab_type": "text"
      },
      "source": [
        "<a href=\"https://colab.research.google.com/github/adamlutzz/DS-Unit-1-Sprint-3-Statistical-Tests-and-Experiments/blob/master/module4-real-world-experiment-design/LS_DS_134_Real_world_Experiment_Design.ipynb\" target=\"_parent\"><img src=\"https://colab.research.google.com/assets/colab-badge.svg\" alt=\"Open In Colab\"/></a>"
      ]
    },
    {
      "cell_type": "markdown",
      "metadata": {
        "id": "meHdbCmyxDKn",
        "colab_type": "text"
      },
      "source": [
        "# Lambda School Data Science Module 144\n",
        "## Real-world Experiment Design\n",
        "\n",
        "![Induction experiment](https://upload.wikimedia.org/wikipedia/commons/1/1c/Induction_experiment.png)\n",
        "\n",
        "[Induction experiment, Wikipedia](https://commons.wikimedia.org/wiki/File:Induction_experiment.png)"
      ]
    },
    {
      "cell_type": "markdown",
      "metadata": {
        "id": "LayAf_2GxCKc",
        "colab_type": "text"
      },
      "source": [
        "## Prepare - Learn about JavaScript and Google Analytics"
      ]
    },
    {
      "cell_type": "markdown",
      "metadata": {
        "id": "tn7eCITsx5HB",
        "colab_type": "text"
      },
      "source": [
        "Python is great - but with web applications, it's impossible to avoid JavaScript. The lingua franca of the web, JavaScript runs in all browsers, and thus all front-end code must either be JS or transpiled to it. As a data scientist you don't have to learn JavaScript - but you do have to be aware of it, and being able to figure out snippets of it is an invaluable skill to connect your skills with real-world applications.\n",
        "\n",
        "So, we leave the warm comfort of Python, and venture to a bigger world - check out the [LambdaSchool/AB-Demo repo](https://github.com/LambdaSchool/AB-Demo) and [live experiment](https://lambdaschool.github.io/AB-Demo/) before class.\n",
        "\n",
        "Additionally, sign up for [Google Analytics](https://www.google.com/analytics) - if you're not sure on the steps or what \"property\" to give it, you can put a placeholder or wait until the live lecture. Google also has [Analytics documentation](https://support.google.com/analytics/) that is worth a look.\n",
        "\n",
        "Note - if you use any of the various tracker blocking techniques, it's quite likely you won't show up in Google Analytics. You'll have to disable them to be able to fully test your experiment."
      ]
    },
    {
      "cell_type": "markdown",
      "metadata": {
        "id": "RmQDF8OlxEey",
        "colab_type": "text"
      },
      "source": [
        "## Live Lecture - Using Google Analytics with a live A/B test"
      ]
    },
    {
      "cell_type": "code",
      "metadata": {
        "id": "XamYBrExXk7Y",
        "colab_type": "code",
        "colab": {
          "base_uri": "https://localhost:8080/",
          "height": 170
        },
        "outputId": "95cc7cae-85ad-4d84-ae83-d0b911ae0825"
      },
      "source": [
        "import pandas as pd\n",
        "\n",
        "df = pd.read_csv('/content/Kevin_Hillstrom_MineThatData_E-MailAnalytics_DataMiningChallenge_2008.03.20.csv')\n",
        "print(df.head())\n",
        "df.shape"
      ],
      "execution_count": 3,
      "outputs": [
        {
          "output_type": "stream",
          "text": [
            "   recency history_segment  history  ...  visit  conversion spend\n",
            "0       10  2) $100 - $200   142.44  ...      0           0   0.0\n",
            "1        6  3) $200 - $350   329.08  ...      0           0   0.0\n",
            "2        7  2) $100 - $200   180.65  ...      0           0   0.0\n",
            "3        9  5) $500 - $750   675.83  ...      0           0   0.0\n",
            "4        2    1) $0 - $100    45.34  ...      0           0   0.0\n",
            "\n",
            "[5 rows x 12 columns]\n"
          ],
          "name": "stdout"
        },
        {
          "output_type": "execute_result",
          "data": {
            "text/plain": [
              "(64000, 12)"
            ]
          },
          "metadata": {
            "tags": []
          },
          "execution_count": 3
        }
      ]
    },
    {
      "cell_type": "code",
      "metadata": {
        "id": "_uLdZcccYBUx",
        "colab_type": "code",
        "colab": {
          "base_uri": "https://localhost:8080/",
          "height": 238
        },
        "outputId": "9ede301b-e2a0-40bb-aee2-4e1de2130bef"
      },
      "source": [
        "df.isna().sum()"
      ],
      "execution_count": 4,
      "outputs": [
        {
          "output_type": "execute_result",
          "data": {
            "text/plain": [
              "recency            0\n",
              "history_segment    0\n",
              "history            0\n",
              "mens               0\n",
              "womens             0\n",
              "zip_code           0\n",
              "newbie             0\n",
              "channel            0\n",
              "segment            0\n",
              "visit              0\n",
              "conversion         0\n",
              "spend              0\n",
              "dtype: int64"
            ]
          },
          "metadata": {
            "tags": []
          },
          "execution_count": 4
        }
      ]
    },
    {
      "cell_type": "code",
      "metadata": {
        "id": "15c_IlCbYGFg",
        "colab_type": "code",
        "colab": {
          "base_uri": "https://localhost:8080/",
          "height": 85
        },
        "outputId": "76b04c48-54d5-491c-91b5-798f568bf92e"
      },
      "source": [
        "df['segment'].value_counts()"
      ],
      "execution_count": 5,
      "outputs": [
        {
          "output_type": "execute_result",
          "data": {
            "text/plain": [
              "Womens E-Mail    21387\n",
              "Mens E-Mail      21307\n",
              "No E-Mail        21306\n",
              "Name: segment, dtype: int64"
            ]
          },
          "metadata": {
            "tags": []
          },
          "execution_count": 5
        }
      ]
    },
    {
      "cell_type": "code",
      "metadata": {
        "id": "bR2LRgmnYmpk",
        "colab_type": "code",
        "colab": {
          "base_uri": "https://localhost:8080/",
          "height": 34
        },
        "outputId": "11d34a9c-d820-4650-996d-ad1bccca5450"
      },
      "source": [
        "df['visit'].mean()"
      ],
      "execution_count": 6,
      "outputs": [
        {
          "output_type": "execute_result",
          "data": {
            "text/plain": [
              "0.14678125"
            ]
          },
          "metadata": {
            "tags": []
          },
          "execution_count": 6
        }
      ]
    },
    {
      "cell_type": "code",
      "metadata": {
        "id": "0PN1x2iCYv5L",
        "colab_type": "code",
        "colab": {
          "base_uri": "https://localhost:8080/",
          "height": 102
        },
        "outputId": "0d3ddfda-961f-4841-bb16-e657a9ae3ea6"
      },
      "source": [
        "df.groupby('segment')['visit'].mean()*100"
      ],
      "execution_count": 10,
      "outputs": [
        {
          "output_type": "execute_result",
          "data": {
            "text/plain": [
              "segment\n",
              "Mens E-Mail      18.275684\n",
              "No E-Mail        10.616728\n",
              "Womens E-Mail    15.140038\n",
              "Name: visit, dtype: float64"
            ]
          },
          "metadata": {
            "tags": []
          },
          "execution_count": 10
        }
      ]
    },
    {
      "cell_type": "code",
      "metadata": {
        "id": "6drq0GbXYTRv",
        "colab_type": "code",
        "colab": {
          "base_uri": "https://localhost:8080/",
          "height": 102
        },
        "outputId": "1dc92cc1-a3d9-4f88-a4d9-bf0ab658a086"
      },
      "source": [
        "df.groupby('segment')['conversion'].mean()*100"
      ],
      "execution_count": 11,
      "outputs": [
        {
          "output_type": "execute_result",
          "data": {
            "text/plain": [
              "segment\n",
              "Mens E-Mail      1.253109\n",
              "No E-Mail        0.572609\n",
              "Womens E-Mail    0.883714\n",
              "Name: conversion, dtype: float64"
            ]
          },
          "metadata": {
            "tags": []
          },
          "execution_count": 11
        }
      ]
    },
    {
      "cell_type": "code",
      "metadata": {
        "id": "AgwtK-6qZc8F",
        "colab_type": "code",
        "colab": {
          "base_uri": "https://localhost:8080/",
          "height": 102
        },
        "outputId": "22b6a1c9-e5df-494a-f930-35d0eea93b00"
      },
      "source": [
        "df.groupby('segment')['spend'].mean()"
      ],
      "execution_count": 16,
      "outputs": [
        {
          "output_type": "execute_result",
          "data": {
            "text/plain": [
              "segment\n",
              "Mens E-Mail      1.422617\n",
              "No E-Mail        0.652789\n",
              "Womens E-Mail    1.077202\n",
              "Name: spend, dtype: float64"
            ]
          },
          "metadata": {
            "tags": []
          },
          "execution_count": 16
        }
      ]
    },
    {
      "cell_type": "code",
      "metadata": {
        "id": "KG58v-qDbB2N",
        "colab_type": "code",
        "colab": {
          "base_uri": "https://localhost:8080/",
          "height": 204
        },
        "outputId": "efdbeccf-1c5e-48d3-d5d9-6936911ebdfa"
      },
      "source": [
        "df['spend_bins']=pd.cut(df['spend'],[-0.01,100,200,300,400,500])\n",
        "df.head()\n"
      ],
      "execution_count": 28,
      "outputs": [
        {
          "output_type": "execute_result",
          "data": {
            "text/html": [
              "<div>\n",
              "<style scoped>\n",
              "    .dataframe tbody tr th:only-of-type {\n",
              "        vertical-align: middle;\n",
              "    }\n",
              "\n",
              "    .dataframe tbody tr th {\n",
              "        vertical-align: top;\n",
              "    }\n",
              "\n",
              "    .dataframe thead th {\n",
              "        text-align: right;\n",
              "    }\n",
              "</style>\n",
              "<table border=\"1\" class=\"dataframe\">\n",
              "  <thead>\n",
              "    <tr style=\"text-align: right;\">\n",
              "      <th></th>\n",
              "      <th>recency</th>\n",
              "      <th>history_segment</th>\n",
              "      <th>history</th>\n",
              "      <th>mens</th>\n",
              "      <th>womens</th>\n",
              "      <th>zip_code</th>\n",
              "      <th>newbie</th>\n",
              "      <th>channel</th>\n",
              "      <th>segment</th>\n",
              "      <th>visit</th>\n",
              "      <th>conversion</th>\n",
              "      <th>spend</th>\n",
              "      <th>spend_bins</th>\n",
              "    </tr>\n",
              "  </thead>\n",
              "  <tbody>\n",
              "    <tr>\n",
              "      <th>0</th>\n",
              "      <td>10</td>\n",
              "      <td>2) $100 - $200</td>\n",
              "      <td>142.44</td>\n",
              "      <td>1</td>\n",
              "      <td>0</td>\n",
              "      <td>Surburban</td>\n",
              "      <td>0</td>\n",
              "      <td>Phone</td>\n",
              "      <td>Womens E-Mail</td>\n",
              "      <td>0</td>\n",
              "      <td>0</td>\n",
              "      <td>0.0</td>\n",
              "      <td>(-0.01, 100.0]</td>\n",
              "    </tr>\n",
              "    <tr>\n",
              "      <th>1</th>\n",
              "      <td>6</td>\n",
              "      <td>3) $200 - $350</td>\n",
              "      <td>329.08</td>\n",
              "      <td>1</td>\n",
              "      <td>1</td>\n",
              "      <td>Rural</td>\n",
              "      <td>1</td>\n",
              "      <td>Web</td>\n",
              "      <td>No E-Mail</td>\n",
              "      <td>0</td>\n",
              "      <td>0</td>\n",
              "      <td>0.0</td>\n",
              "      <td>(-0.01, 100.0]</td>\n",
              "    </tr>\n",
              "    <tr>\n",
              "      <th>2</th>\n",
              "      <td>7</td>\n",
              "      <td>2) $100 - $200</td>\n",
              "      <td>180.65</td>\n",
              "      <td>0</td>\n",
              "      <td>1</td>\n",
              "      <td>Surburban</td>\n",
              "      <td>1</td>\n",
              "      <td>Web</td>\n",
              "      <td>Womens E-Mail</td>\n",
              "      <td>0</td>\n",
              "      <td>0</td>\n",
              "      <td>0.0</td>\n",
              "      <td>(-0.01, 100.0]</td>\n",
              "    </tr>\n",
              "    <tr>\n",
              "      <th>3</th>\n",
              "      <td>9</td>\n",
              "      <td>5) $500 - $750</td>\n",
              "      <td>675.83</td>\n",
              "      <td>1</td>\n",
              "      <td>0</td>\n",
              "      <td>Rural</td>\n",
              "      <td>1</td>\n",
              "      <td>Web</td>\n",
              "      <td>Mens E-Mail</td>\n",
              "      <td>0</td>\n",
              "      <td>0</td>\n",
              "      <td>0.0</td>\n",
              "      <td>(-0.01, 100.0]</td>\n",
              "    </tr>\n",
              "    <tr>\n",
              "      <th>4</th>\n",
              "      <td>2</td>\n",
              "      <td>1) $0 - $100</td>\n",
              "      <td>45.34</td>\n",
              "      <td>1</td>\n",
              "      <td>0</td>\n",
              "      <td>Urban</td>\n",
              "      <td>0</td>\n",
              "      <td>Web</td>\n",
              "      <td>Womens E-Mail</td>\n",
              "      <td>0</td>\n",
              "      <td>0</td>\n",
              "      <td>0.0</td>\n",
              "      <td>(-0.01, 100.0]</td>\n",
              "    </tr>\n",
              "  </tbody>\n",
              "</table>\n",
              "</div>"
            ],
            "text/plain": [
              "   recency history_segment  history  ...  conversion  spend      spend_bins\n",
              "0       10  2) $100 - $200   142.44  ...           0    0.0  (-0.01, 100.0]\n",
              "1        6  3) $200 - $350   329.08  ...           0    0.0  (-0.01, 100.0]\n",
              "2        7  2) $100 - $200   180.65  ...           0    0.0  (-0.01, 100.0]\n",
              "3        9  5) $500 - $750   675.83  ...           0    0.0  (-0.01, 100.0]\n",
              "4        2    1) $0 - $100    45.34  ...           0    0.0  (-0.01, 100.0]\n",
              "\n",
              "[5 rows x 13 columns]"
            ]
          },
          "metadata": {
            "tags": []
          },
          "execution_count": 28
        }
      ]
    },
    {
      "cell_type": "markdown",
      "metadata": {
        "id": "C-uO6iZQCT2l",
        "colab_type": "text"
      },
      "source": [
        "Again we won't do much Python here, but we'll put a few notes and results in the notebook as we go."
      ]
    },
    {
      "cell_type": "markdown",
      "metadata": {
        "id": "n0btUZvwxE_T",
        "colab_type": "text"
      },
      "source": [
        "## Assignment - Set up your own A/B test!"
      ]
    },
    {
      "cell_type": "markdown",
      "metadata": {
        "id": "U427Ao84Cfpx",
        "colab_type": "text"
      },
      "source": [
        "For a baseline, a straight fork of the Lambda School repo is OK. Getting that working with your own Analytics profile is already a task. But if you get through that, stretch goals:\n",
        "\n",
        "1. Explore Google Analytics - it's big and changes frequently, but powerful (can track conversions and events, flows, etc.)\n",
        "2. Customize the experiment to be more interesting/different (try colors!)\n",
        "3. Check out the various tools for setting up A/B experiments (e.g. [Optimizely](https://www.optimizely.com/) and [alternatives](https://alternativeto.net/software/optimizely/))\n",
        "4. Try to get enough traffic to actually have more real data (don't spam people, but do share with friends)\n",
        "5. If you do get more traffic, don't just apply a t-test - dig into the results and use both math and writing to describe your findings\n",
        "\n",
        "Additionally, today it is a good idea to go back and review the frequentist hypothesis testing material from the first two modules. And if you feel on top of things - you can use your newfound GitHub Pages and Google Analytics skills to build/iterate a portfolio page, and maybe even instrument it with Analytics!"
      ]
    },
    {
      "cell_type": "markdown",
      "metadata": {
        "id": "R2zgFT0cxBzy",
        "colab_type": "text"
      },
      "source": [
        "## Resources"
      ]
    },
    {
      "cell_type": "markdown",
      "metadata": {
        "id": "QVnoP22VxVyC",
        "colab_type": "text"
      },
      "source": [
        "- [Demo Google Analytics Data](https://support.google.com/analytics/answer/6367342?hl=en) - an Analytics profile you can add to your account with real data from the Google swag store\n",
        "- [Design of Experiment](https://explorable.com/design-of-experiment) - an essay summarizing some of the things to be aware of when designing and running an experiment"
      ]
    }
  ]
}